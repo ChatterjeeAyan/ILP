{
 "cells": [
  {
   "cell_type": "markdown",
   "metadata": {},
   "source": [
    "# Imports"
   ]
  },
  {
   "cell_type": "code",
   "execution_count": 66,
   "metadata": {},
   "outputs": [],
   "source": [
    "import pandas as pd\n",
    "from tqdm import tqdm\n",
    "import numpy as np\n",
    "import networkx as nx\n",
    "from node2vec import Node2Vec\n",
    "from sklearn.neural_network import MLPClassifier\n",
    "from sklearn.metrics import roc_auc_score\n",
    "from sklearn.metrics import average_precision_score\n",
    "from sklearn.metrics.cluster import adjusted_mutual_info_score\n",
    "from sklearn.cluster import KMeans\n",
    "from sklearn.metrics import davies_bouldin_score"
   ]
  },
  {
   "cell_type": "markdown",
   "metadata": {},
   "source": [
    "# Load data"
   ]
  },
  {
   "cell_type": "code",
   "execution_count": 3,
   "metadata": {},
   "outputs": [],
   "source": [
    "soc_reddit_body = pd.read_csv('soc-redditHyperlinks-body.tsv', sep='\\t')"
   ]
  },
  {
   "cell_type": "code",
   "execution_count": 4,
   "metadata": {},
   "outputs": [
    {
     "data": {
      "text/html": [
       "<div>\n",
       "<style scoped>\n",
       "    .dataframe tbody tr th:only-of-type {\n",
       "        vertical-align: middle;\n",
       "    }\n",
       "\n",
       "    .dataframe tbody tr th {\n",
       "        vertical-align: top;\n",
       "    }\n",
       "\n",
       "    .dataframe thead th {\n",
       "        text-align: right;\n",
       "    }\n",
       "</style>\n",
       "<table border=\"1\" class=\"dataframe\">\n",
       "  <thead>\n",
       "    <tr style=\"text-align: right;\">\n",
       "      <th></th>\n",
       "      <th>SOURCE_SUBREDDIT</th>\n",
       "      <th>TARGET_SUBREDDIT</th>\n",
       "      <th>POST_ID</th>\n",
       "      <th>TIMESTAMP</th>\n",
       "      <th>LINK_SENTIMENT</th>\n",
       "      <th>PROPERTIES</th>\n",
       "    </tr>\n",
       "  </thead>\n",
       "  <tbody>\n",
       "    <tr>\n",
       "      <th>0</th>\n",
       "      <td>leagueoflegends</td>\n",
       "      <td>teamredditteams</td>\n",
       "      <td>1u4nrps</td>\n",
       "      <td>2013-12-31 16:39:58</td>\n",
       "      <td>1</td>\n",
       "      <td>345.0,298.0,0.75652173913,0.0173913043478,0.08...</td>\n",
       "    </tr>\n",
       "    <tr>\n",
       "      <th>1</th>\n",
       "      <td>theredlion</td>\n",
       "      <td>soccer</td>\n",
       "      <td>1u4qkd</td>\n",
       "      <td>2013-12-31 18:18:37</td>\n",
       "      <td>-1</td>\n",
       "      <td>101.0,98.0,0.742574257426,0.019801980198,0.049...</td>\n",
       "    </tr>\n",
       "    <tr>\n",
       "      <th>2</th>\n",
       "      <td>inlandempire</td>\n",
       "      <td>bikela</td>\n",
       "      <td>1u4qlzs</td>\n",
       "      <td>2014-01-01 14:54:35</td>\n",
       "      <td>1</td>\n",
       "      <td>85.0,85.0,0.752941176471,0.0235294117647,0.082...</td>\n",
       "    </tr>\n",
       "    <tr>\n",
       "      <th>3</th>\n",
       "      <td>nfl</td>\n",
       "      <td>cfb</td>\n",
       "      <td>1u4sjvs</td>\n",
       "      <td>2013-12-31 17:37:55</td>\n",
       "      <td>1</td>\n",
       "      <td>1124.0,949.0,0.772241992883,0.0017793594306,0....</td>\n",
       "    </tr>\n",
       "    <tr>\n",
       "      <th>4</th>\n",
       "      <td>playmygame</td>\n",
       "      <td>gamedev</td>\n",
       "      <td>1u4w5ss</td>\n",
       "      <td>2014-01-01 02:51:13</td>\n",
       "      <td>1</td>\n",
       "      <td>715.0,622.0,0.777622377622,0.00699300699301,0....</td>\n",
       "    </tr>\n",
       "  </tbody>\n",
       "</table>\n",
       "</div>"
      ],
      "text/plain": [
       "  SOURCE_SUBREDDIT TARGET_SUBREDDIT  POST_ID            TIMESTAMP  \\\n",
       "0  leagueoflegends  teamredditteams  1u4nrps  2013-12-31 16:39:58   \n",
       "1       theredlion           soccer   1u4qkd  2013-12-31 18:18:37   \n",
       "2     inlandempire           bikela  1u4qlzs  2014-01-01 14:54:35   \n",
       "3              nfl              cfb  1u4sjvs  2013-12-31 17:37:55   \n",
       "4       playmygame          gamedev  1u4w5ss  2014-01-01 02:51:13   \n",
       "\n",
       "   LINK_SENTIMENT                                         PROPERTIES  \n",
       "0               1  345.0,298.0,0.75652173913,0.0173913043478,0.08...  \n",
       "1              -1  101.0,98.0,0.742574257426,0.019801980198,0.049...  \n",
       "2               1  85.0,85.0,0.752941176471,0.0235294117647,0.082...  \n",
       "3               1  1124.0,949.0,0.772241992883,0.0017793594306,0....  \n",
       "4               1  715.0,622.0,0.777622377622,0.00699300699301,0....  "
      ]
     },
     "execution_count": 4,
     "metadata": {},
     "output_type": "execute_result"
    }
   ],
   "source": [
    "soc_reddit_body.head()"
   ]
  },
  {
   "cell_type": "code",
   "execution_count": 5,
   "metadata": {},
   "outputs": [],
   "source": [
    "embed_subreddit = pd.read_csv('web-redditEmbeddings-subreddits.csv')"
   ]
  },
  {
   "cell_type": "code",
   "execution_count": 6,
   "metadata": {},
   "outputs": [
    {
     "data": {
      "text/html": [
       "<div>\n",
       "<style scoped>\n",
       "    .dataframe tbody tr th:only-of-type {\n",
       "        vertical-align: middle;\n",
       "    }\n",
       "\n",
       "    .dataframe tbody tr th {\n",
       "        vertical-align: top;\n",
       "    }\n",
       "\n",
       "    .dataframe thead th {\n",
       "        text-align: right;\n",
       "    }\n",
       "</style>\n",
       "<table border=\"1\" class=\"dataframe\">\n",
       "  <thead>\n",
       "    <tr style=\"text-align: right;\">\n",
       "      <th></th>\n",
       "      <th>spiders</th>\n",
       "      <th>0.158972</th>\n",
       "      <th>0.285813</th>\n",
       "      <th>0.226329</th>\n",
       "      <th>-0.183338</th>\n",
       "      <th>-0.163159</th>\n",
       "      <th>-0.18891</th>\n",
       "      <th>0.422705</th>\n",
       "      <th>0.168602</th>\n",
       "      <th>0.178193</th>\n",
       "      <th>...</th>\n",
       "      <th>-0.025041</th>\n",
       "      <th>0.184655</th>\n",
       "      <th>0.111942</th>\n",
       "      <th>-1.125799</th>\n",
       "      <th>0.223129</th>\n",
       "      <th>-0.387323</th>\n",
       "      <th>-0.234882</th>\n",
       "      <th>-0.252297</th>\n",
       "      <th>-0.054315</th>\n",
       "      <th>0.500009</th>\n",
       "    </tr>\n",
       "  </thead>\n",
       "  <tbody>\n",
       "    <tr>\n",
       "      <th>0</th>\n",
       "      <td>askreddit</td>\n",
       "      <td>-0.499114</td>\n",
       "      <td>0.323983</td>\n",
       "      <td>-0.424809</td>\n",
       "      <td>-0.222705</td>\n",
       "      <td>-0.327201</td>\n",
       "      <td>0.412856</td>\n",
       "      <td>1.040088</td>\n",
       "      <td>0.996697</td>\n",
       "      <td>-1.256240</td>\n",
       "      <td>...</td>\n",
       "      <td>0.072151</td>\n",
       "      <td>0.226658</td>\n",
       "      <td>0.535705</td>\n",
       "      <td>0.039861</td>\n",
       "      <td>-0.027087</td>\n",
       "      <td>-0.239952</td>\n",
       "      <td>0.554510</td>\n",
       "      <td>0.676439</td>\n",
       "      <td>-0.328846</td>\n",
       "      <td>0.941547</td>\n",
       "    </tr>\n",
       "    <tr>\n",
       "      <th>1</th>\n",
       "      <td>globaloffensivetrade</td>\n",
       "      <td>-0.023145</td>\n",
       "      <td>-1.199374</td>\n",
       "      <td>1.661484</td>\n",
       "      <td>-1.025296</td>\n",
       "      <td>1.424670</td>\n",
       "      <td>-1.179507</td>\n",
       "      <td>-1.035703</td>\n",
       "      <td>0.329301</td>\n",
       "      <td>-0.567272</td>\n",
       "      <td>...</td>\n",
       "      <td>2.998430</td>\n",
       "      <td>-1.235703</td>\n",
       "      <td>-0.326850</td>\n",
       "      <td>4.381238</td>\n",
       "      <td>-1.965378</td>\n",
       "      <td>-2.369674</td>\n",
       "      <td>-0.615389</td>\n",
       "      <td>2.010601</td>\n",
       "      <td>-0.919314</td>\n",
       "      <td>-2.149625</td>\n",
       "    </tr>\n",
       "    <tr>\n",
       "      <th>2</th>\n",
       "      <td>fireteams</td>\n",
       "      <td>2.492506</td>\n",
       "      <td>-2.529917</td>\n",
       "      <td>-0.448484</td>\n",
       "      <td>-3.543441</td>\n",
       "      <td>-0.586122</td>\n",
       "      <td>-0.101517</td>\n",
       "      <td>1.837567</td>\n",
       "      <td>-0.215715</td>\n",
       "      <td>-2.460388</td>\n",
       "      <td>...</td>\n",
       "      <td>-1.875214</td>\n",
       "      <td>0.969291</td>\n",
       "      <td>0.497958</td>\n",
       "      <td>2.941132</td>\n",
       "      <td>2.423561</td>\n",
       "      <td>1.315691</td>\n",
       "      <td>-0.959618</td>\n",
       "      <td>0.151845</td>\n",
       "      <td>-0.852492</td>\n",
       "      <td>-0.467526</td>\n",
       "    </tr>\n",
       "    <tr>\n",
       "      <th>3</th>\n",
       "      <td>funny</td>\n",
       "      <td>-0.819370</td>\n",
       "      <td>-0.865261</td>\n",
       "      <td>0.301753</td>\n",
       "      <td>0.018787</td>\n",
       "      <td>0.201029</td>\n",
       "      <td>0.070462</td>\n",
       "      <td>0.903895</td>\n",
       "      <td>1.038460</td>\n",
       "      <td>-0.306950</td>\n",
       "      <td>...</td>\n",
       "      <td>1.364194</td>\n",
       "      <td>0.830233</td>\n",
       "      <td>-0.137822</td>\n",
       "      <td>-2.204667</td>\n",
       "      <td>-0.162008</td>\n",
       "      <td>0.390291</td>\n",
       "      <td>-0.556404</td>\n",
       "      <td>0.322684</td>\n",
       "      <td>0.641634</td>\n",
       "      <td>1.320716</td>\n",
       "    </tr>\n",
       "    <tr>\n",
       "      <th>4</th>\n",
       "      <td>the_donald</td>\n",
       "      <td>-0.123265</td>\n",
       "      <td>-0.610208</td>\n",
       "      <td>0.361495</td>\n",
       "      <td>-1.171773</td>\n",
       "      <td>0.367407</td>\n",
       "      <td>0.624919</td>\n",
       "      <td>2.420601</td>\n",
       "      <td>-0.447998</td>\n",
       "      <td>1.393862</td>\n",
       "      <td>...</td>\n",
       "      <td>0.981761</td>\n",
       "      <td>1.044754</td>\n",
       "      <td>-2.334628</td>\n",
       "      <td>-0.005856</td>\n",
       "      <td>-1.647531</td>\n",
       "      <td>-0.139574</td>\n",
       "      <td>-0.284726</td>\n",
       "      <td>0.315069</td>\n",
       "      <td>-0.846018</td>\n",
       "      <td>0.800535</td>\n",
       "    </tr>\n",
       "  </tbody>\n",
       "</table>\n",
       "<p>5 rows × 301 columns</p>\n",
       "</div>"
      ],
      "text/plain": [
       "                spiders  0.158972  0.285813  0.226329  -0.183338  -0.163159  \\\n",
       "0             askreddit -0.499114  0.323983 -0.424809  -0.222705  -0.327201   \n",
       "1  globaloffensivetrade -0.023145 -1.199374  1.661484  -1.025296   1.424670   \n",
       "2             fireteams  2.492506 -2.529917 -0.448484  -3.543441  -0.586122   \n",
       "3                 funny -0.819370 -0.865261  0.301753   0.018787   0.201029   \n",
       "4            the_donald -0.123265 -0.610208  0.361495  -1.171773   0.367407   \n",
       "\n",
       "   -0.18891  0.422705  0.168602  0.178193  ...  -0.025041  0.184655  0.111942  \\\n",
       "0  0.412856  1.040088  0.996697 -1.256240  ...   0.072151  0.226658  0.535705   \n",
       "1 -1.179507 -1.035703  0.329301 -0.567272  ...   2.998430 -1.235703 -0.326850   \n",
       "2 -0.101517  1.837567 -0.215715 -2.460388  ...  -1.875214  0.969291  0.497958   \n",
       "3  0.070462  0.903895  1.038460 -0.306950  ...   1.364194  0.830233 -0.137822   \n",
       "4  0.624919  2.420601 -0.447998  1.393862  ...   0.981761  1.044754 -2.334628   \n",
       "\n",
       "   -1.125799  0.223129  -0.387323  -0.234882  -0.252297  -0.054315  0.500009  \n",
       "0   0.039861 -0.027087  -0.239952   0.554510   0.676439  -0.328846  0.941547  \n",
       "1   4.381238 -1.965378  -2.369674  -0.615389   2.010601  -0.919314 -2.149625  \n",
       "2   2.941132  2.423561   1.315691  -0.959618   0.151845  -0.852492 -0.467526  \n",
       "3  -2.204667 -0.162008   0.390291  -0.556404   0.322684   0.641634  1.320716  \n",
       "4  -0.005856 -1.647531  -0.139574  -0.284726   0.315069  -0.846018  0.800535  \n",
       "\n",
       "[5 rows x 301 columns]"
      ]
     },
     "execution_count": 6,
     "metadata": {},
     "output_type": "execute_result"
    }
   ],
   "source": [
    "embed_subreddit.head()"
   ]
  },
  {
   "cell_type": "code",
   "execution_count": 7,
   "metadata": {},
   "outputs": [],
   "source": [
    "nodes = set(soc_reddit_body['SOURCE_SUBREDDIT'].tolist()).union(set(soc_reddit_body['TARGET_SUBREDDIT'].tolist()))"
   ]
  },
  {
   "cell_type": "code",
   "execution_count": 8,
   "metadata": {},
   "outputs": [
    {
     "data": {
      "text/plain": [
       "35776"
      ]
     },
     "execution_count": 8,
     "metadata": {},
     "output_type": "execute_result"
    }
   ],
   "source": [
    "len(nodes)"
   ]
  },
  {
   "cell_type": "code",
   "execution_count": 9,
   "metadata": {},
   "outputs": [
    {
     "name": "stderr",
     "output_type": "stream",
     "text": [
      "100%|██████████████████████████████████████████████████████████████████████████| 51277/51277 [00:22<00:00, 2233.94it/s]\n"
     ]
    }
   ],
   "source": [
    "node_emb_names = []\n",
    "node_embd_vec = []\n",
    "\n",
    "for j in tqdm(range(len(embed_subreddit))):\n",
    "    node_emb_names.append(embed_subreddit.iloc[j].tolist()[0])\n",
    "    node_embd_vec.append(embed_subreddit.iloc[j].tolist()[1:302])"
   ]
  },
  {
   "cell_type": "code",
   "execution_count": 10,
   "metadata": {},
   "outputs": [],
   "source": [
    "node_embd_name_vec = dict(zip(node_emb_names,node_embd_vec))"
   ]
  },
  {
   "cell_type": "code",
   "execution_count": 11,
   "metadata": {},
   "outputs": [
    {
     "data": {
      "text/plain": [
       "51277"
      ]
     },
     "execution_count": 11,
     "metadata": {},
     "output_type": "execute_result"
    }
   ],
   "source": [
    "len(node_emb_names)"
   ]
  },
  {
   "cell_type": "code",
   "execution_count": 12,
   "metadata": {},
   "outputs": [
    {
     "data": {
      "text/plain": [
       "21674"
      ]
     },
     "execution_count": 12,
     "metadata": {},
     "output_type": "execute_result"
    }
   ],
   "source": [
    "len(nodes.intersection(set(node_emb_names)))"
   ]
  },
  {
   "cell_type": "code",
   "execution_count": 13,
   "metadata": {},
   "outputs": [
    {
     "name": "stderr",
     "output_type": "stream",
     "text": [
      "286561it [00:28, 10011.46it/s]"
     ]
    },
    {
     "name": "stdout",
     "output_type": "stream",
     "text": [
      "{'2017', '2013', '2016', '2015', '2014'}\n"
     ]
    },
    {
     "name": "stderr",
     "output_type": "stream",
     "text": [
      "\n"
     ]
    }
   ],
   "source": [
    "node_1_embed = []\n",
    "node_2_embed = []\n",
    "year_list = []\n",
    "found_1 = []\n",
    "found_2 = []\n",
    "\n",
    "for index, row in tqdm(soc_reddit_body.iterrows()):\n",
    "    year_list.append(row['TIMESTAMP'].split()[0].split('-')[0])\n",
    "    try:\n",
    "        node_1_embed.append(node_embd_name_vec[row['SOURCE_SUBREDDIT']])\n",
    "        found_1.append(1)\n",
    "    except:\n",
    "        node_1_embed.append([0]*300)\n",
    "        found_1.append(0)\n",
    "    try:\n",
    "        node_2_embed.append(node_embd_name_vec[row['TARGET_SUBREDDIT']])\n",
    "        found_2.append(1)\n",
    "    except:\n",
    "        node_2_embed.append([0]*300)\n",
    "        found_2.append(0)\n",
    "\n",
    "print(set(year_list))"
   ]
  },
  {
   "cell_type": "code",
   "execution_count": 14,
   "metadata": {
    "scrolled": true
   },
   "outputs": [],
   "source": [
    "soc_reddit_body['year'] = year_list\n",
    "soc_reddit_body['source_embed'] = node_1_embed\n",
    "soc_reddit_body['target_embed'] = node_2_embed\n",
    "soc_reddit_body['found_1'] = found_1\n",
    "soc_reddit_body['found_2'] = found_2"
   ]
  },
  {
   "cell_type": "code",
   "execution_count": 15,
   "metadata": {
    "scrolled": true
   },
   "outputs": [
    {
     "data": {
      "text/html": [
       "<div>\n",
       "<style scoped>\n",
       "    .dataframe tbody tr th:only-of-type {\n",
       "        vertical-align: middle;\n",
       "    }\n",
       "\n",
       "    .dataframe tbody tr th {\n",
       "        vertical-align: top;\n",
       "    }\n",
       "\n",
       "    .dataframe thead th {\n",
       "        text-align: right;\n",
       "    }\n",
       "</style>\n",
       "<table border=\"1\" class=\"dataframe\">\n",
       "  <thead>\n",
       "    <tr style=\"text-align: right;\">\n",
       "      <th></th>\n",
       "      <th>SOURCE_SUBREDDIT</th>\n",
       "      <th>TARGET_SUBREDDIT</th>\n",
       "      <th>POST_ID</th>\n",
       "      <th>TIMESTAMP</th>\n",
       "      <th>LINK_SENTIMENT</th>\n",
       "      <th>PROPERTIES</th>\n",
       "      <th>year</th>\n",
       "      <th>source_embed</th>\n",
       "      <th>target_embed</th>\n",
       "      <th>found_1</th>\n",
       "      <th>found_2</th>\n",
       "    </tr>\n",
       "  </thead>\n",
       "  <tbody>\n",
       "    <tr>\n",
       "      <th>0</th>\n",
       "      <td>leagueoflegends</td>\n",
       "      <td>teamredditteams</td>\n",
       "      <td>1u4nrps</td>\n",
       "      <td>2013-12-31 16:39:58</td>\n",
       "      <td>1</td>\n",
       "      <td>345.0,298.0,0.75652173913,0.0173913043478,0.08...</td>\n",
       "      <td>2013</td>\n",
       "      <td>[-2.785298, -0.166391, 1.592624, -1.269829, 2....</td>\n",
       "      <td>[-1.402933, -1.1156540000000001, 0.921651, -0....</td>\n",
       "      <td>1</td>\n",
       "      <td>1</td>\n",
       "    </tr>\n",
       "    <tr>\n",
       "      <th>1</th>\n",
       "      <td>theredlion</td>\n",
       "      <td>soccer</td>\n",
       "      <td>1u4qkd</td>\n",
       "      <td>2013-12-31 18:18:37</td>\n",
       "      <td>-1</td>\n",
       "      <td>101.0,98.0,0.742574257426,0.019801980198,0.049...</td>\n",
       "      <td>2013</td>\n",
       "      <td>[-0.239977, -0.24648299999999998, 0.0596789999...</td>\n",
       "      <td>[-2.7988470000000003, -1.243099, 0.513319, 0.1...</td>\n",
       "      <td>1</td>\n",
       "      <td>1</td>\n",
       "    </tr>\n",
       "    <tr>\n",
       "      <th>2</th>\n",
       "      <td>inlandempire</td>\n",
       "      <td>bikela</td>\n",
       "      <td>1u4qlzs</td>\n",
       "      <td>2014-01-01 14:54:35</td>\n",
       "      <td>1</td>\n",
       "      <td>85.0,85.0,0.752941176471,0.0235294117647,0.082...</td>\n",
       "      <td>2014</td>\n",
       "      <td>[0.070123, -0.001389, 0.143414, -0.46698900000...</td>\n",
       "      <td>[0.15803, 0.035602999999999996, 0.197221, -0.4...</td>\n",
       "      <td>1</td>\n",
       "      <td>1</td>\n",
       "    </tr>\n",
       "    <tr>\n",
       "      <th>3</th>\n",
       "      <td>nfl</td>\n",
       "      <td>cfb</td>\n",
       "      <td>1u4sjvs</td>\n",
       "      <td>2013-12-31 17:37:55</td>\n",
       "      <td>1</td>\n",
       "      <td>1124.0,949.0,0.772241992883,0.0017793594306,0....</td>\n",
       "      <td>2013</td>\n",
       "      <td>[-0.41374399999999995, 0.13559300000000002, -0...</td>\n",
       "      <td>[-0.5422899999999999, 1.0747719999999998, 0.23...</td>\n",
       "      <td>1</td>\n",
       "      <td>1</td>\n",
       "    </tr>\n",
       "    <tr>\n",
       "      <th>4</th>\n",
       "      <td>playmygame</td>\n",
       "      <td>gamedev</td>\n",
       "      <td>1u4w5ss</td>\n",
       "      <td>2014-01-01 02:51:13</td>\n",
       "      <td>1</td>\n",
       "      <td>715.0,622.0,0.777622377622,0.00699300699301,0....</td>\n",
       "      <td>2014</td>\n",
       "      <td>[0.006368, -0.135252, 0.45853299999999997, -0....</td>\n",
       "      <td>[-0.033949, 0.15096600000000002, 1.039643, -0....</td>\n",
       "      <td>1</td>\n",
       "      <td>1</td>\n",
       "    </tr>\n",
       "    <tr>\n",
       "      <th>...</th>\n",
       "      <td>...</td>\n",
       "      <td>...</td>\n",
       "      <td>...</td>\n",
       "      <td>...</td>\n",
       "      <td>...</td>\n",
       "      <td>...</td>\n",
       "      <td>...</td>\n",
       "      <td>...</td>\n",
       "      <td>...</td>\n",
       "      <td>...</td>\n",
       "      <td>...</td>\n",
       "    </tr>\n",
       "    <tr>\n",
       "      <th>286556</th>\n",
       "      <td>negareddit</td>\n",
       "      <td>debatefascism</td>\n",
       "      <td>68im20s</td>\n",
       "      <td>2017-04-30 16:31:26</td>\n",
       "      <td>1</td>\n",
       "      <td>441.0,405.0,0.775510204082,0.0294784580499,0.0...</td>\n",
       "      <td>2017</td>\n",
       "      <td>[-0.392242, 0.186111, 0.203193, -0.441168, 0.3...</td>\n",
       "      <td>[-0.202682, 0.126838, -0.077966, -0.2579079999...</td>\n",
       "      <td>1</td>\n",
       "      <td>1</td>\n",
       "    </tr>\n",
       "    <tr>\n",
       "      <th>286557</th>\n",
       "      <td>mildlynomil</td>\n",
       "      <td>justnomil</td>\n",
       "      <td>68imlas</td>\n",
       "      <td>2017-04-30 04:19:03</td>\n",
       "      <td>1</td>\n",
       "      <td>2226.0,1855.0,0.786163522013,0.00224618149146,...</td>\n",
       "      <td>2017</td>\n",
       "      <td>[-0.008284, -0.075661, 0.082401, -0.049988, 0....</td>\n",
       "      <td>[0.124855, -0.792166, 0.149331, 0.376434999999...</td>\n",
       "      <td>1</td>\n",
       "      <td>1</td>\n",
       "    </tr>\n",
       "    <tr>\n",
       "      <th>286558</th>\n",
       "      <td>mmorpg</td>\n",
       "      <td>blackdesertonline</td>\n",
       "      <td>68ip5os</td>\n",
       "      <td>2017-04-30 16:54:08</td>\n",
       "      <td>1</td>\n",
       "      <td>1100.0,909.0,0.778181818182,0.00181818181818,0...</td>\n",
       "      <td>2017</td>\n",
       "      <td>[0.008334999999999999, 0.0209, 0.9342010000000...</td>\n",
       "      <td>[-0.272359, -0.833299, 1.339546, -0.268322, 0....</td>\n",
       "      <td>1</td>\n",
       "      <td>1</td>\n",
       "    </tr>\n",
       "    <tr>\n",
       "      <th>286559</th>\n",
       "      <td>electricskateboards</td>\n",
       "      <td>askreddit</td>\n",
       "      <td>68ipb2s</td>\n",
       "      <td>2017-04-30 16:41:53</td>\n",
       "      <td>1</td>\n",
       "      <td>1876.0,1567.0,0.78144989339,0.00692963752665,0...</td>\n",
       "      <td>2017</td>\n",
       "      <td>[0, 0, 0, 0, 0, 0, 0, 0, 0, 0, 0, 0, 0, 0, 0, ...</td>\n",
       "      <td>[-0.49911400000000006, 0.32398299999999997, -0...</td>\n",
       "      <td>0</td>\n",
       "      <td>1</td>\n",
       "    </tr>\n",
       "    <tr>\n",
       "      <th>286560</th>\n",
       "      <td>mgtow</td>\n",
       "      <td>dataisbeautiful</td>\n",
       "      <td>68ipeos</td>\n",
       "      <td>2017-04-30 16:52:59</td>\n",
       "      <td>1</td>\n",
       "      <td>1129.0,975.0,0.795394154119,0.0150575730735,0....</td>\n",
       "      <td>2017</td>\n",
       "      <td>[-0.8605780000000001, 0.26107199999999997, -0....</td>\n",
       "      <td>[-0.48994099999999996, 0.037239, 0.430183, -0....</td>\n",
       "      <td>1</td>\n",
       "      <td>1</td>\n",
       "    </tr>\n",
       "  </tbody>\n",
       "</table>\n",
       "<p>286561 rows × 11 columns</p>\n",
       "</div>"
      ],
      "text/plain": [
       "           SOURCE_SUBREDDIT   TARGET_SUBREDDIT  POST_ID            TIMESTAMP  \\\n",
       "0           leagueoflegends    teamredditteams  1u4nrps  2013-12-31 16:39:58   \n",
       "1                theredlion             soccer   1u4qkd  2013-12-31 18:18:37   \n",
       "2              inlandempire             bikela  1u4qlzs  2014-01-01 14:54:35   \n",
       "3                       nfl                cfb  1u4sjvs  2013-12-31 17:37:55   \n",
       "4                playmygame            gamedev  1u4w5ss  2014-01-01 02:51:13   \n",
       "...                     ...                ...      ...                  ...   \n",
       "286556           negareddit      debatefascism  68im20s  2017-04-30 16:31:26   \n",
       "286557          mildlynomil          justnomil  68imlas  2017-04-30 04:19:03   \n",
       "286558               mmorpg  blackdesertonline  68ip5os  2017-04-30 16:54:08   \n",
       "286559  electricskateboards          askreddit  68ipb2s  2017-04-30 16:41:53   \n",
       "286560                mgtow    dataisbeautiful  68ipeos  2017-04-30 16:52:59   \n",
       "\n",
       "        LINK_SENTIMENT                                         PROPERTIES  \\\n",
       "0                    1  345.0,298.0,0.75652173913,0.0173913043478,0.08...   \n",
       "1                   -1  101.0,98.0,0.742574257426,0.019801980198,0.049...   \n",
       "2                    1  85.0,85.0,0.752941176471,0.0235294117647,0.082...   \n",
       "3                    1  1124.0,949.0,0.772241992883,0.0017793594306,0....   \n",
       "4                    1  715.0,622.0,0.777622377622,0.00699300699301,0....   \n",
       "...                ...                                                ...   \n",
       "286556               1  441.0,405.0,0.775510204082,0.0294784580499,0.0...   \n",
       "286557               1  2226.0,1855.0,0.786163522013,0.00224618149146,...   \n",
       "286558               1  1100.0,909.0,0.778181818182,0.00181818181818,0...   \n",
       "286559               1  1876.0,1567.0,0.78144989339,0.00692963752665,0...   \n",
       "286560               1  1129.0,975.0,0.795394154119,0.0150575730735,0....   \n",
       "\n",
       "        year                                       source_embed  \\\n",
       "0       2013  [-2.785298, -0.166391, 1.592624, -1.269829, 2....   \n",
       "1       2013  [-0.239977, -0.24648299999999998, 0.0596789999...   \n",
       "2       2014  [0.070123, -0.001389, 0.143414, -0.46698900000...   \n",
       "3       2013  [-0.41374399999999995, 0.13559300000000002, -0...   \n",
       "4       2014  [0.006368, -0.135252, 0.45853299999999997, -0....   \n",
       "...      ...                                                ...   \n",
       "286556  2017  [-0.392242, 0.186111, 0.203193, -0.441168, 0.3...   \n",
       "286557  2017  [-0.008284, -0.075661, 0.082401, -0.049988, 0....   \n",
       "286558  2017  [0.008334999999999999, 0.0209, 0.9342010000000...   \n",
       "286559  2017  [0, 0, 0, 0, 0, 0, 0, 0, 0, 0, 0, 0, 0, 0, 0, ...   \n",
       "286560  2017  [-0.8605780000000001, 0.26107199999999997, -0....   \n",
       "\n",
       "                                             target_embed  found_1  found_2  \n",
       "0       [-1.402933, -1.1156540000000001, 0.921651, -0....        1        1  \n",
       "1       [-2.7988470000000003, -1.243099, 0.513319, 0.1...        1        1  \n",
       "2       [0.15803, 0.035602999999999996, 0.197221, -0.4...        1        1  \n",
       "3       [-0.5422899999999999, 1.0747719999999998, 0.23...        1        1  \n",
       "4       [-0.033949, 0.15096600000000002, 1.039643, -0....        1        1  \n",
       "...                                                   ...      ...      ...  \n",
       "286556  [-0.202682, 0.126838, -0.077966, -0.2579079999...        1        1  \n",
       "286557  [0.124855, -0.792166, 0.149331, 0.376434999999...        1        1  \n",
       "286558  [-0.272359, -0.833299, 1.339546, -0.268322, 0....        1        1  \n",
       "286559  [-0.49911400000000006, 0.32398299999999997, -0...        0        1  \n",
       "286560  [-0.48994099999999996, 0.037239, 0.430183, -0....        1        1  \n",
       "\n",
       "[286561 rows x 11 columns]"
      ]
     },
     "execution_count": 15,
     "metadata": {},
     "output_type": "execute_result"
    }
   ],
   "source": [
    "soc_reddit_body"
   ]
  },
  {
   "cell_type": "markdown",
   "metadata": {},
   "source": [
    "# Trains on 2014 and test on 2015"
   ]
  },
  {
   "cell_type": "code",
   "execution_count": 16,
   "metadata": {},
   "outputs": [
    {
     "name": "stdout",
     "output_type": "stream",
     "text": [
      "63344 88575\n"
     ]
    }
   ],
   "source": [
    "train = soc_reddit_body[soc_reddit_body['year'] == '2014']\n",
    "test = soc_reddit_body[soc_reddit_body['year'] == '2015']\n",
    "print(len(train),len(test))"
   ]
  },
  {
   "cell_type": "code",
   "execution_count": 20,
   "metadata": {
    "scrolled": true
   },
   "outputs": [
    {
     "name": "stdout",
     "output_type": "stream",
     "text": [
      "Inductive nodes:  10397\n"
     ]
    }
   ],
   "source": [
    "train_nodes = set(train['SOURCE_SUBREDDIT'].tolist()).union(set(train['TARGET_SUBREDDIT'].tolist()))\n",
    "test_nodes = set(test['SOURCE_SUBREDDIT'].tolist()).union(set(test['TARGET_SUBREDDIT'].tolist()))\n",
    "print('Inductive nodes: ', len(test_nodes.difference(train_nodes)))"
   ]
  },
  {
   "cell_type": "code",
   "execution_count": 23,
   "metadata": {},
   "outputs": [
    {
     "name": "stdout",
     "output_type": "stream",
     "text": [
      "Size of inductive test set:  27174\n"
     ]
    }
   ],
   "source": [
    "inductive_nodes = test_nodes.difference(train_nodes)\n",
    "inductive_test = test[test['SOURCE_SUBREDDIT'].isin(inductive_nodes) | test['TARGET_SUBREDDIT'].isin(inductive_nodes)]\n",
    "print('Size of inductive test set: ', len(inductive_test))"
   ]
  },
  {
   "cell_type": "code",
   "execution_count": 32,
   "metadata": {
    "scrolled": true
   },
   "outputs": [
    {
     "name": "stdout",
     "output_type": "stream",
     "text": [
      "57432\n",
      "19308\n"
     ]
    }
   ],
   "source": [
    "train_valid = train[train['found_1'].isin([1]) & train['found_2'].isin([1])]\n",
    "print(len(train_valid))\n",
    "inductive_test_valid = inductive_test[inductive_test['found_1'].isin([1]) & inductive_test['found_2'].isin([1])]\n",
    "print(len(inductive_test_valid))"
   ]
  },
  {
   "cell_type": "code",
   "execution_count": 34,
   "metadata": {
    "scrolled": true
   },
   "outputs": [],
   "source": [
    "train_valid = train_valid[['SOURCE_SUBREDDIT','TARGET_SUBREDDIT', 'year', 'source_embed', 'target_embed']]\n",
    "inductive_test_valid = inductive_test_valid[['SOURCE_SUBREDDIT','TARGET_SUBREDDIT', 'year', 'source_embed', 'target_embed']]"
   ]
  },
  {
   "cell_type": "markdown",
   "metadata": {},
   "source": [
    "## Generating negatives"
   ]
  },
  {
   "cell_type": "code",
   "execution_count": 35,
   "metadata": {},
   "outputs": [
    {
     "name": "stderr",
     "output_type": "stream",
     "text": [
      "57432it [00:29, 1978.19it/s]\n",
      "19308it [00:11, 1686.61it/s]\n"
     ]
    }
   ],
   "source": [
    "train_valid_node_dict = dict()\n",
    "\n",
    "for index, row in tqdm(train_valid.iterrows()):\n",
    "    train_valid_node_dict[row['SOURCE_SUBREDDIT']] = row['source_embed']\n",
    "    train_valid_node_dict[row['TARGET_SUBREDDIT']] = row['target_embed']\n",
    "    \n",
    "inductive_test_valid_node_dict = dict()\n",
    "\n",
    "for index, row in tqdm(inductive_test_valid.iterrows()):\n",
    "    inductive_test_valid_node_dict[row['SOURCE_SUBREDDIT']] = row['source_embed']\n",
    "    inductive_test_valid_node_dict[row['TARGET_SUBREDDIT']] = row['target_embed']"
   ]
  },
  {
   "cell_type": "code",
   "execution_count": 40,
   "metadata": {
    "scrolled": true
   },
   "outputs": [
    {
     "name": "stderr",
     "output_type": "stream",
     "text": [
      "100%|████████████████████████████████████████████████████████████████████████████| 57432/57432 [15:34<00:00, 61.48it/s]\n"
     ]
    },
    {
     "data": {
      "text/html": [
       "<div>\n",
       "<style scoped>\n",
       "    .dataframe tbody tr th:only-of-type {\n",
       "        vertical-align: middle;\n",
       "    }\n",
       "\n",
       "    .dataframe tbody tr th {\n",
       "        vertical-align: top;\n",
       "    }\n",
       "\n",
       "    .dataframe thead th {\n",
       "        text-align: right;\n",
       "    }\n",
       "</style>\n",
       "<table border=\"1\" class=\"dataframe\">\n",
       "  <thead>\n",
       "    <tr style=\"text-align: right;\">\n",
       "      <th></th>\n",
       "      <th>SOURCE_SUBREDDIT</th>\n",
       "      <th>TARGET_SUBREDDIT</th>\n",
       "      <th>year</th>\n",
       "      <th>source_embed</th>\n",
       "      <th>target_embed</th>\n",
       "      <th>label</th>\n",
       "    </tr>\n",
       "  </thead>\n",
       "  <tbody>\n",
       "    <tr>\n",
       "      <th>2</th>\n",
       "      <td>inlandempire</td>\n",
       "      <td>bikela</td>\n",
       "      <td>2014</td>\n",
       "      <td>[0.070123, -0.001389, 0.143414, -0.46698900000...</td>\n",
       "      <td>[0.15803, 0.035602999999999996, 0.197221, -0.4...</td>\n",
       "      <td>1</td>\n",
       "    </tr>\n",
       "    <tr>\n",
       "      <th>4</th>\n",
       "      <td>playmygame</td>\n",
       "      <td>gamedev</td>\n",
       "      <td>2014</td>\n",
       "      <td>[0.006368, -0.135252, 0.45853299999999997, -0....</td>\n",
       "      <td>[-0.033949, 0.15096600000000002, 1.039643, -0....</td>\n",
       "      <td>1</td>\n",
       "    </tr>\n",
       "    <tr>\n",
       "      <th>6</th>\n",
       "      <td>locationbot</td>\n",
       "      <td>legaladvice</td>\n",
       "      <td>2014</td>\n",
       "      <td>[-0.024395, -0.10246300000000001, 0.1047, -0.1...</td>\n",
       "      <td>[-0.038085, -0.42014399999999996, 0.501881, -0...</td>\n",
       "      <td>1</td>\n",
       "    </tr>\n",
       "    <tr>\n",
       "      <th>12</th>\n",
       "      <td>metalcore</td>\n",
       "      <td>corejerk</td>\n",
       "      <td>2014</td>\n",
       "      <td>[0.137185, -0.854073, 0.731183, -0.15904000000...</td>\n",
       "      <td>[-0.086075, -0.15501900000000002, 0.255759, -0...</td>\n",
       "      <td>1</td>\n",
       "    </tr>\n",
       "    <tr>\n",
       "      <th>13</th>\n",
       "      <td>suicidewatch</td>\n",
       "      <td>offmychest</td>\n",
       "      <td>2014</td>\n",
       "      <td>[-0.157389, -0.387517, 0.039486, -0.081951, -0...</td>\n",
       "      <td>[0.05609, -0.558994, 0.232145, -0.324627, -0.7...</td>\n",
       "      <td>1</td>\n",
       "    </tr>\n",
       "    <tr>\n",
       "      <th>...</th>\n",
       "      <td>...</td>\n",
       "      <td>...</td>\n",
       "      <td>...</td>\n",
       "      <td>...</td>\n",
       "      <td>...</td>\n",
       "      <td>...</td>\n",
       "    </tr>\n",
       "    <tr>\n",
       "      <th>57427</th>\n",
       "      <td>blackmarketreferences</td>\n",
       "      <td>objectivec</td>\n",
       "      <td>2014</td>\n",
       "      <td>[0.006386, -0.173263, 0.092806, -0.067416, 0.0...</td>\n",
       "      <td>[-0.021516, -0.114632, 0.11440499999999999, -0...</td>\n",
       "      <td>0</td>\n",
       "    </tr>\n",
       "    <tr>\n",
       "      <th>57428</th>\n",
       "      <td>mississippi</td>\n",
       "      <td>army</td>\n",
       "      <td>2014</td>\n",
       "      <td>[-0.018103, -0.017605000000000003, 0.104681, -...</td>\n",
       "      <td>[0.241536, 0.08885599999999999, 0.347203000000...</td>\n",
       "      <td>0</td>\n",
       "    </tr>\n",
       "    <tr>\n",
       "      <th>57429</th>\n",
       "      <td>paradoxextra</td>\n",
       "      <td>skyre</td>\n",
       "      <td>2014</td>\n",
       "      <td>[-0.105181, -0.086971, 0.084601, -0.097683, 0....</td>\n",
       "      <td>[-0.019566999999999998, -0.09765599999999999, ...</td>\n",
       "      <td>0</td>\n",
       "    </tr>\n",
       "    <tr>\n",
       "      <th>57430</th>\n",
       "      <td>bugout</td>\n",
       "      <td>macbook</td>\n",
       "      <td>2014</td>\n",
       "      <td>[-0.025069, -0.125745, 0.147094, -0.16548, -0....</td>\n",
       "      <td>[-0.01209, -0.193216, 0.27924699999999997, -0....</td>\n",
       "      <td>0</td>\n",
       "    </tr>\n",
       "    <tr>\n",
       "      <th>57431</th>\n",
       "      <td>foxes</td>\n",
       "      <td>gratefuldead</td>\n",
       "      <td>2014</td>\n",
       "      <td>[0.140826, -0.177755, 0.275002, -0.323549, -0....</td>\n",
       "      <td>[0.183556, -0.080505, 0.429854, -0.90604500000...</td>\n",
       "      <td>0</td>\n",
       "    </tr>\n",
       "  </tbody>\n",
       "</table>\n",
       "<p>114864 rows × 6 columns</p>\n",
       "</div>"
      ],
      "text/plain": [
       "            SOURCE_SUBREDDIT TARGET_SUBREDDIT  year  \\\n",
       "2               inlandempire           bikela  2014   \n",
       "4                 playmygame          gamedev  2014   \n",
       "6                locationbot      legaladvice  2014   \n",
       "12                 metalcore         corejerk  2014   \n",
       "13              suicidewatch       offmychest  2014   \n",
       "...                      ...              ...   ...   \n",
       "57427  blackmarketreferences       objectivec  2014   \n",
       "57428            mississippi             army  2014   \n",
       "57429           paradoxextra            skyre  2014   \n",
       "57430                 bugout          macbook  2014   \n",
       "57431                  foxes     gratefuldead  2014   \n",
       "\n",
       "                                            source_embed  \\\n",
       "2      [0.070123, -0.001389, 0.143414, -0.46698900000...   \n",
       "4      [0.006368, -0.135252, 0.45853299999999997, -0....   \n",
       "6      [-0.024395, -0.10246300000000001, 0.1047, -0.1...   \n",
       "12     [0.137185, -0.854073, 0.731183, -0.15904000000...   \n",
       "13     [-0.157389, -0.387517, 0.039486, -0.081951, -0...   \n",
       "...                                                  ...   \n",
       "57427  [0.006386, -0.173263, 0.092806, -0.067416, 0.0...   \n",
       "57428  [-0.018103, -0.017605000000000003, 0.104681, -...   \n",
       "57429  [-0.105181, -0.086971, 0.084601, -0.097683, 0....   \n",
       "57430  [-0.025069, -0.125745, 0.147094, -0.16548, -0....   \n",
       "57431  [0.140826, -0.177755, 0.275002, -0.323549, -0....   \n",
       "\n",
       "                                            target_embed  label  \n",
       "2      [0.15803, 0.035602999999999996, 0.197221, -0.4...      1  \n",
       "4      [-0.033949, 0.15096600000000002, 1.039643, -0....      1  \n",
       "6      [-0.038085, -0.42014399999999996, 0.501881, -0...      1  \n",
       "12     [-0.086075, -0.15501900000000002, 0.255759, -0...      1  \n",
       "13     [0.05609, -0.558994, 0.232145, -0.324627, -0.7...      1  \n",
       "...                                                  ...    ...  \n",
       "57427  [-0.021516, -0.114632, 0.11440499999999999, -0...      0  \n",
       "57428  [0.241536, 0.08885599999999999, 0.347203000000...      0  \n",
       "57429  [-0.019566999999999998, -0.09765599999999999, ...      0  \n",
       "57430  [-0.01209, -0.193216, 0.27924699999999997, -0....      0  \n",
       "57431  [0.183556, -0.080505, 0.429854, -0.90604500000...      0  \n",
       "\n",
       "[114864 rows x 6 columns]"
      ]
     },
     "execution_count": 40,
     "metadata": {},
     "output_type": "execute_result"
    }
   ],
   "source": [
    "train_neg = pd.DataFrame()\n",
    "\n",
    "source_list = []\n",
    "target_list = []\n",
    "year_list = []\n",
    "source_embed_list = []\n",
    "target_embed_list = []\n",
    "\n",
    "for j in tqdm(range(len(train_valid))):\n",
    "    \n",
    "    src = np.random.choice(list(train_valid_node_dict.keys()))\n",
    "    trgt = np.random.choice(list(train_valid_node_dict.keys()))\n",
    "    \n",
    "    source_list.append(src)\n",
    "    target_list.append(trgt)\n",
    "    year_list.append(2014)\n",
    "    source_embed_list.append(train_valid_node_dict[src])\n",
    "    target_embed_list.append(train_valid_node_dict[trgt])\n",
    "    \n",
    "train_neg['SOURCE_SUBREDDIT'] = source_list\n",
    "train_neg['TARGET_SUBREDDIT'] = target_list\n",
    "train_neg['year'] = year_list\n",
    "train_neg['source_embed'] = source_embed_list\n",
    "train_neg['target_embed'] = target_embed_list\n",
    "\n",
    "train_all = pd.concat([train_valid,train_neg])\n",
    "train_all['label'] = [1] * len(train_valid) + [0] * len(train_neg)\n",
    "train_all"
   ]
  },
  {
   "cell_type": "code",
   "execution_count": 42,
   "metadata": {
    "scrolled": true
   },
   "outputs": [
    {
     "name": "stderr",
     "output_type": "stream",
     "text": [
      "100%|████████████████████████████████████████████████████████████████████████████| 19308/19308 [05:12<00:00, 61.73it/s]\n"
     ]
    },
    {
     "data": {
      "text/html": [
       "<div>\n",
       "<style scoped>\n",
       "    .dataframe tbody tr th:only-of-type {\n",
       "        vertical-align: middle;\n",
       "    }\n",
       "\n",
       "    .dataframe tbody tr th {\n",
       "        vertical-align: top;\n",
       "    }\n",
       "\n",
       "    .dataframe thead th {\n",
       "        text-align: right;\n",
       "    }\n",
       "</style>\n",
       "<table border=\"1\" class=\"dataframe\">\n",
       "  <thead>\n",
       "    <tr style=\"text-align: right;\">\n",
       "      <th></th>\n",
       "      <th>SOURCE_SUBREDDIT</th>\n",
       "      <th>TARGET_SUBREDDIT</th>\n",
       "      <th>year</th>\n",
       "      <th>source_embed</th>\n",
       "      <th>target_embed</th>\n",
       "      <th>label</th>\n",
       "    </tr>\n",
       "  </thead>\n",
       "  <tbody>\n",
       "    <tr>\n",
       "      <th>33403</th>\n",
       "      <td>myporn</td>\n",
       "      <td>rule34</td>\n",
       "      <td>2015</td>\n",
       "      <td>[-0.004232, -0.06867899999999999, 0.049444, -0...</td>\n",
       "      <td>[0.455794, 0.153378, 0.082485, -0.719597, 0.66...</td>\n",
       "      <td>1</td>\n",
       "    </tr>\n",
       "    <tr>\n",
       "      <th>42206</th>\n",
       "      <td>shane_solo</td>\n",
       "      <td>ea_nhl</td>\n",
       "      <td>2015</td>\n",
       "      <td>[-0.030695, -0.12401, 0.063593, -0.014331, 0.0...</td>\n",
       "      <td>[-0.073781, -0.29944499999999996, 0.171374, -0...</td>\n",
       "      <td>1</td>\n",
       "    </tr>\n",
       "    <tr>\n",
       "      <th>60570</th>\n",
       "      <td>swindon</td>\n",
       "      <td>bath</td>\n",
       "      <td>2015</td>\n",
       "      <td>[-0.003353, -0.07499199999999999, 0.078898, -0...</td>\n",
       "      <td>[-0.024038, -0.15322, 0.136251, -0.134689, 0.0...</td>\n",
       "      <td>1</td>\n",
       "    </tr>\n",
       "    <tr>\n",
       "      <th>61440</th>\n",
       "      <td>hockeybots</td>\n",
       "      <td>hockey</td>\n",
       "      <td>2015</td>\n",
       "      <td>[-0.005503, -0.023642, 0.044422, -0.037558, 0....</td>\n",
       "      <td>[-0.087811, 0.070745, 0.21230900000000003, -0....</td>\n",
       "      <td>1</td>\n",
       "    </tr>\n",
       "    <tr>\n",
       "      <th>63296</th>\n",
       "      <td>buildapc</td>\n",
       "      <td>coolguides</td>\n",
       "      <td>2015</td>\n",
       "      <td>[-0.633564, -0.42006499999999997, 1.206392, -0...</td>\n",
       "      <td>[-0.022381, 0.050523, 0.083562, -0.082738, -0....</td>\n",
       "      <td>1</td>\n",
       "    </tr>\n",
       "    <tr>\n",
       "      <th>...</th>\n",
       "      <td>...</td>\n",
       "      <td>...</td>\n",
       "      <td>...</td>\n",
       "      <td>...</td>\n",
       "      <td>...</td>\n",
       "      <td>...</td>\n",
       "    </tr>\n",
       "    <tr>\n",
       "      <th>19303</th>\n",
       "      <td>narcsinthewild</td>\n",
       "      <td>starwarsspeculation</td>\n",
       "      <td>2015</td>\n",
       "      <td>[-0.025483000000000002, -0.09434, 0.067207, -0...</td>\n",
       "      <td>[0.13101400000000002, -0.17583800000000002, 0....</td>\n",
       "      <td>0</td>\n",
       "    </tr>\n",
       "    <tr>\n",
       "      <th>19304</th>\n",
       "      <td>raspberry_pi_projects</td>\n",
       "      <td>askgaybros</td>\n",
       "      <td>2015</td>\n",
       "      <td>[-0.028664999999999996, -0.139776, 0.155707999...</td>\n",
       "      <td>[-0.097179, -0.105054, -0.26001399999999997, -...</td>\n",
       "      <td>0</td>\n",
       "    </tr>\n",
       "    <tr>\n",
       "      <th>19305</th>\n",
       "      <td>chicagotrees</td>\n",
       "      <td>uniformedmen</td>\n",
       "      <td>2015</td>\n",
       "      <td>[-0.016184, -0.148457, 0.134046, -0.168846, 0....</td>\n",
       "      <td>[-0.008341, -0.025008000000000002, -0.03837, -...</td>\n",
       "      <td>0</td>\n",
       "    </tr>\n",
       "    <tr>\n",
       "      <th>19306</th>\n",
       "      <td>travel_ja</td>\n",
       "      <td>freegamesonsteam</td>\n",
       "      <td>2015</td>\n",
       "      <td>[-0.039922000000000006, -0.06692000000000001, ...</td>\n",
       "      <td>[-0.21351399999999998, -0.070792, 0.1353130000...</td>\n",
       "      <td>0</td>\n",
       "    </tr>\n",
       "    <tr>\n",
       "      <th>19307</th>\n",
       "      <td>pbghardcore</td>\n",
       "      <td>malefashionadvice</td>\n",
       "      <td>2015</td>\n",
       "      <td>[-0.025449, -0.070822, 0.065471, -0.0514820000...</td>\n",
       "      <td>[-0.288451, -0.8703129999999999, 0.81453, -0.6...</td>\n",
       "      <td>0</td>\n",
       "    </tr>\n",
       "  </tbody>\n",
       "</table>\n",
       "<p>38616 rows × 6 columns</p>\n",
       "</div>"
      ],
      "text/plain": [
       "            SOURCE_SUBREDDIT     TARGET_SUBREDDIT  year  \\\n",
       "33403                 myporn               rule34  2015   \n",
       "42206             shane_solo               ea_nhl  2015   \n",
       "60570                swindon                 bath  2015   \n",
       "61440             hockeybots               hockey  2015   \n",
       "63296               buildapc           coolguides  2015   \n",
       "...                      ...                  ...   ...   \n",
       "19303         narcsinthewild  starwarsspeculation  2015   \n",
       "19304  raspberry_pi_projects           askgaybros  2015   \n",
       "19305           chicagotrees         uniformedmen  2015   \n",
       "19306              travel_ja     freegamesonsteam  2015   \n",
       "19307            pbghardcore    malefashionadvice  2015   \n",
       "\n",
       "                                            source_embed  \\\n",
       "33403  [-0.004232, -0.06867899999999999, 0.049444, -0...   \n",
       "42206  [-0.030695, -0.12401, 0.063593, -0.014331, 0.0...   \n",
       "60570  [-0.003353, -0.07499199999999999, 0.078898, -0...   \n",
       "61440  [-0.005503, -0.023642, 0.044422, -0.037558, 0....   \n",
       "63296  [-0.633564, -0.42006499999999997, 1.206392, -0...   \n",
       "...                                                  ...   \n",
       "19303  [-0.025483000000000002, -0.09434, 0.067207, -0...   \n",
       "19304  [-0.028664999999999996, -0.139776, 0.155707999...   \n",
       "19305  [-0.016184, -0.148457, 0.134046, -0.168846, 0....   \n",
       "19306  [-0.039922000000000006, -0.06692000000000001, ...   \n",
       "19307  [-0.025449, -0.070822, 0.065471, -0.0514820000...   \n",
       "\n",
       "                                            target_embed  label  \n",
       "33403  [0.455794, 0.153378, 0.082485, -0.719597, 0.66...      1  \n",
       "42206  [-0.073781, -0.29944499999999996, 0.171374, -0...      1  \n",
       "60570  [-0.024038, -0.15322, 0.136251, -0.134689, 0.0...      1  \n",
       "61440  [-0.087811, 0.070745, 0.21230900000000003, -0....      1  \n",
       "63296  [-0.022381, 0.050523, 0.083562, -0.082738, -0....      1  \n",
       "...                                                  ...    ...  \n",
       "19303  [0.13101400000000002, -0.17583800000000002, 0....      0  \n",
       "19304  [-0.097179, -0.105054, -0.26001399999999997, -...      0  \n",
       "19305  [-0.008341, -0.025008000000000002, -0.03837, -...      0  \n",
       "19306  [-0.21351399999999998, -0.070792, 0.1353130000...      0  \n",
       "19307  [-0.288451, -0.8703129999999999, 0.81453, -0.6...      0  \n",
       "\n",
       "[38616 rows x 6 columns]"
      ]
     },
     "execution_count": 42,
     "metadata": {},
     "output_type": "execute_result"
    }
   ],
   "source": [
    "inductive_test_valid_neg = pd.DataFrame()\n",
    "\n",
    "source_list = []\n",
    "target_list = []\n",
    "year_list = []\n",
    "source_embed_list = []\n",
    "target_embed_list = []\n",
    "\n",
    "for j in tqdm(range(len(inductive_test_valid))):\n",
    "    \n",
    "    src = np.random.choice(list(inductive_test_valid_node_dict.keys()))\n",
    "    trgt = np.random.choice(list(inductive_test_valid_node_dict.keys()))\n",
    "    \n",
    "    source_list.append(src)\n",
    "    target_list.append(trgt)\n",
    "    year_list.append(2015)\n",
    "    source_embed_list.append(inductive_test_valid_node_dict[src])\n",
    "    target_embed_list.append(inductive_test_valid_node_dict[trgt])\n",
    "    \n",
    "inductive_test_valid_neg['SOURCE_SUBREDDIT'] = source_list\n",
    "inductive_test_valid_neg['TARGET_SUBREDDIT'] = target_list\n",
    "inductive_test_valid_neg['year'] = year_list\n",
    "inductive_test_valid_neg['source_embed'] = source_embed_list\n",
    "inductive_test_valid_neg['target_embed'] = target_embed_list\n",
    "\n",
    "test_all = pd.concat([inductive_test_valid,inductive_test_valid_neg])\n",
    "test_all['label'] = [1] * len(inductive_test_valid) + [0] * len(inductive_test_valid_neg)\n",
    "test_all"
   ]
  },
  {
   "cell_type": "markdown",
   "metadata": {},
   "source": [
    "# Train and test classifier"
   ]
  },
  {
   "cell_type": "code",
   "execution_count": 49,
   "metadata": {},
   "outputs": [
    {
     "name": "stderr",
     "output_type": "stream",
     "text": [
      "114864it [00:55, 2083.32it/s]\n",
      "38616it [00:16, 2276.49it/s]\n"
     ]
    }
   ],
   "source": [
    "X_train = []\n",
    "\n",
    "for index, row in tqdm(train_all.iterrows()):\n",
    "    X_train.append(row['source_embed'] + row['target_embed'])\n",
    "    \n",
    "X_test = []\n",
    "\n",
    "for index, row in tqdm(test_all.iterrows()):\n",
    "    X_test.append(row['source_embed'] + row['target_embed'])"
   ]
  },
  {
   "cell_type": "code",
   "execution_count": 50,
   "metadata": {},
   "outputs": [],
   "source": [
    "clf = MLPClassifier(hidden_layer_sizes=(3,100),\n",
    "                    random_state=5,\n",
    "                    verbose=True,\n",
    "                    learning_rate_init=0.01)"
   ]
  },
  {
   "cell_type": "code",
   "execution_count": 51,
   "metadata": {
    "scrolled": true
   },
   "outputs": [
    {
     "name": "stdout",
     "output_type": "stream",
     "text": [
      "Iteration 1, loss = 0.39488640\n",
      "Iteration 2, loss = 0.36781015\n",
      "Iteration 3, loss = 0.36239685\n",
      "Iteration 4, loss = 0.35927710\n",
      "Iteration 5, loss = 0.35786563\n",
      "Iteration 6, loss = 0.35589509\n",
      "Iteration 7, loss = 0.35450908\n",
      "Iteration 8, loss = 0.35367219\n",
      "Iteration 9, loss = 0.35205866\n",
      "Iteration 10, loss = 0.35143864\n",
      "Iteration 11, loss = 0.35074304\n",
      "Iteration 12, loss = 0.35021916\n",
      "Iteration 13, loss = 0.34903393\n",
      "Iteration 14, loss = 0.34861939\n",
      "Iteration 15, loss = 0.34767162\n",
      "Iteration 16, loss = 0.34736968\n",
      "Iteration 17, loss = 0.34775899\n",
      "Iteration 18, loss = 0.34678608\n",
      "Iteration 19, loss = 0.34681736\n",
      "Iteration 20, loss = 0.34613485\n",
      "Iteration 21, loss = 0.34553819\n",
      "Iteration 22, loss = 0.34531179\n",
      "Iteration 23, loss = 0.34495259\n",
      "Iteration 24, loss = 0.34481912\n",
      "Iteration 25, loss = 0.34461787\n",
      "Iteration 26, loss = 0.34410545\n",
      "Iteration 27, loss = 0.34429579\n",
      "Iteration 28, loss = 0.34384419\n",
      "Iteration 29, loss = 0.34416700\n",
      "Iteration 30, loss = 0.34325010\n",
      "Iteration 31, loss = 0.34257353\n",
      "Iteration 32, loss = 0.34252849\n",
      "Iteration 33, loss = 0.34265709\n",
      "Iteration 34, loss = 0.34197127\n",
      "Iteration 35, loss = 0.34179985\n",
      "Iteration 36, loss = 0.34282249\n",
      "Iteration 37, loss = 0.34173900\n",
      "Iteration 38, loss = 0.34152955\n",
      "Iteration 39, loss = 0.34183856\n",
      "Iteration 40, loss = 0.34176703\n",
      "Iteration 41, loss = 0.34141402\n",
      "Iteration 42, loss = 0.34095716\n",
      "Iteration 43, loss = 0.34071768\n",
      "Iteration 44, loss = 0.34104721\n",
      "Iteration 45, loss = 0.34045269\n",
      "Iteration 46, loss = 0.34061221\n",
      "Iteration 47, loss = 0.34042629\n",
      "Iteration 48, loss = 0.34036833\n",
      "Iteration 49, loss = 0.34031846\n",
      "Iteration 50, loss = 0.33997325\n",
      "Iteration 51, loss = 0.34002246\n",
      "Iteration 52, loss = 0.34009056\n",
      "Iteration 53, loss = 0.33935079\n",
      "Iteration 54, loss = 0.33909114\n",
      "Iteration 55, loss = 0.33936380\n",
      "Iteration 56, loss = 0.33958264\n",
      "Iteration 57, loss = 0.33904684\n",
      "Iteration 58, loss = 0.33869297\n",
      "Iteration 59, loss = 0.33895902\n",
      "Iteration 60, loss = 0.33888762\n",
      "Iteration 61, loss = 0.33853484\n",
      "Iteration 62, loss = 0.33836716\n",
      "Iteration 63, loss = 0.33882973\n",
      "Iteration 64, loss = 0.33847122\n",
      "Iteration 65, loss = 0.33849746\n",
      "Iteration 66, loss = 0.33827891\n",
      "Iteration 67, loss = 0.33845065\n",
      "Iteration 68, loss = 0.33812935\n",
      "Iteration 69, loss = 0.33805258\n",
      "Iteration 70, loss = 0.33894416\n",
      "Iteration 71, loss = 0.33821766\n",
      "Iteration 72, loss = 0.33785913\n",
      "Iteration 73, loss = 0.33785520\n",
      "Iteration 74, loss = 0.33847011\n",
      "Iteration 75, loss = 0.33842908\n",
      "Iteration 76, loss = 0.33792177\n",
      "Iteration 77, loss = 0.33756489\n",
      "Iteration 78, loss = 0.33793934\n",
      "Iteration 79, loss = 0.33753305\n",
      "Iteration 80, loss = 0.33731460\n",
      "Iteration 81, loss = 0.33752696\n",
      "Iteration 82, loss = 0.33744361\n",
      "Iteration 83, loss = 0.33733711\n",
      "Iteration 84, loss = 0.33691851\n",
      "Iteration 85, loss = 0.33783305\n",
      "Iteration 86, loss = 0.33716061\n",
      "Iteration 87, loss = 0.33718792\n",
      "Iteration 88, loss = 0.33720032\n",
      "Iteration 89, loss = 0.33692960\n",
      "Iteration 90, loss = 0.33691191\n",
      "Iteration 91, loss = 0.33704626\n",
      "Iteration 92, loss = 0.33699440\n",
      "Iteration 93, loss = 0.33717843\n",
      "Iteration 94, loss = 0.33702484\n",
      "Iteration 95, loss = 0.33748503\n",
      "Training loss did not improve more than tol=0.000100 for 10 consecutive epochs. Stopping.\n"
     ]
    },
    {
     "data": {
      "text/plain": [
       "MLPClassifier(activation='relu', alpha=0.0001, batch_size='auto', beta_1=0.9,\n",
       "              beta_2=0.999, early_stopping=False, epsilon=1e-08,\n",
       "              hidden_layer_sizes=(3, 100), learning_rate='constant',\n",
       "              learning_rate_init=0.01, max_fun=15000, max_iter=200,\n",
       "              momentum=0.9, n_iter_no_change=10, nesterovs_momentum=True,\n",
       "              power_t=0.5, random_state=5, shuffle=True, solver='adam',\n",
       "              tol=0.0001, validation_fraction=0.1, verbose=True,\n",
       "              warm_start=False)"
      ]
     },
     "execution_count": 51,
     "metadata": {},
     "output_type": "execute_result"
    }
   ],
   "source": [
    "y_train = train_all['label'].tolist()\n",
    "clf.fit(X_train,y_train)"
   ]
  },
  {
   "cell_type": "code",
   "execution_count": 52,
   "metadata": {},
   "outputs": [],
   "source": [
    "ypred = clf.predict(X_test)"
   ]
  },
  {
   "cell_type": "code",
   "execution_count": 55,
   "metadata": {},
   "outputs": [
    {
     "name": "stdout",
     "output_type": "stream",
     "text": [
      "AUROC: 0.7030246529935779\n",
      "AUPRC: 0.6673617919721178\n"
     ]
    }
   ],
   "source": [
    "print('AUROC:', roc_auc_score(test_all['label'].tolist(), ypred))\n",
    "print('AUPRC:', average_precision_score(test_all['label'].tolist(), ypred))"
   ]
  },
  {
   "cell_type": "markdown",
   "metadata": {},
   "source": [
    "# Random Shuffling"
   ]
  },
  {
   "cell_type": "code",
   "execution_count": 56,
   "metadata": {},
   "outputs": [],
   "source": [
    "def crazyshuffle(arr):\n",
    "    \n",
    "    x, y = arr.shape\n",
    "    rows = np.indices((x,y))[0]\n",
    "    cols = [np.random.permutation(y) for _ in range(x)]\n",
    "    \n",
    "    return arr[rows, cols]"
   ]
  },
  {
   "cell_type": "code",
   "execution_count": 59,
   "metadata": {
    "scrolled": true
   },
   "outputs": [
    {
     "name": "stdout",
     "output_type": "stream",
     "text": [
      "Iteration 1, loss = 0.57641787\n",
      "Iteration 2, loss = 0.54741355\n",
      "Iteration 3, loss = 0.53655503\n",
      "Iteration 4, loss = 0.53097501\n",
      "Iteration 5, loss = 0.52556443\n",
      "Iteration 6, loss = 0.52272278\n",
      "Iteration 7, loss = 0.52048121\n",
      "Iteration 8, loss = 0.51850998\n",
      "Iteration 9, loss = 0.51641573\n",
      "Iteration 10, loss = 0.51571576\n",
      "Iteration 11, loss = 0.51416683\n",
      "Iteration 12, loss = 0.51315364\n",
      "Iteration 13, loss = 0.51226401\n",
      "Iteration 14, loss = 0.51114535\n",
      "Iteration 15, loss = 0.50995380\n",
      "Iteration 16, loss = 0.50972857\n",
      "Iteration 17, loss = 0.50905019\n",
      "Iteration 18, loss = 0.50858503\n",
      "Iteration 19, loss = 0.50816662\n",
      "Iteration 20, loss = 0.50753076\n",
      "Iteration 21, loss = 0.50720324\n",
      "Iteration 22, loss = 0.50630006\n",
      "Iteration 23, loss = 0.50641186\n",
      "Iteration 24, loss = 0.50630123\n",
      "Iteration 25, loss = 0.50558824\n",
      "Iteration 26, loss = 0.50545346\n",
      "Iteration 27, loss = 0.50499266\n",
      "Iteration 28, loss = 0.50526716\n",
      "Iteration 29, loss = 0.50452142\n",
      "Iteration 30, loss = 0.50426896\n",
      "Iteration 31, loss = 0.50402900\n",
      "Iteration 32, loss = 0.50409508\n",
      "Iteration 33, loss = 0.50398892\n",
      "Iteration 34, loss = 0.50367920\n",
      "Iteration 35, loss = 0.50343617\n",
      "Iteration 36, loss = 0.50343003\n",
      "Iteration 37, loss = 0.50329040\n",
      "Iteration 38, loss = 0.50302074\n",
      "Iteration 39, loss = 0.50299189\n",
      "Iteration 40, loss = 0.50268756\n",
      "Iteration 41, loss = 0.50248612\n",
      "Iteration 42, loss = 0.50260054\n",
      "Iteration 43, loss = 0.50222094\n",
      "Iteration 44, loss = 0.50213824\n",
      "Iteration 45, loss = 0.50181575\n",
      "Iteration 46, loss = 0.50222707\n",
      "Iteration 47, loss = 0.50165396\n",
      "Iteration 48, loss = 0.50133055\n",
      "Iteration 49, loss = 0.50146546\n",
      "Iteration 50, loss = 0.50149705\n",
      "Iteration 51, loss = 0.50142310\n",
      "Iteration 52, loss = 0.50146099\n",
      "Iteration 53, loss = 0.50139575\n",
      "Iteration 54, loss = 0.50074308\n",
      "Iteration 55, loss = 0.50077436\n",
      "Iteration 56, loss = 0.50087865\n",
      "Iteration 57, loss = 0.50094858\n",
      "Iteration 58, loss = 0.50085365\n",
      "Iteration 59, loss = 0.50073830\n",
      "Iteration 60, loss = 0.50047127\n",
      "Iteration 61, loss = 0.50070682\n",
      "Iteration 62, loss = 0.50045936\n",
      "Iteration 63, loss = 0.50049821\n",
      "Iteration 64, loss = 0.50028469\n",
      "Iteration 65, loss = 0.50042916\n",
      "Iteration 66, loss = 0.50036403\n",
      "Iteration 67, loss = 0.50028612\n",
      "Iteration 68, loss = 0.50016662\n",
      "Iteration 69, loss = 0.50004717\n",
      "Iteration 70, loss = 0.50018810\n",
      "Iteration 71, loss = 0.50000326\n",
      "Iteration 72, loss = 0.49970230\n",
      "Iteration 73, loss = 0.49985387\n",
      "Iteration 74, loss = 0.49996865\n",
      "Iteration 75, loss = 0.49997690\n",
      "Iteration 76, loss = 0.49980203\n",
      "Iteration 77, loss = 0.49958496\n",
      "Iteration 78, loss = 0.49981359\n",
      "Iteration 79, loss = 0.49968153\n",
      "Iteration 80, loss = 0.49960918\n",
      "Iteration 81, loss = 0.49921164\n",
      "Iteration 82, loss = 0.49954465\n",
      "Iteration 83, loss = 0.49967169\n",
      "Iteration 84, loss = 0.49933387\n",
      "Iteration 85, loss = 0.49936571\n",
      "Iteration 86, loss = 0.49916618\n",
      "Iteration 87, loss = 0.49912393\n",
      "Iteration 88, loss = 0.49910190\n",
      "Iteration 89, loss = 0.49934315\n",
      "Iteration 90, loss = 0.49948120\n",
      "Iteration 91, loss = 0.49935699\n",
      "Iteration 92, loss = 0.49914375\n",
      "Training loss did not improve more than tol=0.000100 for 10 consecutive epochs. Stopping.\n",
      "AUROC: 0.59760203024653\n",
      "AUPRC: 0.5620135017262091\n"
     ]
    }
   ],
   "source": [
    "X_train_shuffle = np.array(X_train)\n",
    "X_train_shuffle = crazyshuffle(X_train_shuffle)\n",
    "\n",
    "clf_shuffled = MLPClassifier(hidden_layer_sizes=(3,100),\n",
    "                    random_state=5,\n",
    "                    verbose=True,\n",
    "                    learning_rate_init=0.01)\n",
    "\n",
    "clf_shuffled.fit(X_train_shuffle,y_train)\n"
   ]
  },
  {
   "cell_type": "code",
   "execution_count": 62,
   "metadata": {},
   "outputs": [
    {
     "name": "stdout",
     "output_type": "stream",
     "text": [
      "AUROC: 0.6678319867412471\n",
      "AUPRC: 0.6219774079577194\n"
     ]
    }
   ],
   "source": [
    "ypred_shuffle = clf_shuffled.predict(X_test)\n",
    "\n",
    "print('AUROC:', roc_auc_score(test_all['label'].tolist(), ypred_shuffle))\n",
    "print('AUPRC:', average_precision_score(test_all['label'].tolist(), ypred_shuffle))"
   ]
  },
  {
   "cell_type": "markdown",
   "metadata": {},
   "source": [
    "# Random features"
   ]
  },
  {
   "cell_type": "code",
   "execution_count": 65,
   "metadata": {
    "scrolled": true
   },
   "outputs": [
    {
     "name": "stdout",
     "output_type": "stream",
     "text": [
      "Iteration 1, loss = 0.69377971\n",
      "Iteration 2, loss = 0.69334975\n",
      "Iteration 3, loss = 0.69331794\n",
      "Iteration 4, loss = 0.69323643\n",
      "Iteration 5, loss = 0.69326658\n",
      "Iteration 6, loss = 0.69317283\n",
      "Iteration 7, loss = 0.69320143\n",
      "Iteration 8, loss = 0.69326444\n",
      "Iteration 9, loss = 0.69319801\n",
      "Iteration 10, loss = 0.69324038\n",
      "Iteration 11, loss = 0.69323181\n",
      "Iteration 12, loss = 0.69325437\n",
      "Iteration 13, loss = 0.69319474\n",
      "Training loss did not improve more than tol=0.000100 for 10 consecutive epochs. Stopping.\n",
      "AUROC: 0.5\n",
      "AUPRC: 0.5\n"
     ]
    }
   ],
   "source": [
    "X_train_rand = np.random.rand(np.array(X_train).shape[0],np.array(X_train).shape[1])\n",
    "\n",
    "clf_rand = MLPClassifier(hidden_layer_sizes=(3,100),\n",
    "                    random_state=5,\n",
    "                    verbose=True,\n",
    "                    learning_rate_init=0.01)\n",
    "\n",
    "clf_rand.fit(X_train_rand,y_train)\n",
    "\n",
    "ypred_rand = clf_rand.predict(X_test)\n",
    "\n",
    "print('AUROC:', roc_auc_score(test_all['label'].tolist(), ypred_rand))\n",
    "print('AUPRC:', average_precision_score(test_all['label'].tolist(), ypred_rand))"
   ]
  },
  {
   "cell_type": "markdown",
   "metadata": {},
   "source": [
    "# Davis-Bouldin Score"
   ]
  },
  {
   "cell_type": "code",
   "execution_count": 69,
   "metadata": {},
   "outputs": [
    {
     "name": "stdout",
     "output_type": "stream",
     "text": [
      "2.9036008488030385\n",
      "20.561104058100163\n",
      "21.97783351845107\n"
     ]
    }
   ],
   "source": [
    "k_clusters = 5\n",
    "\n",
    "attributes_kmeans = KMeans(n_clusters=k_clusters, random_state=0).fit(X_train)\n",
    "print(davies_bouldin_score(X_train,attributes_kmeans.labels_))\n",
    "      \n",
    "shuffle_kmeans = KMeans(n_clusters=k_clusters, random_state=0).fit(X_train_shuffle)\n",
    "print(davies_bouldin_score(X_train_shuffle,shuffle_kmeans.labels_))\n",
    "      \n",
    "rand_kmeans = KMeans(n_clusters=k_clusters, random_state=0).fit(X_train_rand)\n",
    "print(davies_bouldin_score(X_train_rand,rand_kmeans.labels_))"
   ]
  },
  {
   "cell_type": "code",
   "execution_count": 70,
   "metadata": {},
   "outputs": [
    {
     "name": "stdout",
     "output_type": "stream",
     "text": [
      "2.3433695903057243\n",
      "11.429696476605915\n",
      "18.504317550093152\n"
     ]
    }
   ],
   "source": [
    "k_clusters = 10\n",
    "\n",
    "attributes_kmeans = KMeans(n_clusters=k_clusters, random_state=0).fit(X_train)\n",
    "print(davies_bouldin_score(X_train,attributes_kmeans.labels_))\n",
    "      \n",
    "shuffle_kmeans = KMeans(n_clusters=k_clusters, random_state=0).fit(X_train_shuffle)\n",
    "print(davies_bouldin_score(X_train_shuffle,shuffle_kmeans.labels_))\n",
    "      \n",
    "rand_kmeans = KMeans(n_clusters=k_clusters, random_state=0).fit(X_train_rand)\n",
    "print(davies_bouldin_score(X_train_rand,rand_kmeans.labels_))"
   ]
  }
 ],
 "metadata": {
  "kernelspec": {
   "display_name": "Python 3",
   "language": "python",
   "name": "python3"
  },
  "language_info": {
   "codemirror_mode": {
    "name": "ipython",
    "version": 3
   },
   "file_extension": ".py",
   "mimetype": "text/x-python",
   "name": "python",
   "nbconvert_exporter": "python",
   "pygments_lexer": "ipython3",
   "version": "3.7.7"
  }
 },
 "nbformat": 4,
 "nbformat_minor": 4
}
