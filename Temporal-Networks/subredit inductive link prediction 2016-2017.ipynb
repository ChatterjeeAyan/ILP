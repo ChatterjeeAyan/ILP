{
 "cells": [
  {
   "cell_type": "markdown",
   "metadata": {},
   "source": [
    "# Imports"
   ]
  },
  {
   "cell_type": "code",
   "execution_count": 1,
   "metadata": {},
   "outputs": [
    {
     "name": "stderr",
     "output_type": "stream",
     "text": [
      "C:\\Users\\Ayan\\anaconda3\\lib\\site-packages\\numpy\\_distributor_init.py:32: UserWarning: loaded more than 1 DLL from .libs:\n",
      "C:\\Users\\Ayan\\anaconda3\\lib\\site-packages\\numpy\\.libs\\libopenblas.GK7GX5KEQ4F6UYO3P26ULGBQYHGQO7J4.gfortran-win_amd64.dll\n",
      "C:\\Users\\Ayan\\anaconda3\\lib\\site-packages\\numpy\\.libs\\libopenblas.PYQHXLVVQ7VESDPUVUADXEVJOBGHJPAY.gfortran-win_amd64.dll\n",
      "  stacklevel=1)\n"
     ]
    }
   ],
   "source": [
    "import pandas as pd\n",
    "from tqdm import tqdm\n",
    "import numpy as np\n",
    "import networkx as nx\n",
    "from node2vec import Node2Vec\n",
    "from sklearn.neural_network import MLPClassifier\n",
    "from sklearn.metrics import roc_auc_score\n",
    "from sklearn.metrics import average_precision_score\n",
    "from sklearn.metrics.cluster import adjusted_mutual_info_score\n",
    "from sklearn.cluster import KMeans\n",
    "from sklearn.metrics import davies_bouldin_score"
   ]
  },
  {
   "cell_type": "markdown",
   "metadata": {},
   "source": [
    "# Load data"
   ]
  },
  {
   "cell_type": "code",
   "execution_count": 2,
   "metadata": {},
   "outputs": [],
   "source": [
    "soc_reddit_body = pd.read_csv('soc-redditHyperlinks-body.tsv', sep='\\t')"
   ]
  },
  {
   "cell_type": "code",
   "execution_count": 3,
   "metadata": {},
   "outputs": [
    {
     "data": {
      "text/html": [
       "<div>\n",
       "<style scoped>\n",
       "    .dataframe tbody tr th:only-of-type {\n",
       "        vertical-align: middle;\n",
       "    }\n",
       "\n",
       "    .dataframe tbody tr th {\n",
       "        vertical-align: top;\n",
       "    }\n",
       "\n",
       "    .dataframe thead th {\n",
       "        text-align: right;\n",
       "    }\n",
       "</style>\n",
       "<table border=\"1\" class=\"dataframe\">\n",
       "  <thead>\n",
       "    <tr style=\"text-align: right;\">\n",
       "      <th></th>\n",
       "      <th>SOURCE_SUBREDDIT</th>\n",
       "      <th>TARGET_SUBREDDIT</th>\n",
       "      <th>POST_ID</th>\n",
       "      <th>TIMESTAMP</th>\n",
       "      <th>LINK_SENTIMENT</th>\n",
       "      <th>PROPERTIES</th>\n",
       "    </tr>\n",
       "  </thead>\n",
       "  <tbody>\n",
       "    <tr>\n",
       "      <th>0</th>\n",
       "      <td>leagueoflegends</td>\n",
       "      <td>teamredditteams</td>\n",
       "      <td>1u4nrps</td>\n",
       "      <td>2013-12-31 16:39:58</td>\n",
       "      <td>1</td>\n",
       "      <td>345.0,298.0,0.75652173913,0.0173913043478,0.08...</td>\n",
       "    </tr>\n",
       "    <tr>\n",
       "      <th>1</th>\n",
       "      <td>theredlion</td>\n",
       "      <td>soccer</td>\n",
       "      <td>1u4qkd</td>\n",
       "      <td>2013-12-31 18:18:37</td>\n",
       "      <td>-1</td>\n",
       "      <td>101.0,98.0,0.742574257426,0.019801980198,0.049...</td>\n",
       "    </tr>\n",
       "    <tr>\n",
       "      <th>2</th>\n",
       "      <td>inlandempire</td>\n",
       "      <td>bikela</td>\n",
       "      <td>1u4qlzs</td>\n",
       "      <td>2014-01-01 14:54:35</td>\n",
       "      <td>1</td>\n",
       "      <td>85.0,85.0,0.752941176471,0.0235294117647,0.082...</td>\n",
       "    </tr>\n",
       "    <tr>\n",
       "      <th>3</th>\n",
       "      <td>nfl</td>\n",
       "      <td>cfb</td>\n",
       "      <td>1u4sjvs</td>\n",
       "      <td>2013-12-31 17:37:55</td>\n",
       "      <td>1</td>\n",
       "      <td>1124.0,949.0,0.772241992883,0.0017793594306,0....</td>\n",
       "    </tr>\n",
       "    <tr>\n",
       "      <th>4</th>\n",
       "      <td>playmygame</td>\n",
       "      <td>gamedev</td>\n",
       "      <td>1u4w5ss</td>\n",
       "      <td>2014-01-01 02:51:13</td>\n",
       "      <td>1</td>\n",
       "      <td>715.0,622.0,0.777622377622,0.00699300699301,0....</td>\n",
       "    </tr>\n",
       "  </tbody>\n",
       "</table>\n",
       "</div>"
      ],
      "text/plain": [
       "  SOURCE_SUBREDDIT TARGET_SUBREDDIT  POST_ID            TIMESTAMP  \\\n",
       "0  leagueoflegends  teamredditteams  1u4nrps  2013-12-31 16:39:58   \n",
       "1       theredlion           soccer   1u4qkd  2013-12-31 18:18:37   \n",
       "2     inlandempire           bikela  1u4qlzs  2014-01-01 14:54:35   \n",
       "3              nfl              cfb  1u4sjvs  2013-12-31 17:37:55   \n",
       "4       playmygame          gamedev  1u4w5ss  2014-01-01 02:51:13   \n",
       "\n",
       "   LINK_SENTIMENT                                         PROPERTIES  \n",
       "0               1  345.0,298.0,0.75652173913,0.0173913043478,0.08...  \n",
       "1              -1  101.0,98.0,0.742574257426,0.019801980198,0.049...  \n",
       "2               1  85.0,85.0,0.752941176471,0.0235294117647,0.082...  \n",
       "3               1  1124.0,949.0,0.772241992883,0.0017793594306,0....  \n",
       "4               1  715.0,622.0,0.777622377622,0.00699300699301,0....  "
      ]
     },
     "execution_count": 3,
     "metadata": {},
     "output_type": "execute_result"
    }
   ],
   "source": [
    "soc_reddit_body.head()"
   ]
  },
  {
   "cell_type": "code",
   "execution_count": 4,
   "metadata": {},
   "outputs": [],
   "source": [
    "embed_subreddit = pd.read_csv('web-redditEmbeddings-subreddits.csv')"
   ]
  },
  {
   "cell_type": "code",
   "execution_count": 5,
   "metadata": {},
   "outputs": [
    {
     "data": {
      "text/html": [
       "<div>\n",
       "<style scoped>\n",
       "    .dataframe tbody tr th:only-of-type {\n",
       "        vertical-align: middle;\n",
       "    }\n",
       "\n",
       "    .dataframe tbody tr th {\n",
       "        vertical-align: top;\n",
       "    }\n",
       "\n",
       "    .dataframe thead th {\n",
       "        text-align: right;\n",
       "    }\n",
       "</style>\n",
       "<table border=\"1\" class=\"dataframe\">\n",
       "  <thead>\n",
       "    <tr style=\"text-align: right;\">\n",
       "      <th></th>\n",
       "      <th>spiders</th>\n",
       "      <th>0.158972</th>\n",
       "      <th>0.285813</th>\n",
       "      <th>0.226329</th>\n",
       "      <th>-0.183338</th>\n",
       "      <th>-0.163159</th>\n",
       "      <th>-0.18891</th>\n",
       "      <th>0.422705</th>\n",
       "      <th>0.168602</th>\n",
       "      <th>0.178193</th>\n",
       "      <th>...</th>\n",
       "      <th>-0.025041</th>\n",
       "      <th>0.184655</th>\n",
       "      <th>0.111942</th>\n",
       "      <th>-1.125799</th>\n",
       "      <th>0.223129</th>\n",
       "      <th>-0.387323</th>\n",
       "      <th>-0.234882</th>\n",
       "      <th>-0.252297</th>\n",
       "      <th>-0.054315</th>\n",
       "      <th>0.500009</th>\n",
       "    </tr>\n",
       "  </thead>\n",
       "  <tbody>\n",
       "    <tr>\n",
       "      <th>0</th>\n",
       "      <td>askreddit</td>\n",
       "      <td>-0.499114</td>\n",
       "      <td>0.323983</td>\n",
       "      <td>-0.424809</td>\n",
       "      <td>-0.222705</td>\n",
       "      <td>-0.327201</td>\n",
       "      <td>0.412856</td>\n",
       "      <td>1.040088</td>\n",
       "      <td>0.996697</td>\n",
       "      <td>-1.256240</td>\n",
       "      <td>...</td>\n",
       "      <td>0.072151</td>\n",
       "      <td>0.226658</td>\n",
       "      <td>0.535705</td>\n",
       "      <td>0.039861</td>\n",
       "      <td>-0.027087</td>\n",
       "      <td>-0.239952</td>\n",
       "      <td>0.554510</td>\n",
       "      <td>0.676439</td>\n",
       "      <td>-0.328846</td>\n",
       "      <td>0.941547</td>\n",
       "    </tr>\n",
       "    <tr>\n",
       "      <th>1</th>\n",
       "      <td>globaloffensivetrade</td>\n",
       "      <td>-0.023145</td>\n",
       "      <td>-1.199374</td>\n",
       "      <td>1.661484</td>\n",
       "      <td>-1.025296</td>\n",
       "      <td>1.424670</td>\n",
       "      <td>-1.179507</td>\n",
       "      <td>-1.035703</td>\n",
       "      <td>0.329301</td>\n",
       "      <td>-0.567272</td>\n",
       "      <td>...</td>\n",
       "      <td>2.998430</td>\n",
       "      <td>-1.235703</td>\n",
       "      <td>-0.326850</td>\n",
       "      <td>4.381238</td>\n",
       "      <td>-1.965378</td>\n",
       "      <td>-2.369674</td>\n",
       "      <td>-0.615389</td>\n",
       "      <td>2.010601</td>\n",
       "      <td>-0.919314</td>\n",
       "      <td>-2.149625</td>\n",
       "    </tr>\n",
       "    <tr>\n",
       "      <th>2</th>\n",
       "      <td>fireteams</td>\n",
       "      <td>2.492506</td>\n",
       "      <td>-2.529917</td>\n",
       "      <td>-0.448484</td>\n",
       "      <td>-3.543441</td>\n",
       "      <td>-0.586122</td>\n",
       "      <td>-0.101517</td>\n",
       "      <td>1.837567</td>\n",
       "      <td>-0.215715</td>\n",
       "      <td>-2.460388</td>\n",
       "      <td>...</td>\n",
       "      <td>-1.875214</td>\n",
       "      <td>0.969291</td>\n",
       "      <td>0.497958</td>\n",
       "      <td>2.941132</td>\n",
       "      <td>2.423561</td>\n",
       "      <td>1.315691</td>\n",
       "      <td>-0.959618</td>\n",
       "      <td>0.151845</td>\n",
       "      <td>-0.852492</td>\n",
       "      <td>-0.467526</td>\n",
       "    </tr>\n",
       "    <tr>\n",
       "      <th>3</th>\n",
       "      <td>funny</td>\n",
       "      <td>-0.819370</td>\n",
       "      <td>-0.865261</td>\n",
       "      <td>0.301753</td>\n",
       "      <td>0.018787</td>\n",
       "      <td>0.201029</td>\n",
       "      <td>0.070462</td>\n",
       "      <td>0.903895</td>\n",
       "      <td>1.038460</td>\n",
       "      <td>-0.306950</td>\n",
       "      <td>...</td>\n",
       "      <td>1.364194</td>\n",
       "      <td>0.830233</td>\n",
       "      <td>-0.137822</td>\n",
       "      <td>-2.204667</td>\n",
       "      <td>-0.162008</td>\n",
       "      <td>0.390291</td>\n",
       "      <td>-0.556404</td>\n",
       "      <td>0.322684</td>\n",
       "      <td>0.641634</td>\n",
       "      <td>1.320716</td>\n",
       "    </tr>\n",
       "    <tr>\n",
       "      <th>4</th>\n",
       "      <td>the_donald</td>\n",
       "      <td>-0.123265</td>\n",
       "      <td>-0.610208</td>\n",
       "      <td>0.361495</td>\n",
       "      <td>-1.171773</td>\n",
       "      <td>0.367407</td>\n",
       "      <td>0.624919</td>\n",
       "      <td>2.420601</td>\n",
       "      <td>-0.447998</td>\n",
       "      <td>1.393862</td>\n",
       "      <td>...</td>\n",
       "      <td>0.981761</td>\n",
       "      <td>1.044754</td>\n",
       "      <td>-2.334628</td>\n",
       "      <td>-0.005856</td>\n",
       "      <td>-1.647531</td>\n",
       "      <td>-0.139574</td>\n",
       "      <td>-0.284726</td>\n",
       "      <td>0.315069</td>\n",
       "      <td>-0.846018</td>\n",
       "      <td>0.800535</td>\n",
       "    </tr>\n",
       "  </tbody>\n",
       "</table>\n",
       "<p>5 rows × 301 columns</p>\n",
       "</div>"
      ],
      "text/plain": [
       "                spiders  0.158972  0.285813  0.226329  -0.183338  -0.163159  \\\n",
       "0             askreddit -0.499114  0.323983 -0.424809  -0.222705  -0.327201   \n",
       "1  globaloffensivetrade -0.023145 -1.199374  1.661484  -1.025296   1.424670   \n",
       "2             fireteams  2.492506 -2.529917 -0.448484  -3.543441  -0.586122   \n",
       "3                 funny -0.819370 -0.865261  0.301753   0.018787   0.201029   \n",
       "4            the_donald -0.123265 -0.610208  0.361495  -1.171773   0.367407   \n",
       "\n",
       "   -0.18891  0.422705  0.168602  0.178193  ...  -0.025041  0.184655  0.111942  \\\n",
       "0  0.412856  1.040088  0.996697 -1.256240  ...   0.072151  0.226658  0.535705   \n",
       "1 -1.179507 -1.035703  0.329301 -0.567272  ...   2.998430 -1.235703 -0.326850   \n",
       "2 -0.101517  1.837567 -0.215715 -2.460388  ...  -1.875214  0.969291  0.497958   \n",
       "3  0.070462  0.903895  1.038460 -0.306950  ...   1.364194  0.830233 -0.137822   \n",
       "4  0.624919  2.420601 -0.447998  1.393862  ...   0.981761  1.044754 -2.334628   \n",
       "\n",
       "   -1.125799  0.223129  -0.387323  -0.234882  -0.252297  -0.054315  0.500009  \n",
       "0   0.039861 -0.027087  -0.239952   0.554510   0.676439  -0.328846  0.941547  \n",
       "1   4.381238 -1.965378  -2.369674  -0.615389   2.010601  -0.919314 -2.149625  \n",
       "2   2.941132  2.423561   1.315691  -0.959618   0.151845  -0.852492 -0.467526  \n",
       "3  -2.204667 -0.162008   0.390291  -0.556404   0.322684   0.641634  1.320716  \n",
       "4  -0.005856 -1.647531  -0.139574  -0.284726   0.315069  -0.846018  0.800535  \n",
       "\n",
       "[5 rows x 301 columns]"
      ]
     },
     "execution_count": 5,
     "metadata": {},
     "output_type": "execute_result"
    }
   ],
   "source": [
    "embed_subreddit.head()"
   ]
  },
  {
   "cell_type": "code",
   "execution_count": 6,
   "metadata": {},
   "outputs": [],
   "source": [
    "nodes = set(soc_reddit_body['SOURCE_SUBREDDIT'].tolist()).union(set(soc_reddit_body['TARGET_SUBREDDIT'].tolist()))"
   ]
  },
  {
   "cell_type": "code",
   "execution_count": 7,
   "metadata": {},
   "outputs": [
    {
     "data": {
      "text/plain": [
       "35776"
      ]
     },
     "execution_count": 7,
     "metadata": {},
     "output_type": "execute_result"
    }
   ],
   "source": [
    "len(nodes)"
   ]
  },
  {
   "cell_type": "code",
   "execution_count": 8,
   "metadata": {},
   "outputs": [
    {
     "name": "stderr",
     "output_type": "stream",
     "text": [
      "100%|██████████████████████████████████████████████████████████████████████████| 51277/51277 [00:23<00:00, 2222.74it/s]\n"
     ]
    }
   ],
   "source": [
    "node_emb_names = []\n",
    "node_embd_vec = []\n",
    "\n",
    "for j in tqdm(range(len(embed_subreddit))):\n",
    "    node_emb_names.append(embed_subreddit.iloc[j].tolist()[0])\n",
    "    node_embd_vec.append(embed_subreddit.iloc[j].tolist()[1:302])"
   ]
  },
  {
   "cell_type": "code",
   "execution_count": 9,
   "metadata": {},
   "outputs": [],
   "source": [
    "node_embd_name_vec = dict(zip(node_emb_names,node_embd_vec))"
   ]
  },
  {
   "cell_type": "code",
   "execution_count": 10,
   "metadata": {},
   "outputs": [
    {
     "data": {
      "text/plain": [
       "51277"
      ]
     },
     "execution_count": 10,
     "metadata": {},
     "output_type": "execute_result"
    }
   ],
   "source": [
    "len(node_emb_names)"
   ]
  },
  {
   "cell_type": "code",
   "execution_count": 11,
   "metadata": {},
   "outputs": [
    {
     "data": {
      "text/plain": [
       "21674"
      ]
     },
     "execution_count": 11,
     "metadata": {},
     "output_type": "execute_result"
    }
   ],
   "source": [
    "len(nodes.intersection(set(node_emb_names)))"
   ]
  },
  {
   "cell_type": "code",
   "execution_count": 12,
   "metadata": {},
   "outputs": [
    {
     "name": "stderr",
     "output_type": "stream",
     "text": [
      "286561it [00:31, 9161.95it/s]"
     ]
    },
    {
     "name": "stdout",
     "output_type": "stream",
     "text": [
      "{'2016', '2013', '2015', '2014', '2017'}\n"
     ]
    },
    {
     "name": "stderr",
     "output_type": "stream",
     "text": [
      "\n"
     ]
    }
   ],
   "source": [
    "node_1_embed = []\n",
    "node_2_embed = []\n",
    "year_list = []\n",
    "found_1 = []\n",
    "found_2 = []\n",
    "\n",
    "for index, row in tqdm(soc_reddit_body.iterrows()):\n",
    "    year_list.append(row['TIMESTAMP'].split()[0].split('-')[0])\n",
    "    try:\n",
    "        node_1_embed.append(node_embd_name_vec[row['SOURCE_SUBREDDIT']])\n",
    "        found_1.append(1)\n",
    "    except:\n",
    "        node_1_embed.append([0]*300)\n",
    "        found_1.append(0)\n",
    "    try:\n",
    "        node_2_embed.append(node_embd_name_vec[row['TARGET_SUBREDDIT']])\n",
    "        found_2.append(1)\n",
    "    except:\n",
    "        node_2_embed.append([0]*300)\n",
    "        found_2.append(0)\n",
    "\n",
    "print(set(year_list))"
   ]
  },
  {
   "cell_type": "code",
   "execution_count": 13,
   "metadata": {
    "scrolled": true
   },
   "outputs": [],
   "source": [
    "soc_reddit_body['year'] = year_list\n",
    "soc_reddit_body['source_embed'] = node_1_embed\n",
    "soc_reddit_body['target_embed'] = node_2_embed\n",
    "soc_reddit_body['found_1'] = found_1\n",
    "soc_reddit_body['found_2'] = found_2"
   ]
  },
  {
   "cell_type": "code",
   "execution_count": 14,
   "metadata": {
    "scrolled": true
   },
   "outputs": [
    {
     "data": {
      "text/html": [
       "<div>\n",
       "<style scoped>\n",
       "    .dataframe tbody tr th:only-of-type {\n",
       "        vertical-align: middle;\n",
       "    }\n",
       "\n",
       "    .dataframe tbody tr th {\n",
       "        vertical-align: top;\n",
       "    }\n",
       "\n",
       "    .dataframe thead th {\n",
       "        text-align: right;\n",
       "    }\n",
       "</style>\n",
       "<table border=\"1\" class=\"dataframe\">\n",
       "  <thead>\n",
       "    <tr style=\"text-align: right;\">\n",
       "      <th></th>\n",
       "      <th>SOURCE_SUBREDDIT</th>\n",
       "      <th>TARGET_SUBREDDIT</th>\n",
       "      <th>POST_ID</th>\n",
       "      <th>TIMESTAMP</th>\n",
       "      <th>LINK_SENTIMENT</th>\n",
       "      <th>PROPERTIES</th>\n",
       "      <th>year</th>\n",
       "      <th>source_embed</th>\n",
       "      <th>target_embed</th>\n",
       "      <th>found_1</th>\n",
       "      <th>found_2</th>\n",
       "    </tr>\n",
       "  </thead>\n",
       "  <tbody>\n",
       "    <tr>\n",
       "      <th>0</th>\n",
       "      <td>leagueoflegends</td>\n",
       "      <td>teamredditteams</td>\n",
       "      <td>1u4nrps</td>\n",
       "      <td>2013-12-31 16:39:58</td>\n",
       "      <td>1</td>\n",
       "      <td>345.0,298.0,0.75652173913,0.0173913043478,0.08...</td>\n",
       "      <td>2013</td>\n",
       "      <td>[-2.785298, -0.166391, 1.592624, -1.269829, 2....</td>\n",
       "      <td>[-1.402933, -1.1156540000000001, 0.921651, -0....</td>\n",
       "      <td>1</td>\n",
       "      <td>1</td>\n",
       "    </tr>\n",
       "    <tr>\n",
       "      <th>1</th>\n",
       "      <td>theredlion</td>\n",
       "      <td>soccer</td>\n",
       "      <td>1u4qkd</td>\n",
       "      <td>2013-12-31 18:18:37</td>\n",
       "      <td>-1</td>\n",
       "      <td>101.0,98.0,0.742574257426,0.019801980198,0.049...</td>\n",
       "      <td>2013</td>\n",
       "      <td>[-0.239977, -0.24648299999999998, 0.0596789999...</td>\n",
       "      <td>[-2.7988470000000003, -1.243099, 0.513319, 0.1...</td>\n",
       "      <td>1</td>\n",
       "      <td>1</td>\n",
       "    </tr>\n",
       "    <tr>\n",
       "      <th>2</th>\n",
       "      <td>inlandempire</td>\n",
       "      <td>bikela</td>\n",
       "      <td>1u4qlzs</td>\n",
       "      <td>2014-01-01 14:54:35</td>\n",
       "      <td>1</td>\n",
       "      <td>85.0,85.0,0.752941176471,0.0235294117647,0.082...</td>\n",
       "      <td>2014</td>\n",
       "      <td>[0.070123, -0.001389, 0.143414, -0.46698900000...</td>\n",
       "      <td>[0.15803, 0.035602999999999996, 0.197221, -0.4...</td>\n",
       "      <td>1</td>\n",
       "      <td>1</td>\n",
       "    </tr>\n",
       "    <tr>\n",
       "      <th>3</th>\n",
       "      <td>nfl</td>\n",
       "      <td>cfb</td>\n",
       "      <td>1u4sjvs</td>\n",
       "      <td>2013-12-31 17:37:55</td>\n",
       "      <td>1</td>\n",
       "      <td>1124.0,949.0,0.772241992883,0.0017793594306,0....</td>\n",
       "      <td>2013</td>\n",
       "      <td>[-0.41374399999999995, 0.13559300000000002, -0...</td>\n",
       "      <td>[-0.5422899999999999, 1.0747719999999998, 0.23...</td>\n",
       "      <td>1</td>\n",
       "      <td>1</td>\n",
       "    </tr>\n",
       "    <tr>\n",
       "      <th>4</th>\n",
       "      <td>playmygame</td>\n",
       "      <td>gamedev</td>\n",
       "      <td>1u4w5ss</td>\n",
       "      <td>2014-01-01 02:51:13</td>\n",
       "      <td>1</td>\n",
       "      <td>715.0,622.0,0.777622377622,0.00699300699301,0....</td>\n",
       "      <td>2014</td>\n",
       "      <td>[0.006368, -0.135252, 0.45853299999999997, -0....</td>\n",
       "      <td>[-0.033949, 0.15096600000000002, 1.039643, -0....</td>\n",
       "      <td>1</td>\n",
       "      <td>1</td>\n",
       "    </tr>\n",
       "    <tr>\n",
       "      <th>...</th>\n",
       "      <td>...</td>\n",
       "      <td>...</td>\n",
       "      <td>...</td>\n",
       "      <td>...</td>\n",
       "      <td>...</td>\n",
       "      <td>...</td>\n",
       "      <td>...</td>\n",
       "      <td>...</td>\n",
       "      <td>...</td>\n",
       "      <td>...</td>\n",
       "      <td>...</td>\n",
       "    </tr>\n",
       "    <tr>\n",
       "      <th>286556</th>\n",
       "      <td>negareddit</td>\n",
       "      <td>debatefascism</td>\n",
       "      <td>68im20s</td>\n",
       "      <td>2017-04-30 16:31:26</td>\n",
       "      <td>1</td>\n",
       "      <td>441.0,405.0,0.775510204082,0.0294784580499,0.0...</td>\n",
       "      <td>2017</td>\n",
       "      <td>[-0.392242, 0.186111, 0.203193, -0.441168, 0.3...</td>\n",
       "      <td>[-0.202682, 0.126838, -0.077966, -0.2579079999...</td>\n",
       "      <td>1</td>\n",
       "      <td>1</td>\n",
       "    </tr>\n",
       "    <tr>\n",
       "      <th>286557</th>\n",
       "      <td>mildlynomil</td>\n",
       "      <td>justnomil</td>\n",
       "      <td>68imlas</td>\n",
       "      <td>2017-04-30 04:19:03</td>\n",
       "      <td>1</td>\n",
       "      <td>2226.0,1855.0,0.786163522013,0.00224618149146,...</td>\n",
       "      <td>2017</td>\n",
       "      <td>[-0.008284, -0.075661, 0.082401, -0.049988, 0....</td>\n",
       "      <td>[0.124855, -0.792166, 0.149331, 0.376434999999...</td>\n",
       "      <td>1</td>\n",
       "      <td>1</td>\n",
       "    </tr>\n",
       "    <tr>\n",
       "      <th>286558</th>\n",
       "      <td>mmorpg</td>\n",
       "      <td>blackdesertonline</td>\n",
       "      <td>68ip5os</td>\n",
       "      <td>2017-04-30 16:54:08</td>\n",
       "      <td>1</td>\n",
       "      <td>1100.0,909.0,0.778181818182,0.00181818181818,0...</td>\n",
       "      <td>2017</td>\n",
       "      <td>[0.008334999999999999, 0.0209, 0.9342010000000...</td>\n",
       "      <td>[-0.272359, -0.833299, 1.339546, -0.268322, 0....</td>\n",
       "      <td>1</td>\n",
       "      <td>1</td>\n",
       "    </tr>\n",
       "    <tr>\n",
       "      <th>286559</th>\n",
       "      <td>electricskateboards</td>\n",
       "      <td>askreddit</td>\n",
       "      <td>68ipb2s</td>\n",
       "      <td>2017-04-30 16:41:53</td>\n",
       "      <td>1</td>\n",
       "      <td>1876.0,1567.0,0.78144989339,0.00692963752665,0...</td>\n",
       "      <td>2017</td>\n",
       "      <td>[0, 0, 0, 0, 0, 0, 0, 0, 0, 0, 0, 0, 0, 0, 0, ...</td>\n",
       "      <td>[-0.49911400000000006, 0.32398299999999997, -0...</td>\n",
       "      <td>0</td>\n",
       "      <td>1</td>\n",
       "    </tr>\n",
       "    <tr>\n",
       "      <th>286560</th>\n",
       "      <td>mgtow</td>\n",
       "      <td>dataisbeautiful</td>\n",
       "      <td>68ipeos</td>\n",
       "      <td>2017-04-30 16:52:59</td>\n",
       "      <td>1</td>\n",
       "      <td>1129.0,975.0,0.795394154119,0.0150575730735,0....</td>\n",
       "      <td>2017</td>\n",
       "      <td>[-0.8605780000000001, 0.26107199999999997, -0....</td>\n",
       "      <td>[-0.48994099999999996, 0.037239, 0.430183, -0....</td>\n",
       "      <td>1</td>\n",
       "      <td>1</td>\n",
       "    </tr>\n",
       "  </tbody>\n",
       "</table>\n",
       "<p>286561 rows × 11 columns</p>\n",
       "</div>"
      ],
      "text/plain": [
       "           SOURCE_SUBREDDIT   TARGET_SUBREDDIT  POST_ID            TIMESTAMP  \\\n",
       "0           leagueoflegends    teamredditteams  1u4nrps  2013-12-31 16:39:58   \n",
       "1                theredlion             soccer   1u4qkd  2013-12-31 18:18:37   \n",
       "2              inlandempire             bikela  1u4qlzs  2014-01-01 14:54:35   \n",
       "3                       nfl                cfb  1u4sjvs  2013-12-31 17:37:55   \n",
       "4                playmygame            gamedev  1u4w5ss  2014-01-01 02:51:13   \n",
       "...                     ...                ...      ...                  ...   \n",
       "286556           negareddit      debatefascism  68im20s  2017-04-30 16:31:26   \n",
       "286557          mildlynomil          justnomil  68imlas  2017-04-30 04:19:03   \n",
       "286558               mmorpg  blackdesertonline  68ip5os  2017-04-30 16:54:08   \n",
       "286559  electricskateboards          askreddit  68ipb2s  2017-04-30 16:41:53   \n",
       "286560                mgtow    dataisbeautiful  68ipeos  2017-04-30 16:52:59   \n",
       "\n",
       "        LINK_SENTIMENT                                         PROPERTIES  \\\n",
       "0                    1  345.0,298.0,0.75652173913,0.0173913043478,0.08...   \n",
       "1                   -1  101.0,98.0,0.742574257426,0.019801980198,0.049...   \n",
       "2                    1  85.0,85.0,0.752941176471,0.0235294117647,0.082...   \n",
       "3                    1  1124.0,949.0,0.772241992883,0.0017793594306,0....   \n",
       "4                    1  715.0,622.0,0.777622377622,0.00699300699301,0....   \n",
       "...                ...                                                ...   \n",
       "286556               1  441.0,405.0,0.775510204082,0.0294784580499,0.0...   \n",
       "286557               1  2226.0,1855.0,0.786163522013,0.00224618149146,...   \n",
       "286558               1  1100.0,909.0,0.778181818182,0.00181818181818,0...   \n",
       "286559               1  1876.0,1567.0,0.78144989339,0.00692963752665,0...   \n",
       "286560               1  1129.0,975.0,0.795394154119,0.0150575730735,0....   \n",
       "\n",
       "        year                                       source_embed  \\\n",
       "0       2013  [-2.785298, -0.166391, 1.592624, -1.269829, 2....   \n",
       "1       2013  [-0.239977, -0.24648299999999998, 0.0596789999...   \n",
       "2       2014  [0.070123, -0.001389, 0.143414, -0.46698900000...   \n",
       "3       2013  [-0.41374399999999995, 0.13559300000000002, -0...   \n",
       "4       2014  [0.006368, -0.135252, 0.45853299999999997, -0....   \n",
       "...      ...                                                ...   \n",
       "286556  2017  [-0.392242, 0.186111, 0.203193, -0.441168, 0.3...   \n",
       "286557  2017  [-0.008284, -0.075661, 0.082401, -0.049988, 0....   \n",
       "286558  2017  [0.008334999999999999, 0.0209, 0.9342010000000...   \n",
       "286559  2017  [0, 0, 0, 0, 0, 0, 0, 0, 0, 0, 0, 0, 0, 0, 0, ...   \n",
       "286560  2017  [-0.8605780000000001, 0.26107199999999997, -0....   \n",
       "\n",
       "                                             target_embed  found_1  found_2  \n",
       "0       [-1.402933, -1.1156540000000001, 0.921651, -0....        1        1  \n",
       "1       [-2.7988470000000003, -1.243099, 0.513319, 0.1...        1        1  \n",
       "2       [0.15803, 0.035602999999999996, 0.197221, -0.4...        1        1  \n",
       "3       [-0.5422899999999999, 1.0747719999999998, 0.23...        1        1  \n",
       "4       [-0.033949, 0.15096600000000002, 1.039643, -0....        1        1  \n",
       "...                                                   ...      ...      ...  \n",
       "286556  [-0.202682, 0.126838, -0.077966, -0.2579079999...        1        1  \n",
       "286557  [0.124855, -0.792166, 0.149331, 0.376434999999...        1        1  \n",
       "286558  [-0.272359, -0.833299, 1.339546, -0.268322, 0....        1        1  \n",
       "286559  [-0.49911400000000006, 0.32398299999999997, -0...        0        1  \n",
       "286560  [-0.48994099999999996, 0.037239, 0.430183, -0....        1        1  \n",
       "\n",
       "[286561 rows x 11 columns]"
      ]
     },
     "execution_count": 14,
     "metadata": {},
     "output_type": "execute_result"
    }
   ],
   "source": [
    "soc_reddit_body"
   ]
  },
  {
   "cell_type": "markdown",
   "metadata": {},
   "source": [
    "# Trains on 2016 and test on 2017"
   ]
  },
  {
   "cell_type": "code",
   "execution_count": 15,
   "metadata": {},
   "outputs": [
    {
     "name": "stdout",
     "output_type": "stream",
     "text": [
      "98229 36406\n"
     ]
    }
   ],
   "source": [
    "train = soc_reddit_body[soc_reddit_body['year'] == '2016']\n",
    "test = soc_reddit_body[soc_reddit_body['year'] == '2017']\n",
    "print(len(train),len(test))"
   ]
  },
  {
   "cell_type": "code",
   "execution_count": 16,
   "metadata": {
    "scrolled": true
   },
   "outputs": [
    {
     "name": "stdout",
     "output_type": "stream",
     "text": [
      "Inductive nodes:  3758\n"
     ]
    }
   ],
   "source": [
    "train_nodes = set(train['SOURCE_SUBREDDIT'].tolist()).union(set(train['TARGET_SUBREDDIT'].tolist()))\n",
    "test_nodes = set(test['SOURCE_SUBREDDIT'].tolist()).union(set(test['TARGET_SUBREDDIT'].tolist()))\n",
    "print('Inductive nodes: ', len(test_nodes.difference(train_nodes)))"
   ]
  },
  {
   "cell_type": "code",
   "execution_count": 17,
   "metadata": {},
   "outputs": [
    {
     "name": "stdout",
     "output_type": "stream",
     "text": [
      "Size of inductive test set:  7035\n"
     ]
    }
   ],
   "source": [
    "inductive_nodes = test_nodes.difference(train_nodes)\n",
    "inductive_test = test[test['SOURCE_SUBREDDIT'].isin(inductive_nodes) | test['TARGET_SUBREDDIT'].isin(inductive_nodes)]\n",
    "print('Size of inductive test set: ', len(inductive_test))"
   ]
  },
  {
   "cell_type": "code",
   "execution_count": 18,
   "metadata": {
    "scrolled": true
   },
   "outputs": [
    {
     "name": "stdout",
     "output_type": "stream",
     "text": [
      "87401\n",
      "3795\n"
     ]
    }
   ],
   "source": [
    "train_valid = train[train['found_1'].isin([1]) & train['found_2'].isin([1])]\n",
    "print(len(train_valid))\n",
    "inductive_test_valid = inductive_test[inductive_test['found_1'].isin([1]) & inductive_test['found_2'].isin([1])]\n",
    "print(len(inductive_test_valid))"
   ]
  },
  {
   "cell_type": "code",
   "execution_count": 19,
   "metadata": {
    "scrolled": true
   },
   "outputs": [],
   "source": [
    "train_valid = train_valid[['SOURCE_SUBREDDIT','TARGET_SUBREDDIT', 'year', 'source_embed', 'target_embed']]\n",
    "inductive_test_valid = inductive_test_valid[['SOURCE_SUBREDDIT','TARGET_SUBREDDIT', 'year', 'source_embed', 'target_embed']]"
   ]
  },
  {
   "cell_type": "markdown",
   "metadata": {},
   "source": [
    "## Generating negatives"
   ]
  },
  {
   "cell_type": "code",
   "execution_count": 20,
   "metadata": {},
   "outputs": [
    {
     "name": "stderr",
     "output_type": "stream",
     "text": [
      "87401it [00:10, 8037.09it/s]\n",
      "3795it [00:00, 7846.85it/s]\n"
     ]
    }
   ],
   "source": [
    "train_valid_node_dict = dict()\n",
    "\n",
    "for index, row in tqdm(train_valid.iterrows()):\n",
    "    train_valid_node_dict[row['SOURCE_SUBREDDIT']] = row['source_embed']\n",
    "    train_valid_node_dict[row['TARGET_SUBREDDIT']] = row['target_embed']\n",
    "    \n",
    "inductive_test_valid_node_dict = dict()\n",
    "\n",
    "for index, row in tqdm(inductive_test_valid.iterrows()):\n",
    "    inductive_test_valid_node_dict[row['SOURCE_SUBREDDIT']] = row['source_embed']\n",
    "    inductive_test_valid_node_dict[row['TARGET_SUBREDDIT']] = row['target_embed']"
   ]
  },
  {
   "cell_type": "code",
   "execution_count": 21,
   "metadata": {
    "scrolled": true
   },
   "outputs": [
    {
     "name": "stderr",
     "output_type": "stream",
     "text": [
      "100%|███████████████████████████████████████████████████████████████████████████| 87401/87401 [09:59<00:00, 145.72it/s]\n"
     ]
    },
    {
     "data": {
      "text/html": [
       "<div>\n",
       "<style scoped>\n",
       "    .dataframe tbody tr th:only-of-type {\n",
       "        vertical-align: middle;\n",
       "    }\n",
       "\n",
       "    .dataframe tbody tr th {\n",
       "        vertical-align: top;\n",
       "    }\n",
       "\n",
       "    .dataframe thead th {\n",
       "        text-align: right;\n",
       "    }\n",
       "</style>\n",
       "<table border=\"1\" class=\"dataframe\">\n",
       "  <thead>\n",
       "    <tr style=\"text-align: right;\">\n",
       "      <th></th>\n",
       "      <th>SOURCE_SUBREDDIT</th>\n",
       "      <th>TARGET_SUBREDDIT</th>\n",
       "      <th>year</th>\n",
       "      <th>source_embed</th>\n",
       "      <th>target_embed</th>\n",
       "      <th>label</th>\n",
       "    </tr>\n",
       "  </thead>\n",
       "  <tbody>\n",
       "    <tr>\n",
       "      <th>128697</th>\n",
       "      <td>stevenuniversefanfic</td>\n",
       "      <td>stevenuniverse</td>\n",
       "      <td>2016</td>\n",
       "      <td>[-0.028525, -0.053530999999999995, 0.085959000...</td>\n",
       "      <td>[-0.573696, -0.48343, 1.3551090000000001, 0.37...</td>\n",
       "      <td>1</td>\n",
       "    </tr>\n",
       "    <tr>\n",
       "      <th>135255</th>\n",
       "      <td>tworedditorsonecup</td>\n",
       "      <td>formula1</td>\n",
       "      <td>2016</td>\n",
       "      <td>[-0.015385, -0.070425, 0.076922, -0.060391, 0....</td>\n",
       "      <td>[0.385633, -0.9249379999999999, 0.239616, 0.72...</td>\n",
       "      <td>1</td>\n",
       "    </tr>\n",
       "    <tr>\n",
       "      <th>148286</th>\n",
       "      <td>listofsubreddits</td>\n",
       "      <td>changelog</td>\n",
       "      <td>2016</td>\n",
       "      <td>[0.000697, -0.065453, 0.060517999999999995, -0...</td>\n",
       "      <td>[-0.02054, -0.07195599999999999, 0.074525, -0....</td>\n",
       "      <td>1</td>\n",
       "    </tr>\n",
       "    <tr>\n",
       "      <th>148411</th>\n",
       "      <td>faggots</td>\n",
       "      <td>redditrequest</td>\n",
       "      <td>2016</td>\n",
       "      <td>[0.001968, 0.0008300000000000001, -0.001843, -...</td>\n",
       "      <td>[-0.001361, 0.36938899999999997, 0.024178, -0....</td>\n",
       "      <td>1</td>\n",
       "    </tr>\n",
       "    <tr>\n",
       "      <th>149389</th>\n",
       "      <td>tppthegame</td>\n",
       "      <td>twitchplayspokemon</td>\n",
       "      <td>2016</td>\n",
       "      <td>[-0.095835, -0.069751, 0.116627, -0.004266, 0....</td>\n",
       "      <td>[-1.164833, -0.03354, 0.916997, -0.47464799999...</td>\n",
       "      <td>1</td>\n",
       "    </tr>\n",
       "    <tr>\n",
       "      <th>...</th>\n",
       "      <td>...</td>\n",
       "      <td>...</td>\n",
       "      <td>...</td>\n",
       "      <td>...</td>\n",
       "      <td>...</td>\n",
       "      <td>...</td>\n",
       "    </tr>\n",
       "    <tr>\n",
       "      <th>87396</th>\n",
       "      <td>shittysteamreviews</td>\n",
       "      <td>tytsucks</td>\n",
       "      <td>2016</td>\n",
       "      <td>[-0.041770999999999996, -0.101991, 0.107123, -...</td>\n",
       "      <td>[-0.099248, -0.062863, 0.048165, -0.105651, 0....</td>\n",
       "      <td>0</td>\n",
       "    </tr>\n",
       "    <tr>\n",
       "      <th>87397</th>\n",
       "      <td>mushishi</td>\n",
       "      <td>alcoholism</td>\n",
       "      <td>2016</td>\n",
       "      <td>[-0.025792000000000002, -0.055833, 0.089972, -...</td>\n",
       "      <td>[0.052161, 0.0511, 0.181901, -0.503351, -0.025...</td>\n",
       "      <td>0</td>\n",
       "    </tr>\n",
       "    <tr>\n",
       "      <th>87398</th>\n",
       "      <td>stem</td>\n",
       "      <td>gopro</td>\n",
       "      <td>2016</td>\n",
       "      <td>[-0.016462, -0.07764299999999999, 0.075554, -0...</td>\n",
       "      <td>[0.41653, -1.026502, 0.8841129999999999, -0.34...</td>\n",
       "      <td>0</td>\n",
       "    </tr>\n",
       "    <tr>\n",
       "      <th>87399</th>\n",
       "      <td>designerreps</td>\n",
       "      <td>themarketsofsidon</td>\n",
       "      <td>2016</td>\n",
       "      <td>[-0.206596, -0.718169, 0.26658899999999996, 0....</td>\n",
       "      <td>[-0.006553, -0.08631799999999999, 0.085161, -0...</td>\n",
       "      <td>0</td>\n",
       "    </tr>\n",
       "    <tr>\n",
       "      <th>87400</th>\n",
       "      <td>gtagivers</td>\n",
       "      <td>f1porn</td>\n",
       "      <td>2016</td>\n",
       "      <td>[-0.03129, -0.23264400000000002, 0.16657, -0.0...</td>\n",
       "      <td>[0.106466, -0.158351, 0.192418, 0.213732, 0.05...</td>\n",
       "      <td>0</td>\n",
       "    </tr>\n",
       "  </tbody>\n",
       "</table>\n",
       "<p>174802 rows × 6 columns</p>\n",
       "</div>"
      ],
      "text/plain": [
       "            SOURCE_SUBREDDIT    TARGET_SUBREDDIT  year  \\\n",
       "128697  stevenuniversefanfic      stevenuniverse  2016   \n",
       "135255    tworedditorsonecup            formula1  2016   \n",
       "148286      listofsubreddits           changelog  2016   \n",
       "148411               faggots       redditrequest  2016   \n",
       "149389            tppthegame  twitchplayspokemon  2016   \n",
       "...                      ...                 ...   ...   \n",
       "87396     shittysteamreviews            tytsucks  2016   \n",
       "87397               mushishi          alcoholism  2016   \n",
       "87398                   stem               gopro  2016   \n",
       "87399           designerreps   themarketsofsidon  2016   \n",
       "87400              gtagivers              f1porn  2016   \n",
       "\n",
       "                                             source_embed  \\\n",
       "128697  [-0.028525, -0.053530999999999995, 0.085959000...   \n",
       "135255  [-0.015385, -0.070425, 0.076922, -0.060391, 0....   \n",
       "148286  [0.000697, -0.065453, 0.060517999999999995, -0...   \n",
       "148411  [0.001968, 0.0008300000000000001, -0.001843, -...   \n",
       "149389  [-0.095835, -0.069751, 0.116627, -0.004266, 0....   \n",
       "...                                                   ...   \n",
       "87396   [-0.041770999999999996, -0.101991, 0.107123, -...   \n",
       "87397   [-0.025792000000000002, -0.055833, 0.089972, -...   \n",
       "87398   [-0.016462, -0.07764299999999999, 0.075554, -0...   \n",
       "87399   [-0.206596, -0.718169, 0.26658899999999996, 0....   \n",
       "87400   [-0.03129, -0.23264400000000002, 0.16657, -0.0...   \n",
       "\n",
       "                                             target_embed  label  \n",
       "128697  [-0.573696, -0.48343, 1.3551090000000001, 0.37...      1  \n",
       "135255  [0.385633, -0.9249379999999999, 0.239616, 0.72...      1  \n",
       "148286  [-0.02054, -0.07195599999999999, 0.074525, -0....      1  \n",
       "148411  [-0.001361, 0.36938899999999997, 0.024178, -0....      1  \n",
       "149389  [-1.164833, -0.03354, 0.916997, -0.47464799999...      1  \n",
       "...                                                   ...    ...  \n",
       "87396   [-0.099248, -0.062863, 0.048165, -0.105651, 0....      0  \n",
       "87397   [0.052161, 0.0511, 0.181901, -0.503351, -0.025...      0  \n",
       "87398   [0.41653, -1.026502, 0.8841129999999999, -0.34...      0  \n",
       "87399   [-0.006553, -0.08631799999999999, 0.085161, -0...      0  \n",
       "87400   [0.106466, -0.158351, 0.192418, 0.213732, 0.05...      0  \n",
       "\n",
       "[174802 rows x 6 columns]"
      ]
     },
     "execution_count": 21,
     "metadata": {},
     "output_type": "execute_result"
    }
   ],
   "source": [
    "train_neg = pd.DataFrame()\n",
    "\n",
    "source_list = []\n",
    "target_list = []\n",
    "year_list = []\n",
    "source_embed_list = []\n",
    "target_embed_list = []\n",
    "\n",
    "for j in tqdm(range(len(train_valid))):\n",
    "    \n",
    "    src = np.random.choice(list(train_valid_node_dict.keys()))\n",
    "    trgt = np.random.choice(list(train_valid_node_dict.keys()))\n",
    "    \n",
    "    source_list.append(src)\n",
    "    target_list.append(trgt)\n",
    "    year_list.append(2016)\n",
    "    source_embed_list.append(train_valid_node_dict[src])\n",
    "    target_embed_list.append(train_valid_node_dict[trgt])\n",
    "    \n",
    "train_neg['SOURCE_SUBREDDIT'] = source_list\n",
    "train_neg['TARGET_SUBREDDIT'] = target_list\n",
    "train_neg['year'] = year_list\n",
    "train_neg['source_embed'] = source_embed_list\n",
    "train_neg['target_embed'] = target_embed_list\n",
    "\n",
    "train_all = pd.concat([train_valid,train_neg])\n",
    "train_all['label'] = [1] * len(train_valid) + [0] * len(train_neg)\n",
    "train_all"
   ]
  },
  {
   "cell_type": "code",
   "execution_count": 22,
   "metadata": {
    "scrolled": true
   },
   "outputs": [
    {
     "name": "stderr",
     "output_type": "stream",
     "text": [
      "100%|█████████████████████████████████████████████████████████████████████████████| 3795/3795 [00:06<00:00, 591.22it/s]\n"
     ]
    },
    {
     "data": {
      "text/html": [
       "<div>\n",
       "<style scoped>\n",
       "    .dataframe tbody tr th:only-of-type {\n",
       "        vertical-align: middle;\n",
       "    }\n",
       "\n",
       "    .dataframe tbody tr th {\n",
       "        vertical-align: top;\n",
       "    }\n",
       "\n",
       "    .dataframe thead th {\n",
       "        text-align: right;\n",
       "    }\n",
       "</style>\n",
       "<table border=\"1\" class=\"dataframe\">\n",
       "  <thead>\n",
       "    <tr style=\"text-align: right;\">\n",
       "      <th></th>\n",
       "      <th>SOURCE_SUBREDDIT</th>\n",
       "      <th>TARGET_SUBREDDIT</th>\n",
       "      <th>year</th>\n",
       "      <th>source_embed</th>\n",
       "      <th>target_embed</th>\n",
       "      <th>label</th>\n",
       "    </tr>\n",
       "  </thead>\n",
       "  <tbody>\n",
       "    <tr>\n",
       "      <th>232949</th>\n",
       "      <td>islamwatch</td>\n",
       "      <td>islam</td>\n",
       "      <td>2017</td>\n",
       "      <td>[-0.025353, -0.048428, 0.036367000000000003, -...</td>\n",
       "      <td>[-0.134543, 0.828586, -0.418367, -0.511281, -0...</td>\n",
       "      <td>1</td>\n",
       "    </tr>\n",
       "    <tr>\n",
       "      <th>241752</th>\n",
       "      <td>westshire</td>\n",
       "      <td>lordsofminecraft</td>\n",
       "      <td>2017</td>\n",
       "      <td>[-0.007277, -0.089598, 0.079178, -0.06075, 0.0...</td>\n",
       "      <td>[0.030913, -0.270242, 0.221529, -0.101273, 0.1...</td>\n",
       "      <td>1</td>\n",
       "    </tr>\n",
       "    <tr>\n",
       "      <th>247402</th>\n",
       "      <td>socialistamerica</td>\n",
       "      <td>vexillology</td>\n",
       "      <td>2017</td>\n",
       "      <td>[-0.046465, -0.058859, 0.07697899999999999, -0...</td>\n",
       "      <td>[-0.591905, -0.361043, 0.107599, -0.842623, 0....</td>\n",
       "      <td>1</td>\n",
       "    </tr>\n",
       "    <tr>\n",
       "      <th>249591</th>\n",
       "      <td>capitalismiscrumbling</td>\n",
       "      <td>latestagecapitalism</td>\n",
       "      <td>2017</td>\n",
       "      <td>[-0.016158000000000002, -0.050200999999999996,...</td>\n",
       "      <td>[-0.364487, 0.321563, -0.015908000000000002, -...</td>\n",
       "      <td>1</td>\n",
       "    </tr>\n",
       "    <tr>\n",
       "      <th>250062</th>\n",
       "      <td>rgbprofiles</td>\n",
       "      <td>programming</td>\n",
       "      <td>2017</td>\n",
       "      <td>[-0.01441, -0.064221, 0.085774, -0.056686, 0.0...</td>\n",
       "      <td>[-0.071564, 0.007873999999999999, 0.9212520000...</td>\n",
       "      <td>1</td>\n",
       "    </tr>\n",
       "    <tr>\n",
       "      <th>...</th>\n",
       "      <td>...</td>\n",
       "      <td>...</td>\n",
       "      <td>...</td>\n",
       "      <td>...</td>\n",
       "      <td>...</td>\n",
       "      <td>...</td>\n",
       "    </tr>\n",
       "    <tr>\n",
       "      <th>3790</th>\n",
       "      <td>olympicgamesbids</td>\n",
       "      <td>entrepreneur</td>\n",
       "      <td>2017</td>\n",
       "      <td>[-0.046683999999999996, -0.028916000000000004,...</td>\n",
       "      <td>[-0.742021, -1.3089309999999998, 0.464033, -1....</td>\n",
       "      <td>0</td>\n",
       "    </tr>\n",
       "    <tr>\n",
       "      <th>3791</th>\n",
       "      <td>conspiracytheories</td>\n",
       "      <td>ashemains</td>\n",
       "      <td>2017</td>\n",
       "      <td>[0.005628, -0.036646, 0.050834, -0.072123, 0.0...</td>\n",
       "      <td>[-0.031523, -0.08709800000000001, 0.089517, -0...</td>\n",
       "      <td>0</td>\n",
       "    </tr>\n",
       "    <tr>\n",
       "      <th>3792</th>\n",
       "      <td>gilmoregirls</td>\n",
       "      <td>researchmarkets</td>\n",
       "      <td>2017</td>\n",
       "      <td>[0.105679, -0.329646, 0.160098, -0.098077, -0....</td>\n",
       "      <td>[-0.04262, -0.215193, 0.027936000000000002, -0...</td>\n",
       "      <td>0</td>\n",
       "    </tr>\n",
       "    <tr>\n",
       "      <th>3793</th>\n",
       "      <td>sonics</td>\n",
       "      <td>wifesharing</td>\n",
       "      <td>2017</td>\n",
       "      <td>[-0.031049, -0.050687, 0.057935, -0.1363650000...</td>\n",
       "      <td>[0.5246970000000001, -0.795682, -0.209837, 0.2...</td>\n",
       "      <td>0</td>\n",
       "    </tr>\n",
       "    <tr>\n",
       "      <th>3794</th>\n",
       "      <td>tinyhouses</td>\n",
       "      <td>kotakuinaction</td>\n",
       "      <td>2017</td>\n",
       "      <td>[0.111054, -0.025976999999999997, 0.20492, -0....</td>\n",
       "      <td>[-1.439872, -0.14138499999999998, 0.905487, -0...</td>\n",
       "      <td>0</td>\n",
       "    </tr>\n",
       "  </tbody>\n",
       "</table>\n",
       "<p>7590 rows × 6 columns</p>\n",
       "</div>"
      ],
      "text/plain": [
       "             SOURCE_SUBREDDIT     TARGET_SUBREDDIT  year  \\\n",
       "232949             islamwatch                islam  2017   \n",
       "241752              westshire     lordsofminecraft  2017   \n",
       "247402       socialistamerica          vexillology  2017   \n",
       "249591  capitalismiscrumbling  latestagecapitalism  2017   \n",
       "250062            rgbprofiles          programming  2017   \n",
       "...                       ...                  ...   ...   \n",
       "3790         olympicgamesbids         entrepreneur  2017   \n",
       "3791       conspiracytheories            ashemains  2017   \n",
       "3792             gilmoregirls      researchmarkets  2017   \n",
       "3793                   sonics          wifesharing  2017   \n",
       "3794               tinyhouses       kotakuinaction  2017   \n",
       "\n",
       "                                             source_embed  \\\n",
       "232949  [-0.025353, -0.048428, 0.036367000000000003, -...   \n",
       "241752  [-0.007277, -0.089598, 0.079178, -0.06075, 0.0...   \n",
       "247402  [-0.046465, -0.058859, 0.07697899999999999, -0...   \n",
       "249591  [-0.016158000000000002, -0.050200999999999996,...   \n",
       "250062  [-0.01441, -0.064221, 0.085774, -0.056686, 0.0...   \n",
       "...                                                   ...   \n",
       "3790    [-0.046683999999999996, -0.028916000000000004,...   \n",
       "3791    [0.005628, -0.036646, 0.050834, -0.072123, 0.0...   \n",
       "3792    [0.105679, -0.329646, 0.160098, -0.098077, -0....   \n",
       "3793    [-0.031049, -0.050687, 0.057935, -0.1363650000...   \n",
       "3794    [0.111054, -0.025976999999999997, 0.20492, -0....   \n",
       "\n",
       "                                             target_embed  label  \n",
       "232949  [-0.134543, 0.828586, -0.418367, -0.511281, -0...      1  \n",
       "241752  [0.030913, -0.270242, 0.221529, -0.101273, 0.1...      1  \n",
       "247402  [-0.591905, -0.361043, 0.107599, -0.842623, 0....      1  \n",
       "249591  [-0.364487, 0.321563, -0.015908000000000002, -...      1  \n",
       "250062  [-0.071564, 0.007873999999999999, 0.9212520000...      1  \n",
       "...                                                   ...    ...  \n",
       "3790    [-0.742021, -1.3089309999999998, 0.464033, -1....      0  \n",
       "3791    [-0.031523, -0.08709800000000001, 0.089517, -0...      0  \n",
       "3792    [-0.04262, -0.215193, 0.027936000000000002, -0...      0  \n",
       "3793    [0.5246970000000001, -0.795682, -0.209837, 0.2...      0  \n",
       "3794    [-1.439872, -0.14138499999999998, 0.905487, -0...      0  \n",
       "\n",
       "[7590 rows x 6 columns]"
      ]
     },
     "execution_count": 22,
     "metadata": {},
     "output_type": "execute_result"
    }
   ],
   "source": [
    "inductive_test_valid_neg = pd.DataFrame()\n",
    "\n",
    "source_list = []\n",
    "target_list = []\n",
    "year_list = []\n",
    "source_embed_list = []\n",
    "target_embed_list = []\n",
    "\n",
    "for j in tqdm(range(len(inductive_test_valid))):\n",
    "    \n",
    "    src = np.random.choice(list(inductive_test_valid_node_dict.keys()))\n",
    "    trgt = np.random.choice(list(inductive_test_valid_node_dict.keys()))\n",
    "    \n",
    "    source_list.append(src)\n",
    "    target_list.append(trgt)\n",
    "    year_list.append(2017)\n",
    "    source_embed_list.append(inductive_test_valid_node_dict[src])\n",
    "    target_embed_list.append(inductive_test_valid_node_dict[trgt])\n",
    "    \n",
    "inductive_test_valid_neg['SOURCE_SUBREDDIT'] = source_list\n",
    "inductive_test_valid_neg['TARGET_SUBREDDIT'] = target_list\n",
    "inductive_test_valid_neg['year'] = year_list\n",
    "inductive_test_valid_neg['source_embed'] = source_embed_list\n",
    "inductive_test_valid_neg['target_embed'] = target_embed_list\n",
    "\n",
    "test_all = pd.concat([inductive_test_valid,inductive_test_valid_neg])\n",
    "test_all['label'] = [1] * len(inductive_test_valid) + [0] * len(inductive_test_valid_neg)\n",
    "test_all"
   ]
  },
  {
   "cell_type": "markdown",
   "metadata": {},
   "source": [
    "# Train and test classifier"
   ]
  },
  {
   "cell_type": "code",
   "execution_count": 23,
   "metadata": {},
   "outputs": [
    {
     "name": "stderr",
     "output_type": "stream",
     "text": [
      "174802it [00:25, 6955.70it/s]\n",
      "7590it [00:01, 7537.63it/s]\n"
     ]
    }
   ],
   "source": [
    "X_train = []\n",
    "\n",
    "for index, row in tqdm(train_all.iterrows()):\n",
    "    X_train.append(row['source_embed'] + row['target_embed'])\n",
    "    \n",
    "X_test = []\n",
    "\n",
    "for index, row in tqdm(test_all.iterrows()):\n",
    "    X_test.append(row['source_embed'] + row['target_embed'])"
   ]
  },
  {
   "cell_type": "code",
   "execution_count": 24,
   "metadata": {},
   "outputs": [],
   "source": [
    "clf = MLPClassifier(hidden_layer_sizes=(3,100),\n",
    "                    random_state=5,\n",
    "                    verbose=True,\n",
    "                    learning_rate_init=0.01)"
   ]
  },
  {
   "cell_type": "code",
   "execution_count": 25,
   "metadata": {
    "scrolled": true
   },
   "outputs": [
    {
     "name": "stdout",
     "output_type": "stream",
     "text": [
      "Iteration 1, loss = 0.38646726\n",
      "Iteration 2, loss = 0.35508187\n",
      "Iteration 3, loss = 0.34898923\n",
      "Iteration 4, loss = 0.34502568\n",
      "Iteration 5, loss = 0.34234829\n",
      "Iteration 6, loss = 0.34108906\n",
      "Iteration 7, loss = 0.34028463\n",
      "Iteration 8, loss = 0.33808593\n",
      "Iteration 9, loss = 0.33794647\n",
      "Iteration 10, loss = 0.33666981\n",
      "Iteration 11, loss = 0.33632603\n",
      "Iteration 12, loss = 0.33451489\n",
      "Iteration 13, loss = 0.33465073\n",
      "Iteration 14, loss = 0.33371436\n",
      "Iteration 15, loss = 0.33323708\n",
      "Iteration 16, loss = 0.33297064\n",
      "Iteration 17, loss = 0.33262955\n",
      "Iteration 18, loss = 0.33235074\n",
      "Iteration 19, loss = 0.33236207\n",
      "Iteration 20, loss = 0.33118183\n",
      "Iteration 21, loss = 0.33109988\n",
      "Iteration 22, loss = 0.33066966\n",
      "Iteration 23, loss = 0.33215095\n",
      "Iteration 24, loss = 0.33229352\n",
      "Iteration 25, loss = 0.32879324\n",
      "Iteration 26, loss = 0.32907172\n",
      "Iteration 27, loss = 0.32978570\n",
      "Iteration 28, loss = 0.32867858\n",
      "Iteration 29, loss = 0.32853864\n",
      "Iteration 30, loss = 0.32802449\n",
      "Iteration 31, loss = 0.32822399\n",
      "Iteration 32, loss = 0.32815023\n",
      "Iteration 33, loss = 0.32795320\n",
      "Iteration 34, loss = 0.32753050\n",
      "Iteration 35, loss = 0.32754120\n",
      "Iteration 36, loss = 0.32729234\n",
      "Iteration 37, loss = 0.32743033\n",
      "Iteration 38, loss = 0.32682100\n",
      "Iteration 39, loss = 0.32658481\n",
      "Iteration 40, loss = 0.32693215\n",
      "Iteration 41, loss = 0.32604241\n",
      "Iteration 42, loss = 0.32624120\n",
      "Iteration 43, loss = 0.32595127\n",
      "Iteration 44, loss = 0.32644028\n",
      "Iteration 45, loss = 0.32604056\n",
      "Iteration 46, loss = 0.32530566\n",
      "Iteration 47, loss = 0.32477899\n",
      "Iteration 48, loss = 0.32568453\n",
      "Iteration 49, loss = 0.32525688\n",
      "Iteration 50, loss = 0.32524142\n",
      "Iteration 51, loss = 0.32523024\n",
      "Iteration 52, loss = 0.32509293\n",
      "Iteration 53, loss = 0.32541914\n",
      "Iteration 54, loss = 0.32497887\n",
      "Iteration 55, loss = 0.32496591\n",
      "Iteration 56, loss = 0.32448146\n",
      "Iteration 57, loss = 0.32558355\n",
      "Iteration 58, loss = 0.32466763\n",
      "Iteration 59, loss = 0.32361353\n",
      "Iteration 60, loss = 0.32598185\n",
      "Iteration 61, loss = 0.32551732\n",
      "Iteration 62, loss = 0.32597666\n",
      "Iteration 63, loss = 0.32389609\n",
      "Iteration 64, loss = 0.32574972\n",
      "Iteration 65, loss = 0.32408578\n",
      "Iteration 66, loss = 0.32396149\n",
      "Iteration 67, loss = 0.32343184\n",
      "Iteration 68, loss = 0.32320465\n",
      "Iteration 69, loss = 0.32401938\n",
      "Iteration 70, loss = 0.32461672\n",
      "Iteration 71, loss = 0.32308111\n",
      "Iteration 72, loss = 0.32332459\n",
      "Iteration 73, loss = 0.32336186\n",
      "Iteration 74, loss = 0.32303183\n",
      "Iteration 75, loss = 0.32334504\n",
      "Iteration 76, loss = 0.32310391\n",
      "Iteration 77, loss = 0.32297553\n",
      "Iteration 78, loss = 0.32378235\n",
      "Iteration 79, loss = 0.32300480\n",
      "Iteration 80, loss = 0.32270817\n",
      "Iteration 81, loss = 0.32367241\n",
      "Iteration 82, loss = 0.32348882\n",
      "Iteration 83, loss = 0.32301910\n",
      "Iteration 84, loss = 0.32330804\n",
      "Iteration 85, loss = 0.32314834\n",
      "Iteration 86, loss = 0.32304019\n",
      "Iteration 87, loss = 0.32267628\n",
      "Iteration 88, loss = 0.32311869\n",
      "Iteration 89, loss = 0.32228509\n",
      "Iteration 90, loss = 0.32276245\n",
      "Iteration 91, loss = 0.32254674\n",
      "Iteration 92, loss = 0.32271119\n",
      "Iteration 93, loss = 0.32262199\n",
      "Iteration 94, loss = 0.32366522\n",
      "Iteration 95, loss = 0.32231986\n",
      "Iteration 96, loss = 0.32253432\n",
      "Iteration 97, loss = 0.32212018\n",
      "Iteration 98, loss = 0.32201961\n",
      "Iteration 99, loss = 0.32227636\n",
      "Iteration 100, loss = 0.32229460\n",
      "Iteration 101, loss = 0.32245492\n",
      "Iteration 102, loss = 0.32221933\n",
      "Iteration 103, loss = 0.32251638\n",
      "Iteration 104, loss = 0.32204156\n",
      "Iteration 105, loss = 0.32261078\n",
      "Iteration 106, loss = 0.32210478\n",
      "Iteration 107, loss = 0.32221018\n",
      "Iteration 108, loss = 0.32201300\n",
      "Iteration 109, loss = 0.32234931\n",
      "Training loss did not improve more than tol=0.000100 for 10 consecutive epochs. Stopping.\n"
     ]
    },
    {
     "data": {
      "text/plain": [
       "MLPClassifier(activation='relu', alpha=0.0001, batch_size='auto', beta_1=0.9,\n",
       "              beta_2=0.999, early_stopping=False, epsilon=1e-08,\n",
       "              hidden_layer_sizes=(3, 100), learning_rate='constant',\n",
       "              learning_rate_init=0.01, max_fun=15000, max_iter=200,\n",
       "              momentum=0.9, n_iter_no_change=10, nesterovs_momentum=True,\n",
       "              power_t=0.5, random_state=5, shuffle=True, solver='adam',\n",
       "              tol=0.0001, validation_fraction=0.1, verbose=True,\n",
       "              warm_start=False)"
      ]
     },
     "execution_count": 25,
     "metadata": {},
     "output_type": "execute_result"
    }
   ],
   "source": [
    "y_train = train_all['label'].tolist()\n",
    "clf.fit(X_train,y_train)"
   ]
  },
  {
   "cell_type": "code",
   "execution_count": 26,
   "metadata": {},
   "outputs": [],
   "source": [
    "ypred = clf.predict(X_test)"
   ]
  },
  {
   "cell_type": "code",
   "execution_count": 27,
   "metadata": {},
   "outputs": [
    {
     "name": "stdout",
     "output_type": "stream",
     "text": [
      "AUROC: 0.6391304347826088\n",
      "AUPRC: 0.5970992764487322\n"
     ]
    }
   ],
   "source": [
    "print('AUROC:', roc_auc_score(test_all['label'].tolist(), ypred))\n",
    "print('AUPRC:', average_precision_score(test_all['label'].tolist(), ypred))"
   ]
  },
  {
   "cell_type": "markdown",
   "metadata": {},
   "source": [
    "# Random Shuffling"
   ]
  },
  {
   "cell_type": "code",
   "execution_count": 28,
   "metadata": {},
   "outputs": [],
   "source": [
    "def crazyshuffle(arr):\n",
    "    \n",
    "    x, y = arr.shape\n",
    "    rows = np.indices((x,y))[0]\n",
    "    cols = [np.random.permutation(y) for _ in range(x)]\n",
    "    \n",
    "    return arr[rows, cols]"
   ]
  },
  {
   "cell_type": "code",
   "execution_count": 29,
   "metadata": {
    "scrolled": true
   },
   "outputs": [
    {
     "name": "stdout",
     "output_type": "stream",
     "text": [
      "Iteration 1, loss = 0.56349230\n",
      "Iteration 2, loss = 0.53806371\n",
      "Iteration 3, loss = 0.52963832\n",
      "Iteration 4, loss = 0.52416644\n",
      "Iteration 5, loss = 0.52147878\n",
      "Iteration 6, loss = 0.51985873\n",
      "Iteration 7, loss = 0.51633925\n",
      "Iteration 8, loss = 0.51437721\n",
      "Iteration 9, loss = 0.51430080\n",
      "Iteration 10, loss = 0.51231388\n",
      "Iteration 11, loss = 0.51213990\n",
      "Iteration 12, loss = 0.51031313\n",
      "Iteration 13, loss = 0.50985105\n",
      "Iteration 14, loss = 0.50917845\n",
      "Iteration 15, loss = 0.50985630\n",
      "Iteration 16, loss = 0.50809664\n",
      "Iteration 17, loss = 0.50732600\n",
      "Iteration 18, loss = 0.50814759\n",
      "Iteration 19, loss = 0.50722837\n",
      "Iteration 20, loss = 0.50621796\n",
      "Iteration 21, loss = 0.50635019\n",
      "Iteration 22, loss = 0.50597834\n",
      "Iteration 23, loss = 0.50569931\n",
      "Iteration 24, loss = 0.50528603\n",
      "Iteration 25, loss = 0.50490272\n",
      "Iteration 26, loss = 0.50480047\n",
      "Iteration 27, loss = 0.50429325\n",
      "Iteration 28, loss = 0.50438614\n",
      "Iteration 29, loss = 0.50420685\n",
      "Iteration 30, loss = 0.50429298\n",
      "Iteration 31, loss = 0.50388534\n",
      "Iteration 32, loss = 0.50364724\n",
      "Iteration 33, loss = 0.50464367\n",
      "Iteration 34, loss = 0.50325553\n",
      "Iteration 35, loss = 0.50345856\n",
      "Iteration 36, loss = 0.50346874\n",
      "Iteration 37, loss = 0.50327151\n",
      "Iteration 38, loss = 0.50425343\n",
      "Iteration 39, loss = 0.50305511\n",
      "Iteration 40, loss = 0.50298014\n",
      "Iteration 41, loss = 0.50277368\n",
      "Iteration 42, loss = 0.50302416\n",
      "Iteration 43, loss = 0.50285486\n",
      "Iteration 44, loss = 0.50315655\n",
      "Iteration 45, loss = 0.50290298\n",
      "Iteration 46, loss = 0.50332593\n",
      "Iteration 47, loss = 0.50247247\n",
      "Iteration 48, loss = 0.50257129\n",
      "Iteration 49, loss = 0.50253986\n",
      "Iteration 50, loss = 0.50261841\n",
      "Iteration 51, loss = 0.50228678\n",
      "Iteration 52, loss = 0.50223411\n",
      "Iteration 53, loss = 0.50239184\n",
      "Iteration 54, loss = 0.50299554\n",
      "Iteration 55, loss = 0.50241443\n",
      "Iteration 56, loss = 0.50186622\n",
      "Iteration 57, loss = 0.50210382\n",
      "Iteration 58, loss = 0.50200899\n",
      "Iteration 59, loss = 0.50190038\n",
      "Iteration 60, loss = 0.50200847\n",
      "Iteration 61, loss = 0.50293496\n",
      "Iteration 62, loss = 0.50222156\n",
      "Iteration 63, loss = 0.50167400\n",
      "Iteration 64, loss = 0.50220103\n",
      "Iteration 65, loss = 0.50229208\n",
      "Iteration 66, loss = 0.50198744\n",
      "Iteration 67, loss = 0.50151176\n",
      "Iteration 68, loss = 0.50211979\n",
      "Iteration 69, loss = 0.50169916\n",
      "Iteration 70, loss = 0.50224991\n",
      "Iteration 71, loss = 0.50252302\n",
      "Iteration 72, loss = 0.50267051\n",
      "Iteration 73, loss = 0.50199967\n",
      "Iteration 74, loss = 0.50167256\n",
      "Iteration 75, loss = 0.50185629\n",
      "Iteration 76, loss = 0.50197934\n",
      "Iteration 77, loss = 0.50159149\n",
      "Iteration 78, loss = 0.50139555\n",
      "Iteration 79, loss = 0.50199470\n",
      "Iteration 80, loss = 0.50167645\n",
      "Iteration 81, loss = 0.50146228\n",
      "Iteration 82, loss = 0.50199629\n",
      "Iteration 83, loss = 0.50158678\n",
      "Iteration 84, loss = 0.50189761\n",
      "Iteration 85, loss = 0.50135824\n",
      "Iteration 86, loss = 0.50200186\n",
      "Iteration 87, loss = 0.50120781\n",
      "Iteration 88, loss = 0.50124747\n",
      "Iteration 89, loss = 0.50154392\n",
      "Iteration 90, loss = 0.50119621\n",
      "Iteration 91, loss = 0.50094515\n",
      "Iteration 92, loss = 0.50146145\n",
      "Iteration 93, loss = 0.50085324\n",
      "Iteration 94, loss = 0.50155359\n",
      "Iteration 95, loss = 0.50216043\n",
      "Iteration 96, loss = 0.50166933\n",
      "Iteration 97, loss = 0.50125926\n",
      "Iteration 98, loss = 0.50128344\n",
      "Iteration 99, loss = 0.50120080\n",
      "Iteration 100, loss = 0.50178656\n",
      "Iteration 101, loss = 0.50095635\n",
      "Iteration 102, loss = 0.50098170\n",
      "Training loss did not improve more than tol=0.000100 for 10 consecutive epochs. Stopping.\n"
     ]
    },
    {
     "data": {
      "text/plain": [
       "MLPClassifier(activation='relu', alpha=0.0001, batch_size='auto', beta_1=0.9,\n",
       "              beta_2=0.999, early_stopping=False, epsilon=1e-08,\n",
       "              hidden_layer_sizes=(3, 100), learning_rate='constant',\n",
       "              learning_rate_init=0.01, max_fun=15000, max_iter=200,\n",
       "              momentum=0.9, n_iter_no_change=10, nesterovs_momentum=True,\n",
       "              power_t=0.5, random_state=5, shuffle=True, solver='adam',\n",
       "              tol=0.0001, validation_fraction=0.1, verbose=True,\n",
       "              warm_start=False)"
      ]
     },
     "execution_count": 29,
     "metadata": {},
     "output_type": "execute_result"
    }
   ],
   "source": [
    "X_train_shuffle = np.array(X_train)\n",
    "X_train_shuffle = crazyshuffle(X_train_shuffle)\n",
    "\n",
    "clf_shuffled = MLPClassifier(hidden_layer_sizes=(3,100),\n",
    "                    random_state=5,\n",
    "                    verbose=True,\n",
    "                    learning_rate_init=0.01)\n",
    "\n",
    "clf_shuffled.fit(X_train_shuffle,y_train)\n"
   ]
  },
  {
   "cell_type": "code",
   "execution_count": 30,
   "metadata": {},
   "outputs": [
    {
     "name": "stdout",
     "output_type": "stream",
     "text": [
      "AUROC: 0.5956521739130435\n",
      "AUPRC: 0.5566836734693877\n"
     ]
    }
   ],
   "source": [
    "ypred_shuffle = clf_shuffled.predict(X_test)\n",
    "\n",
    "print('AUROC:', roc_auc_score(test_all['label'].tolist(), ypred_shuffle))\n",
    "print('AUPRC:', average_precision_score(test_all['label'].tolist(), ypred_shuffle))"
   ]
  },
  {
   "cell_type": "markdown",
   "metadata": {},
   "source": [
    "# Random features"
   ]
  },
  {
   "cell_type": "code",
   "execution_count": 31,
   "metadata": {
    "scrolled": true
   },
   "outputs": [
    {
     "name": "stdout",
     "output_type": "stream",
     "text": [
      "Iteration 1, loss = 0.69354510\n",
      "Iteration 2, loss = 0.69322458\n",
      "Iteration 3, loss = 0.69327081\n",
      "Iteration 4, loss = 0.69323522\n",
      "Iteration 5, loss = 0.69322411\n",
      "Iteration 6, loss = 0.69321293\n",
      "Iteration 7, loss = 0.69323157\n",
      "Iteration 8, loss = 0.69330053\n",
      "Iteration 9, loss = 0.69326038\n",
      "Iteration 10, loss = 0.69326591\n",
      "Iteration 11, loss = 0.69324002\n",
      "Iteration 12, loss = 0.69318859\n",
      "Iteration 13, loss = 0.69321564\n",
      "Training loss did not improve more than tol=0.000100 for 10 consecutive epochs. Stopping.\n",
      "AUROC: 0.5\n",
      "AUPRC: 0.5\n"
     ]
    }
   ],
   "source": [
    "X_train_rand = np.random.rand(np.array(X_train).shape[0],np.array(X_train).shape[1])\n",
    "\n",
    "clf_rand = MLPClassifier(hidden_layer_sizes=(3,100),\n",
    "                    random_state=5,\n",
    "                    verbose=True,\n",
    "                    learning_rate_init=0.01)\n",
    "\n",
    "clf_rand.fit(X_train_rand,y_train)\n",
    "\n",
    "ypred_rand = clf_rand.predict(X_test)\n",
    "\n",
    "print('AUROC:', roc_auc_score(test_all['label'].tolist(), ypred_rand))\n",
    "print('AUPRC:', average_precision_score(test_all['label'].tolist(), ypred_rand))"
   ]
  },
  {
   "cell_type": "markdown",
   "metadata": {},
   "source": [
    "# Davis-Bouldin Score"
   ]
  },
  {
   "cell_type": "code",
   "execution_count": 32,
   "metadata": {},
   "outputs": [
    {
     "name": "stdout",
     "output_type": "stream",
     "text": [
      "2.612767439715917\n",
      "15.043791458449059\n",
      "22.30188751914002\n"
     ]
    }
   ],
   "source": [
    "k_clusters = 5\n",
    "\n",
    "attributes_kmeans = KMeans(n_clusters=k_clusters, random_state=0).fit(X_train)\n",
    "print(davies_bouldin_score(X_train,attributes_kmeans.labels_))\n",
    "      \n",
    "shuffle_kmeans = KMeans(n_clusters=k_clusters, random_state=0).fit(X_train_shuffle)\n",
    "print(davies_bouldin_score(X_train_shuffle,shuffle_kmeans.labels_))\n",
    "      \n",
    "rand_kmeans = KMeans(n_clusters=k_clusters, random_state=0).fit(X_train_rand)\n",
    "print(davies_bouldin_score(X_train_rand,rand_kmeans.labels_))"
   ]
  },
  {
   "cell_type": "code",
   "execution_count": 33,
   "metadata": {},
   "outputs": [
    {
     "name": "stdout",
     "output_type": "stream",
     "text": [
      "2.3093943753283983\n",
      "10.640470887485638\n",
      "18.85099979497361\n"
     ]
    }
   ],
   "source": [
    "k_clusters = 10\n",
    "\n",
    "attributes_kmeans = KMeans(n_clusters=k_clusters, random_state=0).fit(X_train)\n",
    "print(davies_bouldin_score(X_train,attributes_kmeans.labels_))\n",
    "      \n",
    "shuffle_kmeans = KMeans(n_clusters=k_clusters, random_state=0).fit(X_train_shuffle)\n",
    "print(davies_bouldin_score(X_train_shuffle,shuffle_kmeans.labels_))\n",
    "      \n",
    "rand_kmeans = KMeans(n_clusters=k_clusters, random_state=0).fit(X_train_rand)\n",
    "print(davies_bouldin_score(X_train_rand,rand_kmeans.labels_))"
   ]
  },
  {
   "cell_type": "code",
   "execution_count": null,
   "metadata": {},
   "outputs": [],
   "source": []
  }
 ],
 "metadata": {
  "kernelspec": {
   "display_name": "Python 3",
   "language": "python",
   "name": "python3"
  },
  "language_info": {
   "codemirror_mode": {
    "name": "ipython",
    "version": 3
   },
   "file_extension": ".py",
   "mimetype": "text/x-python",
   "name": "python",
   "nbconvert_exporter": "python",
   "pygments_lexer": "ipython3",
   "version": "3.7.7"
  }
 },
 "nbformat": 4,
 "nbformat_minor": 4
}
