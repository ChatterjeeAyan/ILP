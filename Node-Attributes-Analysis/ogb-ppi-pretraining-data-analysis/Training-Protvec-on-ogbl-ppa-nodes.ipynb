{
 "cells": [
  {
   "cell_type": "code",
   "execution_count": 1,
   "metadata": {
    "scrolled": true
   },
   "outputs": [],
   "source": [
    "import biovec\n",
    "from Bio import SeqIO\n",
    "import pandas as pd\n",
    "from tqdm import tqdm\n",
    "\n",
    "import numpy as np\n",
    "import re\n",
    "\n",
    "#from nltk.corpus import stopwords\n",
    "\n",
    "from gensim.models import Word2Vec\n",
    "from gensim.models import Phrases\n",
    "from gensim.models.phrases import Phraser\n",
    "\n",
    "from sklearn.manifold import TSNE\n",
    "import matplotlib.pyplot as plt\n",
    "\n",
    "import logging"
   ]
  },
  {
   "cell_type": "code",
   "execution_count": 9,
   "metadata": {},
   "outputs": [],
   "source": [
    "node_id_protein_id = pd.read_csv('nodeidx2proteinid.csv')"
   ]
  },
  {
   "cell_type": "code",
   "execution_count": 10,
   "metadata": {},
   "outputs": [],
   "source": [
    "wanted_ids = set(node_id_protein_id['protein id'].tolist())"
   ]
  },
  {
   "cell_type": "code",
   "execution_count": 11,
   "metadata": {},
   "outputs": [
    {
     "name": "stderr",
     "output_type": "stream",
     "text": [
      "67592464it [08:16, 136152.04it/s]\n"
     ]
    }
   ],
   "source": [
    "fasta_file = \"protein.sequences.v11.5.fa\" # Input fasta file\n",
    "\n",
    "fasta_sequences = SeqIO.parse(open(fasta_file),'fasta')\n",
    "\n",
    "seq_id_seq_dict = dict()\n",
    "\n",
    "for seq in tqdm(fasta_sequences):\n",
    "    if seq.id in wanted_ids:\n",
    "        seq_id_seq_dict[seq.id] = seq.seq"
   ]
  },
  {
   "cell_type": "code",
   "execution_count": 12,
   "metadata": {},
   "outputs": [
    {
     "name": "stderr",
     "output_type": "stream",
     "text": [
      "576289it [00:26, 22148.70it/s]\n"
     ]
    }
   ],
   "source": [
    "seq_list = []\n",
    "\n",
    "for index, row in tqdm(node_id_protein_id.iterrows()):\n",
    "    try:\n",
    "        seq_list.append(seq_id_seq_dict[row['protein id']])\n",
    "    except:\n",
    "        #seq_list('NA')\n",
    "        \n",
    "node_id_protein_id['seq'] = seq_list"
   ]
  },
  {
   "cell_type": "code",
   "execution_count": 13,
   "metadata": {},
   "outputs": [
    {
     "data": {
      "text/plain": [
       "576289"
      ]
     },
     "execution_count": 13,
     "metadata": {},
     "output_type": "execute_result"
    }
   ],
   "source": [
    "len(seq_list)"
   ]
  },
  {
   "cell_type": "code",
   "execution_count": 21,
   "metadata": {},
   "outputs": [],
   "source": [
    "seq_list = [str(x) for x in seq_list]"
   ]
  },
  {
   "cell_type": "code",
   "execution_count": 27,
   "metadata": {},
   "outputs": [
    {
     "name": "stderr",
     "output_type": "stream",
     "text": [
      "100%|████████████████████████████████████████████████████████████████████████| 576289/576289 [02:31<00:00, 3803.81it/s]\n"
     ]
    }
   ],
   "source": [
    "corpus = []\n",
    "\n",
    "for seq in tqdm(seq_list):\n",
    "    trigrams_list = []\n",
    "    for i in range(len(seq)-2):\n",
    "        trigrams_list.append(seq[i]+seq[i+1]+seq[i+2])\n",
    "    corpus.append(trigrams_list)"
   ]
  },
  {
   "cell_type": "code",
   "execution_count": 28,
   "metadata": {},
   "outputs": [
    {
     "name": "stdout",
     "output_type": "stream",
     "text": [
      "Num of sentences - 576289\n",
      "Num of words - 277466235\n"
     ]
    }
   ],
   "source": [
    "num_of_sentences = len(corpus)\n",
    "num_of_words = 0\n",
    "for line in corpus:\n",
    "    num_of_words += len(line)\n",
    "\n",
    "print('Num of sentences - %s'%(num_of_sentences))\n",
    "print('Num of words - %s'%(num_of_words))"
   ]
  },
  {
   "cell_type": "code",
   "execution_count": 34,
   "metadata": {},
   "outputs": [],
   "source": [
    "corpus_df = pd.DataFrame()\n",
    "\n",
    "corpus_df['seq_trigrams'] = corpus\n",
    "\n",
    "corpus_df.to_csv('ppa_corpus.csv')"
   ]
  },
  {
   "cell_type": "code",
   "execution_count": 3,
   "metadata": {},
   "outputs": [],
   "source": [
    "corpus_df = pd.read_csv('ppa_corpus.csv')\n",
    "\n",
    "corpus = corpus_df['seq_trigrams'].tolist()"
   ]
  },
  {
   "cell_type": "code",
   "execution_count": 6,
   "metadata": {
    "scrolled": true
   },
   "outputs": [],
   "source": [
    "# sg - skip gram |  window = size of the window | size = vector dimension\n",
    "size = 100\n",
    "window_size = 2 # sentences weren't too long, so\n",
    "epochs = 100\n",
    "min_count = 2\n",
    "workers = 4\n",
    "\n",
    "# train word2vec model using gensim\n",
    "model = Word2Vec(corpus, sg=1,window=window_size,vector_size=size,min_count=min_count,workers=workers,epochs=epochs,sample=0.01)"
   ]
  },
  {
   "cell_type": "code",
   "execution_count": 5,
   "metadata": {},
   "outputs": [],
   "source": [
    "model.save('ppa_protvec_model')\n",
    "\n",
    "#model = Word2Vec.load('ppa_protvec_model')"
   ]
  },
  {
   "cell_type": "code",
   "execution_count": 29,
   "metadata": {
    "scrolled": true
   },
   "outputs": [
    {
     "name": "stderr",
     "output_type": "stream",
     "text": [
      "100%|█████████████████████████████████████████████████████████████████████████| 576289/576289 [09:56<00:00, 966.16it/s]\n"
     ]
    }
   ],
   "source": [
    "all_protvec = np.zeros([len(seq_list),size])\n",
    "\n",
    "for i in tqdm(range(len(seq_list))):\n",
    "    all_protvec[i,:] = np.mean(model.wv[seq_list[i]], axis=0)"
   ]
  },
  {
   "cell_type": "code",
   "execution_count": 36,
   "metadata": {},
   "outputs": [],
   "source": [
    "np.save('new_protvec.npy',all_protvec)"
   ]
  },
  {
   "cell_type": "code",
   "execution_count": 30,
   "metadata": {
    "scrolled": true
   },
   "outputs": [],
   "source": [
    "import numpy as np\n",
    "import matplotlib.pyplot as plt\n",
    "from sklearn.metrics.cluster import adjusted_mutual_info_score\n",
    "from sklearn.cluster import KMeans\n",
    "from sklearn.metrics import davies_bouldin_score"
   ]
  },
  {
   "cell_type": "code",
   "execution_count": 31,
   "metadata": {},
   "outputs": [],
   "source": [
    "k_clusters = 5\n",
    "\n",
    "ppa_new_protvec_kmeans = KMeans(n_clusters=k_clusters, random_state=0).fit(all_protvec)"
   ]
  },
  {
   "cell_type": "code",
   "execution_count": 32,
   "metadata": {},
   "outputs": [
    {
     "data": {
      "text/plain": [
       "1.9851042792368045"
      ]
     },
     "execution_count": 32,
     "metadata": {},
     "output_type": "execute_result"
    }
   ],
   "source": [
    "davies_bouldin_score(all_protvec,ppa_new_protvec_kmeans.labels_)"
   ]
  },
  {
   "cell_type": "code",
   "execution_count": 33,
   "metadata": {},
   "outputs": [],
   "source": [
    "ppa_node2vec = np.load('ogbl_ppa_node2vec.npy')"
   ]
  },
  {
   "cell_type": "code",
   "execution_count": 34,
   "metadata": {},
   "outputs": [],
   "source": [
    "ppa_node2vec_kmeans = KMeans(n_clusters=k_clusters, random_state=0).fit(ppa_node2vec)"
   ]
  },
  {
   "cell_type": "code",
   "execution_count": 35,
   "metadata": {},
   "outputs": [
    {
     "data": {
      "text/plain": [
       "0.03716810889563361"
      ]
     },
     "execution_count": 35,
     "metadata": {},
     "output_type": "execute_result"
    }
   ],
   "source": [
    "adjusted_mutual_info_score(ppa_node2vec_kmeans.labels_, ppa_new_protvec_kmeans.labels_)"
   ]
  },
  {
   "cell_type": "code",
   "execution_count": null,
   "metadata": {},
   "outputs": [],
   "source": []
  }
 ],
 "metadata": {
  "kernelspec": {
   "display_name": "Python 3",
   "language": "python",
   "name": "python3"
  },
  "language_info": {
   "codemirror_mode": {
    "name": "ipython",
    "version": 3
   },
   "file_extension": ".py",
   "mimetype": "text/x-python",
   "name": "python",
   "nbconvert_exporter": "python",
   "pygments_lexer": "ipython3",
   "version": "3.7.7"
  }
 },
 "nbformat": 4,
 "nbformat_minor": 4
}
