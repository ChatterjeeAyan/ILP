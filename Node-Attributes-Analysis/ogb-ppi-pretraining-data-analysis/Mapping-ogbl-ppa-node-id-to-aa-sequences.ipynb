{
 "cells": [
  {
   "cell_type": "code",
   "execution_count": 22,
   "metadata": {},
   "outputs": [],
   "source": [
    "from Bio import SeqIO\n",
    "from tqdm import tqdm\n",
    "from itertools import groupby\n",
    "import pandas as pd\n",
    "import numpy as np"
   ]
  },
  {
   "cell_type": "code",
   "execution_count": 10,
   "metadata": {},
   "outputs": [],
   "source": [
    "node_id_protein_id = pd.read_csv('nodeidx2proteinid.csv')"
   ]
  },
  {
   "cell_type": "code",
   "execution_count": 11,
   "metadata": {},
   "outputs": [
    {
     "data": {
      "text/html": [
       "<div>\n",
       "<style scoped>\n",
       "    .dataframe tbody tr th:only-of-type {\n",
       "        vertical-align: middle;\n",
       "    }\n",
       "\n",
       "    .dataframe tbody tr th {\n",
       "        vertical-align: top;\n",
       "    }\n",
       "\n",
       "    .dataframe thead th {\n",
       "        text-align: right;\n",
       "    }\n",
       "</style>\n",
       "<table border=\"1\" class=\"dataframe\">\n",
       "  <thead>\n",
       "    <tr style=\"text-align: right;\">\n",
       "      <th></th>\n",
       "      <th>node idx</th>\n",
       "      <th>protein id</th>\n",
       "    </tr>\n",
       "  </thead>\n",
       "  <tbody>\n",
       "    <tr>\n",
       "      <th>0</th>\n",
       "      <td>0</td>\n",
       "      <td>4513.MLOC_25875.1</td>\n",
       "    </tr>\n",
       "    <tr>\n",
       "      <th>1</th>\n",
       "      <td>1</td>\n",
       "      <td>9823.ENSSSCP00000009454</td>\n",
       "    </tr>\n",
       "    <tr>\n",
       "      <th>2</th>\n",
       "      <td>2</td>\n",
       "      <td>9823.ENSSSCP00000026558</td>\n",
       "    </tr>\n",
       "    <tr>\n",
       "      <th>3</th>\n",
       "      <td>3</td>\n",
       "      <td>6239.F58B4.7</td>\n",
       "    </tr>\n",
       "    <tr>\n",
       "      <th>4</th>\n",
       "      <td>4</td>\n",
       "      <td>4577.GRMZM2G074351_P01</td>\n",
       "    </tr>\n",
       "  </tbody>\n",
       "</table>\n",
       "</div>"
      ],
      "text/plain": [
       "   node idx               protein id\n",
       "0         0        4513.MLOC_25875.1\n",
       "1         1  9823.ENSSSCP00000009454\n",
       "2         2  9823.ENSSSCP00000026558\n",
       "3         3             6239.F58B4.7\n",
       "4         4   4577.GRMZM2G074351_P01"
      ]
     },
     "execution_count": 11,
     "metadata": {},
     "output_type": "execute_result"
    }
   ],
   "source": [
    "node_id_protein_id.head(5)"
   ]
  },
  {
   "cell_type": "code",
   "execution_count": 12,
   "metadata": {},
   "outputs": [
    {
     "name": "stderr",
     "output_type": "stream",
     "text": [
      "67592464it [06:51, 164073.38it/s]\n"
     ]
    }
   ],
   "source": [
    "protein_id_seq_dict = dict()\n",
    "\n",
    "fh = open('protein.sequences.v11.5.fa')\n",
    "\n",
    "# ditch the boolean (x[0]) and just keep the header or sequence since\n",
    "# we know they alternate.\n",
    "faiter = (x[1] for x in groupby(fh, lambda line: line[0] == \">\"))\n",
    "\n",
    "for header in tqdm(faiter):\n",
    "    # drop the \">\"\n",
    "    headerStr = header.__next__()[1:].strip()\n",
    "\n",
    "    # join all sequence lines to one.\n",
    "    seq = \"\".join(s.strip() for s in faiter.__next__())\n",
    "\n",
    "    protein_id_seq_dict[headerStr] = seq"
   ]
  },
  {
   "cell_type": "code",
   "execution_count": 15,
   "metadata": {},
   "outputs": [
    {
     "name": "stderr",
     "output_type": "stream",
     "text": [
      "576289it [00:38, 14957.57it/s]\n"
     ]
    }
   ],
   "source": [
    "seq_list = []\n",
    "\n",
    "for index, row in tqdm(node_id_protein_id.iterrows()):\n",
    "    seq_list.append(protein_id_seq_dict[row['protein id']])"
   ]
  },
  {
   "cell_type": "code",
   "execution_count": 16,
   "metadata": {},
   "outputs": [],
   "source": [
    "node_id_protein_id['seq'] = seq_list"
   ]
  },
  {
   "cell_type": "code",
   "execution_count": 17,
   "metadata": {},
   "outputs": [
    {
     "data": {
      "text/html": [
       "<div>\n",
       "<style scoped>\n",
       "    .dataframe tbody tr th:only-of-type {\n",
       "        vertical-align: middle;\n",
       "    }\n",
       "\n",
       "    .dataframe tbody tr th {\n",
       "        vertical-align: top;\n",
       "    }\n",
       "\n",
       "    .dataframe thead th {\n",
       "        text-align: right;\n",
       "    }\n",
       "</style>\n",
       "<table border=\"1\" class=\"dataframe\">\n",
       "  <thead>\n",
       "    <tr style=\"text-align: right;\">\n",
       "      <th></th>\n",
       "      <th>node idx</th>\n",
       "      <th>protein id</th>\n",
       "      <th>seq</th>\n",
       "    </tr>\n",
       "  </thead>\n",
       "  <tbody>\n",
       "    <tr>\n",
       "      <th>0</th>\n",
       "      <td>0</td>\n",
       "      <td>4513.MLOC_25875.1</td>\n",
       "      <td>MTVQMRRGGATCLSLVQVVAVVSYVVVLMASAGVRAQLRVGFYDSS...</td>\n",
       "    </tr>\n",
       "    <tr>\n",
       "      <th>1</th>\n",
       "      <td>1</td>\n",
       "      <td>9823.ENSSSCP00000009454</td>\n",
       "      <td>MAVAAALAGLQAEAKCPICLDSLHDPVTIQCGHNFCRRCIQRSWAE...</td>\n",
       "    </tr>\n",
       "    <tr>\n",
       "      <th>2</th>\n",
       "      <td>2</td>\n",
       "      <td>9823.ENSSSCP00000026558</td>\n",
       "      <td>MSLKWLSLLLLLQLTCYFSSGRCGKVLVWPMEYSHWINMKIILEEL...</td>\n",
       "    </tr>\n",
       "    <tr>\n",
       "      <th>3</th>\n",
       "      <td>3</td>\n",
       "      <td>6239.F58B4.7</td>\n",
       "      <td>MICVIVIFLISCAMIVSFCSKNSRKCERENGDAEERKNTLLMISDN...</td>\n",
       "    </tr>\n",
       "    <tr>\n",
       "      <th>4</th>\n",
       "      <td>4</td>\n",
       "      <td>4577.GRMZM2G074351_P01</td>\n",
       "      <td>MSGPFAETRRPPARRPLSSCRSAPLSDHPPPHSSPATGAHFHELAS...</td>\n",
       "    </tr>\n",
       "  </tbody>\n",
       "</table>\n",
       "</div>"
      ],
      "text/plain": [
       "   node idx               protein id  \\\n",
       "0         0        4513.MLOC_25875.1   \n",
       "1         1  9823.ENSSSCP00000009454   \n",
       "2         2  9823.ENSSSCP00000026558   \n",
       "3         3             6239.F58B4.7   \n",
       "4         4   4577.GRMZM2G074351_P01   \n",
       "\n",
       "                                                 seq  \n",
       "0  MTVQMRRGGATCLSLVQVVAVVSYVVVLMASAGVRAQLRVGFYDSS...  \n",
       "1  MAVAAALAGLQAEAKCPICLDSLHDPVTIQCGHNFCRRCIQRSWAE...  \n",
       "2  MSLKWLSLLLLLQLTCYFSSGRCGKVLVWPMEYSHWINMKIILEEL...  \n",
       "3  MICVIVIFLISCAMIVSFCSKNSRKCERENGDAEERKNTLLMISDN...  \n",
       "4  MSGPFAETRRPPARRPLSSCRSAPLSDHPPPHSSPATGAHFHELAS...  "
      ]
     },
     "execution_count": 17,
     "metadata": {},
     "output_type": "execute_result"
    }
   ],
   "source": [
    "node_id_protein_id.head(5)"
   ]
  },
  {
   "cell_type": "code",
   "execution_count": 18,
   "metadata": {},
   "outputs": [],
   "source": [
    "node_id_protein_id.to_csv('node_id_protein_id.csv')"
   ]
  },
  {
   "cell_type": "markdown",
   "metadata": {},
   "source": [
    "## Get ProtVec Embeddings"
   ]
  },
  {
   "cell_type": "code",
   "execution_count": 19,
   "metadata": {},
   "outputs": [],
   "source": [
    "protvec_model = pd.read_csv('protVec_100d_3grams.csv', delimiter = '\\t')"
   ]
  },
  {
   "cell_type": "code",
   "execution_count": 23,
   "metadata": {},
   "outputs": [
    {
     "name": "stderr",
     "output_type": "stream",
     "text": [
      "0it [00:00, ?it/s]C:\\Users\\Ayan\\anaconda3\\lib\\site-packages\\ipykernel_launcher.py:4: DeprecationWarning: `np.float` is a deprecated alias for the builtin `float`. To silence this warning, use `float` by itself. Doing this will not modify any behavior and is safe. If you specifically wanted the numpy scalar type, use `np.float64` here.\n",
      "Deprecated in NumPy 1.20; for more details and guidance: https://numpy.org/devdocs/release/1.20.0-notes.html#deprecations\n",
      "  after removing the cwd from sys.path.\n",
      "9048it [00:04, 1811.84it/s]\n"
     ]
    }
   ],
   "source": [
    "trigram_dict = {}\n",
    "\n",
    "for idx, row in tqdm(protvec_model.iterrows()):\n",
    "    trigram_dict[row['words']] = protvec_model.iloc[idx, 1:].values.astype(np.float)\n",
    "\n",
    "trigram_list = set(trigram_dict.keys())"
   ]
  },
  {
   "cell_type": "code",
   "execution_count": 25,
   "metadata": {},
   "outputs": [],
   "source": [
    "target_list = node_id_protein_id['seq'].tolist()\n",
    "\n",
    "target_embeddings = np.zeros((len(target_list), 100)) ## 100 is the ProtVec embedding dimensions\n",
    "length_of_target = [0 for _ in range(len(target_list))]"
   ]
  },
  {
   "cell_type": "code",
   "execution_count": 26,
   "metadata": {},
   "outputs": [
    {
     "name": "stderr",
     "output_type": "stream",
     "text": [
      "576289it [06:05, 1577.70it/s]\n"
     ]
    }
   ],
   "source": [
    "for idx, target in tqdm(enumerate(target_list)):\n",
    "    \n",
    "    n = 3\n",
    "    split_by_three = [target[i : i + n] for i in range(0, len(target), n)]\n",
    "    length_of_target[idx] = len(split_by_three)\n",
    "\n",
    "    for trigram in split_by_three: \n",
    "\n",
    "        if len(trigram) == 2: \n",
    "            trigram = \"X\" + trigram\n",
    "\n",
    "        elif len(trigram) == 1:\n",
    "            trigram = \"XX\" + trigram\n",
    "\n",
    "        if trigram in trigram_list:\n",
    "            target_embeddings[idx, :] = target_embeddings[idx, :] + trigram_dict[trigram]\n"
   ]
  },
  {
   "cell_type": "code",
   "execution_count": 30,
   "metadata": {},
   "outputs": [
    {
     "data": {
      "text/plain": [
       "(576289, 100)"
      ]
     },
     "execution_count": 30,
     "metadata": {},
     "output_type": "execute_result"
    }
   ],
   "source": [
    "target_embeddings.shape"
   ]
  },
  {
   "cell_type": "code",
   "execution_count": 34,
   "metadata": {
    "scrolled": true
   },
   "outputs": [
    {
     "data": {
      "text/plain": [
       "array([-8.551412, -3.597922, -0.344051, -7.571492, -3.429436, -0.559949,\n",
       "        1.056515, -3.411363, -1.23382 ,  8.935931, -0.227794, -2.177607,\n",
       "       -2.04591 ,  0.279449,  0.550605, -1.279316, -1.358398, -1.880208,\n",
       "       -1.21748 , -0.554456, -0.518071, -4.407914, -5.010958,  0.879433,\n",
       "       -1.436518, -3.277022, -1.903488,  0.454888, -1.492889, -1.706882,\n",
       "       -0.644654, -5.604222,  0.913387, -1.981428,  2.399694,  2.265022,\n",
       "       -2.829976, -0.164854,  4.266591, -0.621724,  1.468068,  3.072114,\n",
       "        3.082963, -0.450081, -1.237607,  1.161086, -4.056343,  0.140034,\n",
       "       -2.031192,  1.960296, -1.879468, -3.944779,  0.644325, -5.3801  ,\n",
       "        1.438516, -3.793947, -0.936373, -1.098297,  0.981725, -5.466712,\n",
       "        1.626954, 10.535323, -0.941554,  2.717432,  2.472714,  3.074986,\n",
       "        0.816342,  4.355083,  2.637897, -0.904921, -6.199516, -2.127933,\n",
       "        2.497637,  0.394921, -3.854306, -4.414594,  1.344574, -4.179294,\n",
       "        2.486423, -0.900568, -3.222019, -3.822983,  1.642655,  0.835507,\n",
       "        3.92278 , -2.172043, -5.465559,  1.740959, -2.753466,  0.183217,\n",
       "        1.365387, -3.000806, -2.002659,  2.923918,  4.749738,  3.514284,\n",
       "       -3.202536, -6.544147, -5.535124,  9.298142])"
      ]
     },
     "execution_count": 34,
     "metadata": {},
     "output_type": "execute_result"
    }
   ],
   "source": [
    "list(target_embeddings)[0]"
   ]
  },
  {
   "cell_type": "code",
   "execution_count": 33,
   "metadata": {},
   "outputs": [],
   "source": [
    "node_id_protein_id['ProtVec'] = list(target_embeddings)"
   ]
  },
  {
   "cell_type": "code",
   "execution_count": 35,
   "metadata": {},
   "outputs": [],
   "source": [
    "node_id_protein_id.to_csv('node_id_protein_id.csv')"
   ]
  },
  {
   "cell_type": "code",
   "execution_count": 36,
   "metadata": {},
   "outputs": [],
   "source": [
    "from tempfile import TemporaryFile\n",
    "#outfile = TemporaryFile()\n",
    "np.save('protvec_embeddings.npy', target_embeddings)"
   ]
  },
  {
   "cell_type": "code",
   "execution_count": null,
   "metadata": {},
   "outputs": [],
   "source": []
  }
 ],
 "metadata": {
  "kernelspec": {
   "display_name": "Python 3",
   "language": "python",
   "name": "python3"
  },
  "language_info": {
   "codemirror_mode": {
    "name": "ipython",
    "version": 3
   },
   "file_extension": ".py",
   "mimetype": "text/x-python",
   "name": "python",
   "nbconvert_exporter": "python",
   "pygments_lexer": "ipython3",
   "version": "3.7.7"
  }
 },
 "nbformat": 4,
 "nbformat_minor": 4
}
