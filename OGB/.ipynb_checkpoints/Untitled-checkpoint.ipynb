{
 "cells": [
  {
   "cell_type": "code",
   "execution_count": 8,
   "metadata": {},
   "outputs": [
    {
     "name": "stdout",
     "output_type": "stream",
     "text": [
      "Collecting ogb==1.3.1\n",
      "  Downloading ogb-1.3.1-py3-none-any.whl (67 kB)\n",
      "Requirement already satisfied: pandas>=0.24.0 in c:\\users\\ayan\\anaconda3\\lib\\site-packages (from ogb==1.3.1) (1.3.0)\n",
      "Requirement already satisfied: scikit-learn>=0.20.0 in c:\\users\\ayan\\anaconda3\\lib\\site-packages (from ogb==1.3.1) (0.22.1)\n",
      "Requirement already satisfied: outdated>=0.2.0 in c:\\users\\ayan\\anaconda3\\lib\\site-packages (from ogb==1.3.1) (0.2.1)\n",
      "Requirement already satisfied: tqdm>=4.29.0 in c:\\users\\ayan\\anaconda3\\lib\\site-packages (from ogb==1.3.1) (4.44.1)\n",
      "Requirement already satisfied: six>=1.12.0 in c:\\users\\ayan\\anaconda3\\lib\\site-packages (from ogb==1.3.1) (1.16.0)\n",
      "Requirement already satisfied: urllib3>=1.24.0 in c:\\users\\ayan\\anaconda3\\lib\\site-packages (from ogb==1.3.1) (1.25.8)\n",
      "Requirement already satisfied: torch>=1.6.0 in c:\\users\\ayan\\anaconda3\\lib\\site-packages (from ogb==1.3.1) (1.7.1)\n",
      "Requirement already satisfied: numpy>=1.16.0 in c:\\users\\ayan\\anaconda3\\lib\\site-packages (from ogb==1.3.1) (1.18.1)\n",
      "Requirement already satisfied: pytz>=2017.3 in c:\\users\\ayan\\anaconda3\\lib\\site-packages (from pandas>=0.24.0->ogb==1.3.1) (2019.3)\n",
      "Requirement already satisfied: python-dateutil>=2.7.3 in c:\\users\\ayan\\anaconda3\\lib\\site-packages (from pandas>=0.24.0->ogb==1.3.1) (2.8.1)\n",
      "Requirement already satisfied: scipy>=0.17.0 in c:\\users\\ayan\\anaconda3\\lib\\site-packages (from scikit-learn>=0.20.0->ogb==1.3.1) (1.4.1)\n",
      "Requirement already satisfied: joblib>=0.11 in c:\\users\\ayan\\anaconda3\\lib\\site-packages (from scikit-learn>=0.20.0->ogb==1.3.1) (0.14.1)\n",
      "Requirement already satisfied: requests in c:\\users\\ayan\\anaconda3\\lib\\site-packages (from outdated>=0.2.0->ogb==1.3.1) (2.23.0)\n",
      "Requirement already satisfied: littleutils in c:\\users\\ayan\\anaconda3\\lib\\site-packages (from outdated>=0.2.0->ogb==1.3.1) (0.2.2)\n",
      "Requirement already satisfied: typing_extensions in c:\\users\\ayan\\anaconda3\\lib\\site-packages (from torch>=1.6.0->ogb==1.3.1) (3.7.4.1)\n",
      "Requirement already satisfied: certifi>=2017.4.17 in c:\\users\\ayan\\anaconda3\\lib\\site-packages (from requests->outdated>=0.2.0->ogb==1.3.1) (2021.5.30)\n",
      "Requirement already satisfied: idna<3,>=2.5 in c:\\users\\ayan\\anaconda3\\lib\\site-packages (from requests->outdated>=0.2.0->ogb==1.3.1) (2.9)\n",
      "Requirement already satisfied: chardet<4,>=3.0.2 in c:\\users\\ayan\\anaconda3\\lib\\site-packages (from requests->outdated>=0.2.0->ogb==1.3.1) (3.0.4)\n",
      "Installing collected packages: ogb\n",
      "  Attempting uninstall: ogb\n",
      "    Found existing installation: ogb 1.3.3\n",
      "    Uninstalling ogb-1.3.3:\n",
      "      Successfully uninstalled ogb-1.3.3\n",
      "Successfully installed ogb-1.3.1\n"
     ]
    }
   ],
   "source": [
    "!pip install ogb==1.3.1"
   ]
  },
  {
   "cell_type": "code",
   "execution_count": 9,
   "metadata": {},
   "outputs": [
    {
     "name": "stdout",
     "output_type": "stream",
     "text": [
      "1.3.1\n"
     ]
    },
    {
     "name": "stderr",
     "output_type": "stream",
     "text": [
      "WARNING:root:The OGB package is out of date. Your version is 1.3.1, while the latest version is 1.3.3.\n"
     ]
    }
   ],
   "source": [
    "!python -c \"import ogb; print(ogb.__version__)\""
   ]
  },
  {
   "cell_type": "code",
   "execution_count": 4,
   "metadata": {},
   "outputs": [
    {
     "name": "stdout",
     "output_type": "stream",
     "text": [
      "Requirement already up-to-date: ogb in c:\\users\\ayan\\anaconda3\\lib\\site-packages (1.3.3)\n",
      "Requirement already satisfied, skipping upgrade: scikit-learn>=0.20.0 in c:\\users\\ayan\\anaconda3\\lib\\site-packages (from ogb) (0.22.1)\n",
      "Requirement already satisfied, skipping upgrade: torch>=1.6.0 in c:\\users\\ayan\\anaconda3\\lib\\site-packages (from ogb) (1.7.1)\n",
      "Requirement already satisfied, skipping upgrade: urllib3>=1.24.0 in c:\\users\\ayan\\anaconda3\\lib\\site-packages (from ogb) (1.25.8)\n",
      "Requirement already satisfied, skipping upgrade: tqdm>=4.29.0 in c:\\users\\ayan\\anaconda3\\lib\\site-packages (from ogb) (4.44.1)\n",
      "Requirement already satisfied, skipping upgrade: numpy>=1.16.0 in c:\\users\\ayan\\anaconda3\\lib\\site-packages (from ogb) (1.18.1)\n",
      "Requirement already satisfied, skipping upgrade: outdated>=0.2.0 in c:\\users\\ayan\\anaconda3\\lib\\site-packages (from ogb) (0.2.1)\n",
      "Requirement already satisfied, skipping upgrade: six>=1.12.0 in c:\\users\\ayan\\anaconda3\\lib\\site-packages (from ogb) (1.16.0)\n",
      "Requirement already satisfied, skipping upgrade: pandas>=0.24.0 in c:\\users\\ayan\\anaconda3\\lib\\site-packages (from ogb) (1.3.0)\n",
      "Requirement already satisfied, skipping upgrade: joblib>=0.11 in c:\\users\\ayan\\anaconda3\\lib\\site-packages (from scikit-learn>=0.20.0->ogb) (0.14.1)\n",
      "Requirement already satisfied, skipping upgrade: scipy>=0.17.0 in c:\\users\\ayan\\anaconda3\\lib\\site-packages (from scikit-learn>=0.20.0->ogb) (1.4.1)\n",
      "Requirement already satisfied, skipping upgrade: typing_extensions in c:\\users\\ayan\\anaconda3\\lib\\site-packages (from torch>=1.6.0->ogb) (3.7.4.1)\n",
      "Requirement already satisfied, skipping upgrade: littleutils in c:\\users\\ayan\\anaconda3\\lib\\site-packages (from outdated>=0.2.0->ogb) (0.2.2)\n",
      "Requirement already satisfied, skipping upgrade: requests in c:\\users\\ayan\\anaconda3\\lib\\site-packages (from outdated>=0.2.0->ogb) (2.23.0)\n",
      "Requirement already satisfied, skipping upgrade: python-dateutil>=2.7.3 in c:\\users\\ayan\\anaconda3\\lib\\site-packages (from pandas>=0.24.0->ogb) (2.8.1)\n",
      "Requirement already satisfied, skipping upgrade: pytz>=2017.3 in c:\\users\\ayan\\anaconda3\\lib\\site-packages (from pandas>=0.24.0->ogb) (2019.3)\n",
      "Requirement already satisfied, skipping upgrade: certifi>=2017.4.17 in c:\\users\\ayan\\anaconda3\\lib\\site-packages (from requests->outdated>=0.2.0->ogb) (2021.5.30)\n",
      "Requirement already satisfied, skipping upgrade: chardet<4,>=3.0.2 in c:\\users\\ayan\\anaconda3\\lib\\site-packages (from requests->outdated>=0.2.0->ogb) (3.0.4)\n",
      "Requirement already satisfied, skipping upgrade: idna<3,>=2.5 in c:\\users\\ayan\\anaconda3\\lib\\site-packages (from requests->outdated>=0.2.0->ogb) (2.9)\n"
     ]
    }
   ],
   "source": [
    "!pip install -U ogb"
   ]
  },
  {
   "cell_type": "code",
   "execution_count": 10,
   "metadata": {},
   "outputs": [
    {
     "ename": "ImportError",
     "evalue": "cannot import name 'PygGraphPropPredDataset' from 'ogb.graphproppred' (C:\\Users\\Ayan\\anaconda3\\lib\\site-packages\\ogb\\graphproppred\\__init__.py)",
     "output_type": "error",
     "traceback": [
      "\u001b[1;31m---------------------------------------------------------------------------\u001b[0m",
      "\u001b[1;31mImportError\u001b[0m                               Traceback (most recent call last)",
      "\u001b[1;32m<ipython-input-10-ae748e49e3fc>\u001b[0m in \u001b[0;36m<module>\u001b[1;34m\u001b[0m\n\u001b[1;32m----> 1\u001b[1;33m \u001b[1;32mfrom\u001b[0m \u001b[0mogb\u001b[0m\u001b[1;33m.\u001b[0m\u001b[0mgraphproppred\u001b[0m \u001b[1;32mimport\u001b[0m \u001b[0mPygGraphPropPredDataset\u001b[0m\u001b[1;33m\u001b[0m\u001b[1;33m\u001b[0m\u001b[0m\n\u001b[0m\u001b[0;32m      2\u001b[0m \u001b[1;32mfrom\u001b[0m \u001b[0mtorch_geometric\u001b[0m\u001b[1;33m.\u001b[0m\u001b[0mdata\u001b[0m \u001b[1;32mimport\u001b[0m \u001b[0mDataLoader\u001b[0m\u001b[1;33m\u001b[0m\u001b[1;33m\u001b[0m\u001b[0m\n",
      "\u001b[1;31mImportError\u001b[0m: cannot import name 'PygGraphPropPredDataset' from 'ogb.graphproppred' (C:\\Users\\Ayan\\anaconda3\\lib\\site-packages\\ogb\\graphproppred\\__init__.py)"
     ]
    }
   ],
   "source": [
    "from ogb.graphproppred import PygGraphPropPredDataset\n",
    "from torch_geometric.data import DataLoader"
   ]
  },
  {
   "cell_type": "code",
   "execution_count": 11,
   "metadata": {},
   "outputs": [],
   "source": [
    "import ogb"
   ]
  },
  {
   "cell_type": "code",
   "execution_count": 14,
   "metadata": {},
   "outputs": [
    {
     "ename": "ModuleNotFoundError",
     "evalue": "No module named 'torch_geometric'",
     "output_type": "error",
     "traceback": [
      "\u001b[1;31m---------------------------------------------------------------------------\u001b[0m",
      "\u001b[1;31mModuleNotFoundError\u001b[0m                       Traceback (most recent call last)",
      "\u001b[1;32m<ipython-input-14-57b0245f807a>\u001b[0m in \u001b[0;36m<module>\u001b[1;34m\u001b[0m\n\u001b[1;32m----> 1\u001b[1;33m \u001b[1;32mfrom\u001b[0m \u001b[0mtorch_geometric\u001b[0m\u001b[1;33m.\u001b[0m\u001b[0mdata\u001b[0m \u001b[1;32mimport\u001b[0m \u001b[0mDataLoader\u001b[0m\u001b[1;33m\u001b[0m\u001b[1;33m\u001b[0m\u001b[0m\n\u001b[0m",
      "\u001b[1;31mModuleNotFoundError\u001b[0m: No module named 'torch_geometric'"
     ]
    }
   ],
   "source": [
    "from torch_geometric.data import DataLoader"
   ]
  },
  {
   "cell_type": "code",
   "execution_count": 17,
   "metadata": {},
   "outputs": [
    {
     "ename": "ModuleNotFoundError",
     "evalue": "No module named 'torch_sparse'",
     "output_type": "error",
     "traceback": [
      "\u001b[1;31m---------------------------------------------------------------------------\u001b[0m",
      "\u001b[1;31mModuleNotFoundError\u001b[0m                       Traceback (most recent call last)",
      "\u001b[1;32m<ipython-input-17-c36e13293883>\u001b[0m in \u001b[0;36m<module>\u001b[1;34m\u001b[0m\n\u001b[1;32m----> 1\u001b[1;33m \u001b[1;32mimport\u001b[0m \u001b[0mtorch_geometric\u001b[0m\u001b[1;33m\u001b[0m\u001b[1;33m\u001b[0m\u001b[0m\n\u001b[0m",
      "\u001b[1;32m~\\anaconda3\\lib\\site-packages\\torch_geometric\\__init__.py\u001b[0m in \u001b[0;36m<module>\u001b[1;34m\u001b[0m\n\u001b[0;32m      2\u001b[0m \u001b[1;32mfrom\u001b[0m \u001b[0mimportlib\u001b[0m \u001b[1;32mimport\u001b[0m \u001b[0mimport_module\u001b[0m\u001b[1;33m\u001b[0m\u001b[1;33m\u001b[0m\u001b[0m\n\u001b[0;32m      3\u001b[0m \u001b[1;33m\u001b[0m\u001b[0m\n\u001b[1;32m----> 4\u001b[1;33m \u001b[1;32mimport\u001b[0m \u001b[0mtorch_geometric\u001b[0m\u001b[1;33m.\u001b[0m\u001b[0mdata\u001b[0m\u001b[1;33m\u001b[0m\u001b[1;33m\u001b[0m\u001b[0m\n\u001b[0m\u001b[0;32m      5\u001b[0m \u001b[1;32mimport\u001b[0m \u001b[0mtorch_geometric\u001b[0m\u001b[1;33m.\u001b[0m\u001b[0mloader\u001b[0m\u001b[1;33m\u001b[0m\u001b[1;33m\u001b[0m\u001b[0m\n\u001b[0;32m      6\u001b[0m \u001b[1;32mimport\u001b[0m \u001b[0mtorch_geometric\u001b[0m\u001b[1;33m.\u001b[0m\u001b[0mtransforms\u001b[0m\u001b[1;33m\u001b[0m\u001b[1;33m\u001b[0m\u001b[0m\n",
      "\u001b[1;32m~\\anaconda3\\lib\\site-packages\\torch_geometric\\data\\__init__.py\u001b[0m in \u001b[0;36m<module>\u001b[1;34m\u001b[0m\n\u001b[1;32m----> 1\u001b[1;33m \u001b[1;32mfrom\u001b[0m \u001b[1;33m.\u001b[0m\u001b[0mdata\u001b[0m \u001b[1;32mimport\u001b[0m \u001b[0mData\u001b[0m\u001b[1;33m\u001b[0m\u001b[1;33m\u001b[0m\u001b[0m\n\u001b[0m\u001b[0;32m      2\u001b[0m \u001b[1;32mfrom\u001b[0m \u001b[1;33m.\u001b[0m\u001b[0mhetero_data\u001b[0m \u001b[1;32mimport\u001b[0m \u001b[0mHeteroData\u001b[0m\u001b[1;33m\u001b[0m\u001b[1;33m\u001b[0m\u001b[0m\n\u001b[0;32m      3\u001b[0m \u001b[1;32mfrom\u001b[0m \u001b[1;33m.\u001b[0m\u001b[0mtemporal\u001b[0m \u001b[1;32mimport\u001b[0m \u001b[0mTemporalData\u001b[0m\u001b[1;33m\u001b[0m\u001b[1;33m\u001b[0m\u001b[0m\n\u001b[0;32m      4\u001b[0m \u001b[1;32mfrom\u001b[0m \u001b[1;33m.\u001b[0m\u001b[0mbatch\u001b[0m \u001b[1;32mimport\u001b[0m \u001b[0mBatch\u001b[0m\u001b[1;33m\u001b[0m\u001b[1;33m\u001b[0m\u001b[0m\n\u001b[0;32m      5\u001b[0m \u001b[1;32mfrom\u001b[0m \u001b[1;33m.\u001b[0m\u001b[0mdataset\u001b[0m \u001b[1;32mimport\u001b[0m \u001b[0mDataset\u001b[0m\u001b[1;33m\u001b[0m\u001b[1;33m\u001b[0m\u001b[0m\n",
      "\u001b[1;32m~\\anaconda3\\lib\\site-packages\\torch_geometric\\data\\data.py\u001b[0m in \u001b[0;36m<module>\u001b[1;34m\u001b[0m\n\u001b[0;32m      7\u001b[0m \u001b[1;32mimport\u001b[0m \u001b[0mtorch\u001b[0m\u001b[1;33m\u001b[0m\u001b[1;33m\u001b[0m\u001b[0m\n\u001b[0;32m      8\u001b[0m \u001b[1;32mfrom\u001b[0m \u001b[0mtorch\u001b[0m \u001b[1;32mimport\u001b[0m \u001b[0mTensor\u001b[0m\u001b[1;33m\u001b[0m\u001b[1;33m\u001b[0m\u001b[0m\n\u001b[1;32m----> 9\u001b[1;33m \u001b[1;32mfrom\u001b[0m \u001b[0mtorch_sparse\u001b[0m \u001b[1;32mimport\u001b[0m \u001b[0mSparseTensor\u001b[0m\u001b[1;33m\u001b[0m\u001b[1;33m\u001b[0m\u001b[0m\n\u001b[0m\u001b[0;32m     10\u001b[0m \u001b[1;33m\u001b[0m\u001b[0m\n\u001b[0;32m     11\u001b[0m from torch_geometric.data.storage import (BaseStorage, EdgeStorage,\n",
      "\u001b[1;31mModuleNotFoundError\u001b[0m: No module named 'torch_sparse'"
     ]
    }
   ],
   "source": [
    "import torch_geometric"
   ]
  },
  {
   "cell_type": "code",
   "execution_count": null,
   "metadata": {},
   "outputs": [],
   "source": [
    "!pip install torch_sparse"
   ]
  },
  {
   "cell_type": "code",
   "execution_count": null,
   "metadata": {},
   "outputs": [],
   "source": []
  }
 ],
 "metadata": {
  "kernelspec": {
   "display_name": "Python 3",
   "language": "python",
   "name": "python3"
  },
  "language_info": {
   "codemirror_mode": {
    "name": "ipython",
    "version": 3
   },
   "file_extension": ".py",
   "mimetype": "text/x-python",
   "name": "python",
   "nbconvert_exporter": "python",
   "pygments_lexer": "ipython3",
   "version": "3.7.7"
  }
 },
 "nbformat": 4,
 "nbformat_minor": 4
}
