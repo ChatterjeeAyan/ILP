{
 "cells": [
  {
   "cell_type": "code",
   "execution_count": 1,
   "id": "2fe8c732",
   "metadata": {},
   "outputs": [],
   "source": [
    "import numpy as np\n",
    "import torch\n",
    "import torch.nn as nn\n",
    "import torch.optim as optim\n",
    "import networkx as nx\n",
    "from sklearn.metrics import roc_auc_score, average_precision_score\n",
    "from sklearn.model_selection import train_test_split\n",
    "from tqdm import tqdm\n",
    "import pandas as pd\n",
    "import matplotlib.pyplot as plt"
   ]
  },
  {
   "cell_type": "code",
   "execution_count": 2,
   "id": "9a21bd46",
   "metadata": {},
   "outputs": [],
   "source": [
    "def remove_zeros_distribution(x):\n",
    "\n",
    "    return [i for i in x if i != 0]\n",
    "\n",
    "def log_binning_distribution(x_i, B = 20): \n",
    "    \n",
    "    x_i = remove_zeros_distribution(x_i)\n",
    "\n",
    "    b_1 = min(x_i)\n",
    "    b_Bp1 = max(x_i)\n",
    "    q_1 = np.log(b_1)\n",
    "    q_Bp1 = np.log(b_Bp1)\n",
    "    D_q = q_Bp1 - q_1\n",
    "    L_q = D_q / B\n",
    "\n",
    "    q_list = []\n",
    "    b_list = []\n",
    "\n",
    "    for i in range(B):\n",
    "        j = i + 1\n",
    "        q_list.append(q_1 + (j-1)*L_q)\n",
    "        b_list.append(np.exp(q_1 + (j-1)*L_q))\n",
    "   \n",
    "    binned_x_i = []\n",
    "    density_list = []\n",
    "\n",
    "    for i in range(len(b_list)-1):\n",
    "        bin_low = b_list[i]\n",
    "        bin_high = b_list[i+1]\n",
    "        count_bin = 0\n",
    "        for j in range(len(x_i)):\n",
    "            if x_i[j] >= bin_low and x_i[j] < bin_high:\n",
    "                count_bin = count_bin + 1\n",
    "                \n",
    "        if count_bin > 0:\n",
    "            density_bin = count_bin / (len(x_i)*(bin_high-bin_low))\n",
    "            density_list.append(density_bin)\n",
    "            binned_x_i.append(bin_low)\n",
    "        else:\n",
    "            continue \n",
    "            \n",
    "    return binned_x_i, density_list"
   ]
  },
  {
   "cell_type": "code",
   "execution_count": 3,
   "id": "cf8e463d",
   "metadata": {
    "scrolled": true
   },
   "outputs": [],
   "source": [
    "ddi = pd.read_csv('edge.csv.gz', compression='gzip',names=['node1','node2'])"
   ]
  },
  {
   "cell_type": "code",
   "execution_count": 20,
   "id": "c7690f97",
   "metadata": {
    "scrolled": true
   },
   "outputs": [
    {
     "name": "stderr",
     "output_type": "stream",
     "text": [
      "/home/chatterjee.ay/.conda/envs/topology/lib/python3.7/site-packages/ipykernel_launcher.py:77: UserWarning: you are shuffling a 'Tensor' object which is not a subclass of 'Sequence'; `shuffle` is not guaranteed to behave correctly. E.g., non-numpy array/tensor objects with view semantics may contain duplicates after shuffling.\n",
      "/home/chatterjee.ay/.conda/envs/topology/lib/python3.7/site-packages/ipykernel_launcher.py:78: UserWarning: you are shuffling a 'Tensor' object which is not a subclass of 'Sequence'; `shuffle` is not guaranteed to behave correctly. E.g., non-numpy array/tensor objects with view semantics may contain duplicates after shuffling.\n",
      "100%|████████████████████████████████████████████████████████████████████████████████████████████████████████████████████████████████████████████████████████████████████████████████████████████████████████████████████████████████████| 13349/13349 [01:10<00:00, 189.78it/s]\n",
      "100%|████████████████████████████████████████████████████████████████████████████████████████████████████████████████████████████████████████████████████████████████████████████████████████████████████████████████████████████████████| 13349/13349 [01:10<00:00, 189.94it/s]\n",
      "100%|████████████████████████████████████████████████████████████████████████████████████████████████████████████████████████████████████████████████████████████████████████████████████████████████████████████████████████████████████| 13349/13349 [01:10<00:00, 189.66it/s]\n",
      "100%|████████████████████████████████████████████████████████████████████████████████████████████████████████████████████████████████████████████████████████████████████████████████████████████████████████████████████████████████████| 13349/13349 [01:10<00:00, 188.51it/s]\n",
      "100%|████████████████████████████████████████████████████████████████████████████████████████████████████████████████████████████████████████████████████████████████████████████████████████████████████████████████████████████████████| 13349/13349 [01:44<00:00, 127.88it/s]\n",
      "100%|█████████████████████████████████████████████████████████████████████████████████████████████████████████████████████████████████████████████████████████████████████████████████████████████████████████████████████████████████████| 13349/13349 [04:19<00:00, 51.39it/s]\n",
      "100%|█████████████████████████████████████████████████████████████████████████████████████████████████████████████████████████████████████████████████████████████████████████████████████████████████████████████████████████████████████| 13349/13349 [05:49<00:00, 38.23it/s]\n",
      "100%|█████████████████████████████████████████████████████████████████████████████████████████████████████████████████████████████████████████████████████████████████████████████████████████████████████████████████████████████████████| 13349/13349 [06:15<00:00, 35.55it/s]\n",
      "100%|█████████████████████████████████████████████████████████████████████████████████████████████████████████████████████████████████████████████████████████████████████████████████████████████████████████████████████████████████████| 13349/13349 [08:21<00:00, 26.59it/s]\n",
      "100%|█████████████████████████████████████████████████████████████████████████████████████████████████████████████████████████████████████████████████████████████████████████████████████████████████████████████████████████████████████| 13349/13349 [12:57<00:00, 17.17it/s]\n"
     ]
    },
    {
     "name": "stdout",
     "output_type": "stream",
     "text": [
      "Test AUC: 0.7518\n",
      "Test AP: 0.6827\n"
     ]
    }
   ],
   "source": [
    "# Generate a synthetic graph for demonstration\n",
    "# You can replace this with your own NetworkX graph\n",
    "graph = nx.from_edgelist(list(zip(ddi['node1'],ddi['node2'])))\n",
    "num_nodes = graph.number_of_nodes()\n",
    "\n",
    "# Create positive and negative links for training and evaluation\n",
    "edges = list(graph.edges)\n",
    "non_edges = list(nx.non_edges(graph))\n",
    "np.random.shuffle(edges)\n",
    "np.random.shuffle(non_edges)\n",
    "\n",
    "# Ensure an equal number of positive and negative samples\n",
    "num_samples = min(len(edges), len(non_edges))\n",
    "edges = edges[:num_samples]\n",
    "non_edges = non_edges[:num_samples]\n",
    "\n",
    "# Split data into train and test sets\n",
    "train_edges, test_edges = train_test_split(edges, test_size=0.2, random_state=42)\n",
    "train_non_edges, test_non_edges = train_test_split(non_edges, test_size=0.2, random_state=42)\n",
    "\n",
    "# Convert graph data to PyTorch tensors\n",
    "train_edges = torch.LongTensor(train_edges)\n",
    "test_edges = torch.LongTensor(test_edges)\n",
    "train_non_edges = torch.LongTensor(train_non_edges)\n",
    "test_non_edges = torch.LongTensor(test_non_edges)\n",
    "\n",
    "# Define a GraphSAGE model\n",
    "class GraphSAGE(nn.Module):\n",
    "    def __init__(self, num_nodes, embedding_dim):\n",
    "        super(GraphSAGE, self).__init__()\n",
    "        self.embedding_dim = embedding_dim\n",
    "        \n",
    "        # Embedding layer\n",
    "        self.embedding = nn.Embedding(num_nodes, embedding_dim)\n",
    "        \n",
    "        # Aggregation layer\n",
    "        self.aggregation = nn.Linear(embedding_dim * 2, embedding_dim)\n",
    "        \n",
    "    def forward(self, nodes, neighbor_nodes):\n",
    "        # Node embeddings\n",
    "        node_embeddings = self.embedding(nodes)\n",
    "        \n",
    "        # Neighbor embeddings\n",
    "        neighbor_embeddings = self.embedding(neighbor_nodes)\n",
    "        \n",
    "        # Aggregate neighbor embeddings\n",
    "        aggregated = torch.cat([node_embeddings, neighbor_embeddings], dim=-1)\n",
    "        \n",
    "        # Apply aggregation layer\n",
    "        aggregated = self.aggregation(aggregated)\n",
    "        \n",
    "        return aggregated\n",
    "\n",
    "# Define a decoder for binary classification\n",
    "class LinkPredictionDecoder(nn.Module):\n",
    "    def __init__(self, embedding_dim):\n",
    "        super(LinkPredictionDecoder, self).__init__()\n",
    "        self.fc = nn.Linear(embedding_dim, 1)\n",
    "        self.sigmoid = nn.Sigmoid()\n",
    "        \n",
    "    def forward(self, embeddings):\n",
    "        output = self.fc(embeddings)\n",
    "        return self.sigmoid(output)\n",
    "\n",
    "# Initialize the model, decoder, and optimizer\n",
    "embedding_dim = 128\n",
    "model = GraphSAGE(num_nodes, embedding_dim)\n",
    "decoder = LinkPredictionDecoder(embedding_dim)\n",
    "optimizer = optim.Adam(list(model.parameters()) + list(decoder.parameters()), lr=0.01)\n",
    "\n",
    "# Training loop\n",
    "num_epochs = 10\n",
    "batch_size = 64\n",
    "\n",
    "for epoch in range(num_epochs):\n",
    "    model.train()\n",
    "    np.random.shuffle(train_edges)\n",
    "    np.random.shuffle(train_non_edges)\n",
    "    \n",
    "    for i in tqdm(range(0, len(train_edges), batch_size)):\n",
    "        batch_edges = train_edges[i:i+batch_size]\n",
    "        batch_non_edges = train_non_edges[i:i+batch_size]\n",
    "        \n",
    "        # Positive samples\n",
    "        pos_nodes = torch.cat([batch_edges[:, 0], batch_edges[:, 1]])\n",
    "        pos_neighbors = torch.cat([batch_edges[:, 1], batch_edges[:, 0]])\n",
    "        \n",
    "        # Negative samples\n",
    "        neg_nodes = torch.cat([batch_non_edges[:, 0], batch_non_edges[:, 1]])\n",
    "        neg_neighbors = torch.cat([batch_non_edges[:, 1], batch_non_edges[:, 0]])\n",
    "        \n",
    "        # Forward pass through GraphSAGE\n",
    "        pos_embeddings = model(pos_nodes, pos_neighbors)\n",
    "        neg_embeddings = model(neg_nodes, neg_neighbors)\n",
    "        \n",
    "        # Forward pass through the decoder\n",
    "        pos_output = decoder(pos_embeddings)\n",
    "        neg_output = decoder(neg_embeddings)\n",
    "        \n",
    "        # Calculate loss\n",
    "        labels = torch.cat([torch.ones(pos_output.size(0)), torch.zeros(neg_output.size(0))])\n",
    "        logits = torch.cat([pos_output, neg_output]).squeeze()\n",
    "        loss = nn.BCELoss()(logits, labels)\n",
    "        \n",
    "        # Backpropagation\n",
    "        optimizer.zero_grad()\n",
    "        loss.backward()\n",
    "        optimizer.step()\n",
    "\n",
    "# Evaluation\n",
    "model.eval()\n",
    "decoder.eval()\n",
    "test_pos_embeddings = model(test_edges[:, 0], test_edges[:, 1])\n",
    "test_neg_embeddings = model(test_non_edges[:, 0], test_non_edges[:, 1])\n",
    "\n",
    "# Forward pass through the decoder for test data\n",
    "test_pos_output = decoder(test_pos_embeddings).detach().numpy()\n",
    "test_neg_output = decoder(test_neg_embeddings).detach().numpy()\n",
    "\n",
    "# Concatenate the predictions and true labels\n",
    "predictions = np.concatenate([test_pos_output, test_neg_output])\n",
    "true_labels = np.concatenate([np.ones_like(test_pos_output), np.zeros_like(test_neg_output)])\n",
    "\n",
    "# Calculate ROC AUC and AP for binary classification\n",
    "auc = roc_auc_score(true_labels, predictions)\n",
    "ap = average_precision_score(true_labels, predictions)\n",
    "\n",
    "print(f'Test AUC: {auc:.4f}')\n",
    "print(f'Test AP: {ap:.4f}')\n"
   ]
  },
  {
   "cell_type": "code",
   "execution_count": 21,
   "id": "5df1722b",
   "metadata": {},
   "outputs": [],
   "source": [
    "graph_train = nx.from_edgelist(train_edges.tolist())\n",
    "graph_test = nx.from_edgelist(test_edges.tolist())"
   ]
  },
  {
   "cell_type": "code",
   "execution_count": 22,
   "id": "abc383dc",
   "metadata": {},
   "outputs": [
    {
     "name": "stderr",
     "output_type": "stream",
     "text": [
      "100%|███████████████████████████████████████████████████████████████████████████████████████████████████████████████████████████████████████████████████████████████████████████████████████████████████████████████████████████████████| 3065/3065 [00:00<00:00, 282893.77it/s]\n"
     ]
    }
   ],
   "source": [
    "degree_dict = dict()\n",
    "for node in tqdm(graph_train.nodes()):\n",
    "    degree_dict[node] = graph_train.degree(node)"
   ]
  },
  {
   "cell_type": "code",
   "execution_count": 23,
   "id": "81cab8c3",
   "metadata": {
    "scrolled": true
   },
   "outputs": [],
   "source": [
    "test_df = pd.DataFrame()\n",
    "test_df['node1'] = [x[0] for x in test_edges.tolist()] + [x[0] for x in test_non_edges.tolist()]\n",
    "test_df['node2'] = [x[1] for x in test_edges.tolist()] + [x[1] for x in test_non_edges.tolist()]\n",
    "test_df['labels'] = [x[0] for x in list(true_labels)]\n",
    "test_df['pred'] = [x[0] for x in list(predictions)]"
   ]
  },
  {
   "cell_type": "code",
   "execution_count": 24,
   "id": "dcedc080",
   "metadata": {},
   "outputs": [
    {
     "name": "stderr",
     "output_type": "stream",
     "text": [
      "427166it [00:43, 9863.25it/s] \n"
     ]
    }
   ],
   "source": [
    "deg1 = []\n",
    "deg2 = []\n",
    "for index, row in tqdm(test_df.iterrows()):\n",
    "    n1 = int(row['node1'])\n",
    "    n2 = int(row['node2'])\n",
    "    if n1 in degree_dict.keys():\n",
    "        deg1.append(degree_dict[n1])\n",
    "    else:\n",
    "        deg1.append(0)\n",
    "    if n2 in degree_dict.keys():\n",
    "        deg2.append(degree_dict[n2])\n",
    "    else:\n",
    "        deg2.append(0)"
   ]
  },
  {
   "cell_type": "code",
   "execution_count": 25,
   "id": "0adb80cd",
   "metadata": {},
   "outputs": [],
   "source": [
    "test_df['d1'] = deg1\n",
    "test_df['d2'] = deg2"
   ]
  },
  {
   "cell_type": "code",
   "execution_count": 26,
   "id": "5b3e8f2e",
   "metadata": {},
   "outputs": [],
   "source": [
    "test_df = test_df.drop_duplicates(['node1','node2'])"
   ]
  },
  {
   "cell_type": "code",
   "execution_count": 27,
   "id": "e7e405f6",
   "metadata": {},
   "outputs": [],
   "source": [
    "test_df_transductive = test_df[(test_df['d1'] != 'NA') & (test_df['d2'] != 'NA')]"
   ]
  },
  {
   "cell_type": "code",
   "execution_count": 28,
   "id": "88a81511",
   "metadata": {},
   "outputs": [
    {
     "name": "stdout",
     "output_type": "stream",
     "text": [
      "0 20\n"
     ]
    }
   ],
   "source": [
    "print(min(test_df_transductive['d1'].tolist()+test_df_transductive['d2'].tolist()),max(test_df_transductive['d1'].tolist()+test_df_transductive['d2'].tolist()))"
   ]
  },
  {
   "cell_type": "code",
   "execution_count": 29,
   "id": "4ab5982f",
   "metadata": {},
   "outputs": [
    {
     "data": {
      "image/png": "[encoded data removed]",
      "text/plain": [
       "<Figure size 1800x1200 with 1 Axes>"
      ]
     },
     "metadata": {
      "needs_background": "light"
     },
     "output_type": "display_data"
    }
   ],
   "source": [
    "degree_list = list(test_df_transductive['d1'].tolist()+test_df_transductive['d2'].tolist())\n",
    "binned_k, pdf = log_binning_distribution(degree_list, B = 20)\n",
    "plt.figure(dpi=300)\n",
    "plt.loglog(binned_k,pdf,'o')\n",
    "plt.show()"
   ]
  },
  {
   "cell_type": "code",
   "execution_count": 30,
   "id": "be574eab",
   "metadata": {},
   "outputs": [],
   "source": [
    "test_df_transductive_zero_deg = test_df_transductive[(test_df_transductive['d1'] == 0) & (test_df_transductive['d2'] == 0)]"
   ]
  },
  {
   "cell_type": "code",
   "execution_count": 31,
   "id": "e32318ac",
   "metadata": {},
   "outputs": [
    {
     "name": "stdout",
     "output_type": "stream",
     "text": [
      "Test AUC: 0.5115\n",
      "Test AP: 0.0457\n"
     ]
    }
   ],
   "source": [
    "auc = roc_auc_score(test_df_transductive_zero_deg['labels'], test_df_transductive_zero_deg['pred'])\n",
    "ap = average_precision_score(test_df_transductive_zero_deg['labels'], test_df_transductive_zero_deg['pred'])\n",
    "\n",
    "print(f'Test AUC: {auc:.4f}')\n",
    "print(f'Test AP: {ap:.4f}')"
   ]
  },
  {
   "cell_type": "code",
   "execution_count": 32,
   "id": "6d41a00b",
   "metadata": {
    "scrolled": true
   },
   "outputs": [],
   "source": [
    "test_df_transductive_low_deg = test_df_transductive[(test_df_transductive['d1'] == 1) & (test_df_transductive['d2'] == 1)]"
   ]
  },
  {
   "cell_type": "code",
   "execution_count": 33,
   "id": "89c5cb97",
   "metadata": {},
   "outputs": [
    {
     "name": "stdout",
     "output_type": "stream",
     "text": [
      "Test AUC: 0.5685\n",
      "Test AP: 0.3396\n"
     ]
    }
   ],
   "source": [
    "auc = roc_auc_score(test_df_transductive_low_deg['labels'], test_df_transductive_low_deg['pred'])\n",
    "ap = average_precision_score(test_df_transductive_low_deg['labels'], test_df_transductive_low_deg['pred'])\n",
    "\n",
    "print(f'Test AUC: {auc:.4f}')\n",
    "print(f'Test AP: {ap:.4f}')"
   ]
  },
  {
   "cell_type": "code",
   "execution_count": 34,
   "id": "46e0067a",
   "metadata": {},
   "outputs": [],
   "source": [
    "test_df_transductive_high_deg = test_df_transductive[(test_df_transductive['d1'] >= 2) | (test_df_transductive['d2'] >= 2)]"
   ]
  },
  {
   "cell_type": "code",
   "execution_count": 35,
   "id": "a8c8a1d2",
   "metadata": {
    "scrolled": true
   },
   "outputs": [
    {
     "name": "stdout",
     "output_type": "stream",
     "text": [
      "Test AUC: 0.7252\n",
      "Test AP: 0.6954\n"
     ]
    }
   ],
   "source": [
    "auc = roc_auc_score(test_df_transductive_high_deg['labels'], test_df_transductive_high_deg['pred'])\n",
    "ap = average_precision_score(test_df_transductive_high_deg['labels'], test_df_transductive_high_deg['pred'])\n",
    "\n",
    "print(f'Test AUC: {auc:.4f}')\n",
    "print(f'Test AP: {ap:.4f}')"
   ]
  },
  {
   "cell_type": "code",
   "execution_count": null,
   "id": "f6ae1642",
   "metadata": {},
   "outputs": [],
   "source": []
  },
  {
   "cell_type": "code",
   "execution_count": null,
   "id": "63eb53e0",
   "metadata": {},
   "outputs": [],
   "source": []
  }
 ],
 "metadata": {
  "kernelspec": {
   "display_name": "topology",
   "language": "python",
   "name": "topology"
  },
  "language_info": {
   "codemirror_mode": {
    "name": "ipython",
    "version": 3
   },
   "file_extension": ".py",
   "mimetype": "text/x-python",
   "name": "python",
   "nbconvert_exporter": "python",
   "pygments_lexer": "ipython3",
   "version": "3.7.13"
  }
 },
 "nbformat": 4,
 "nbformat_minor": 5
}
