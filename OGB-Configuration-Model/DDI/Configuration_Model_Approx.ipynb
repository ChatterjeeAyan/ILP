{
 "cells": [
  {
   "cell_type": "code",
   "execution_count": 1,
   "id": "072a6688",
   "metadata": {},
   "outputs": [],
   "source": [
    "import argparse\n",
    "\n",
    "import torch\n",
    "import torch.nn.functional as F\n",
    "from torch.utils.data import DataLoader\n",
    "\n",
    "from ogb.linkproppred import PygLinkPropPredDataset, Evaluator\n",
    "\n",
    "from logger import Logger\n",
    "\n",
    "import numpy as np\n",
    "\n",
    "import pandas as pd\n",
    "\n",
    "import networkx as nx\n",
    "from tqdm import tqdm\n",
    "from scipy.spatial.distance import squareform\n",
    "from matplotlib.pyplot import figure\n",
    "import seaborn as sns\n",
    "from sklearn.model_selection import train_test_split"
   ]
  },
  {
   "cell_type": "code",
   "execution_count": 2,
   "id": "81698237",
   "metadata": {
    "scrolled": true
   },
   "outputs": [],
   "source": [
    "dataset = PygLinkPropPredDataset(name='ogbl-collab')\n",
    "split_edge = dataset.get_edge_split()\n",
    "data = dataset[0]"
   ]
  },
  {
   "cell_type": "code",
   "execution_count": 3,
   "id": "a3809a54",
   "metadata": {},
   "outputs": [
    {
     "data": {
      "text/plain": [
       "Data(num_nodes=235868, edge_index=[2, 2358104], x=[235868, 128], edge_weight=[2358104, 1], edge_year=[2358104, 1])"
      ]
     },
     "execution_count": 3,
     "metadata": {},
     "output_type": "execute_result"
    }
   ],
   "source": [
    "data"
   ]
  },
  {
   "cell_type": "code",
   "execution_count": 4,
   "id": "59e5e1d8",
   "metadata": {},
   "outputs": [],
   "source": [
    "device = f'cuda:{args.device}' if torch.cuda.is_available() else 'cpu'\n",
    "device = torch.device(device)"
   ]
  },
  {
   "cell_type": "code",
   "execution_count": 5,
   "id": "87b3a4f6",
   "metadata": {},
   "outputs": [
    {
     "data": {
      "text/plain": [
       "device(type='cpu')"
      ]
     },
     "execution_count": 5,
     "metadata": {},
     "output_type": "execute_result"
    }
   ],
   "source": [
    "device"
   ]
  },
  {
   "cell_type": "code",
   "execution_count": 6,
   "id": "80fc311d",
   "metadata": {},
   "outputs": [],
   "source": [
    "x = data.x\n",
    "pos_train_edge = split_edge['train']['edge'].to(x.device)\n",
    "pos_valid_edge = split_edge['valid']['edge'].to(x.device)\n",
    "neg_valid_edge = split_edge['valid']['edge_neg'].to(x.device)\n",
    "pos_test_edge = split_edge['test']['edge'].to(x.device)\n",
    "neg_test_edge = split_edge['test']['edge_neg'].to(x.device)"
   ]
  },
  {
   "cell_type": "code",
   "execution_count": 7,
   "id": "5a63f5c5",
   "metadata": {},
   "outputs": [],
   "source": [
    "pos_train_edge_df = pd.DataFrame(pos_train_edge.numpy())\n",
    "pos_valid_edge_df = pd.DataFrame(pos_valid_edge.numpy())\n",
    "neg_valid_edge_df = pd.DataFrame(neg_valid_edge.numpy())\n",
    "pos_test_edge_df = pd.DataFrame(pos_test_edge.numpy())\n",
    "neg_test_edge_df = pd.DataFrame(neg_test_edge.numpy())"
   ]
  },
  {
   "cell_type": "code",
   "execution_count": 8,
   "id": "7f5847f4",
   "metadata": {},
   "outputs": [
    {
     "name": "stdout",
     "output_type": "stream",
     "text": [
      "Nodes in training:  235868\n"
     ]
    }
   ],
   "source": [
    "pos_train_nodes = list(set(pos_train_edge_df[0]).union(set(pos_train_edge_df[1])))\n",
    "print('Nodes in training: ', len(pos_train_nodes))"
   ]
  },
  {
   "cell_type": "code",
   "execution_count": 9,
   "id": "e5deb39d",
   "metadata": {},
   "outputs": [],
   "source": [
    "G_ddi = nx.from_pandas_edgelist(pos_train_edge_df, 0, 1, create_using=nx.Graph())"
   ]
  },
  {
   "cell_type": "code",
   "execution_count": 10,
   "id": "1f454b10",
   "metadata": {},
   "outputs": [],
   "source": [
    "k_train = np.array([[G_ddi.degree(k) if k in G_ddi.nodes else 0 for k in G_ddi.nodes]]).T"
   ]
  },
  {
   "cell_type": "code",
   "execution_count": 11,
   "id": "15431870",
   "metadata": {},
   "outputs": [],
   "source": [
    "G_ddi_nodes = list(G_ddi.nodes)"
   ]
  },
  {
   "cell_type": "code",
   "execution_count": 12,
   "id": "464b7302",
   "metadata": {},
   "outputs": [],
   "source": [
    "k_train_list = list(k_train)"
   ]
  },
  {
   "cell_type": "code",
   "execution_count": 18,
   "id": "a30bdb5f",
   "metadata": {},
   "outputs": [
    {
     "name": "stderr",
     "output_type": "stream",
     "text": [
      "46329it [1:14:29, 10.37it/s]\n"
     ]
    }
   ],
   "source": [
    "pos_test_edge_pred = []\n",
    "inductive_count = 0\n",
    "\n",
    "for index, row in tqdm(pos_test_edge_df.iterrows()):\n",
    "    try:\n",
    "        node_0 = row[0]\n",
    "        node_1 = row[1]\n",
    "        k_0 = k_train_list[G_ddi_nodes.index(node_0)]\n",
    "        k_1 = k_train_list[G_ddi_nodes.index(node_1)]\n",
    "        pos_test_edge_pred.append(k_0*k_1/(sum(k_train_list))) ## sum of degrees = 2 * number of edges \n",
    "        \n",
    "    except:\n",
    "        inductive_count = inductive_count + 1"
   ]
  },
  {
   "cell_type": "code",
   "execution_count": 19,
   "id": "93281eeb",
   "metadata": {},
   "outputs": [
    {
     "name": "stderr",
     "output_type": "stream",
     "text": [
      "100000it [2:57:00,  9.42it/s]\n"
     ]
    }
   ],
   "source": [
    "neg_test_edge_pred = []\n",
    "#inductive_count_neg = 0\n",
    "\n",
    "for index, row in tqdm(neg_test_edge_df.iterrows()):\n",
    "    try:\n",
    "        node_0 = row[0]\n",
    "        node_1 = row[1]\n",
    "        k_0 = k_train_list[G_ddi_nodes.index(node_0)]\n",
    "        k_1 = k_train_list[G_ddi_nodes.index(node_1)]\n",
    "        neg_test_edge_pred.append(k_0*k_1/(sum(k_train_list))) ## sum of degrees = 2 * number of edges \n",
    "        \n",
    "    except:\n",
    "        inductive_count = inductive_count + 1"
   ]
  },
  {
   "cell_type": "code",
   "execution_count": 20,
   "id": "f5369a5e",
   "metadata": {
    "scrolled": false
   },
   "outputs": [],
   "source": [
    "evaluator = Evaluator(name='ogbl-ddi')"
   ]
  },
  {
   "cell_type": "code",
   "execution_count": 25,
   "id": "f38ff3db",
   "metadata": {},
   "outputs": [],
   "source": [
    "K = 20\n",
    "test_hits = evaluator.eval({\n",
    "            'y_pred_pos': np.array(pos_test_edge_pred).reshape(len(pos_test_edge_pred)),\n",
    "            'y_pred_neg': np.array(neg_test_edge_pred).reshape(len(neg_test_edge_pred)),\n",
    "        })[f'hits@{K}']"
   ]
  },
  {
   "cell_type": "code",
   "execution_count": 26,
   "id": "23d2ea5c",
   "metadata": {},
   "outputs": [
    {
     "data": {
      "text/plain": [
       "0.04806924388611884"
      ]
     },
     "execution_count": 26,
     "metadata": {},
     "output_type": "execute_result"
    }
   ],
   "source": [
    "test_hits"
   ]
  },
  {
   "cell_type": "code",
   "execution_count": 28,
   "id": "02fbd245",
   "metadata": {},
   "outputs": [
    {
     "name": "stdout",
     "output_type": "stream",
     "text": [
      "Total edge pairs not found:  45\n"
     ]
    }
   ],
   "source": [
    "print('Total edge pairs not found: ', inductive_count)"
   ]
  },
  {
   "cell_type": "code",
   "execution_count": 33,
   "id": "d104f55a",
   "metadata": {},
   "outputs": [],
   "source": [
    "from sklearn import metrics"
   ]
  },
  {
   "cell_type": "code",
   "execution_count": 34,
   "id": "452af4f7",
   "metadata": {},
   "outputs": [
    {
     "data": {
      "text/plain": [
       "0.8628438284071926"
      ]
     },
     "execution_count": 34,
     "metadata": {},
     "output_type": "execute_result"
    }
   ],
   "source": [
    "fpr, tpr, thresholds = metrics.roc_curve([1] * len(pos_test_edge_pred) + [0] * len(neg_test_edge_pred), pos_test_edge_pred + neg_test_edge_pred)\n",
    "metrics.auc(fpr, tpr)"
   ]
  },
  {
   "cell_type": "code",
   "execution_count": 36,
   "id": "6e947a1f",
   "metadata": {},
   "outputs": [],
   "source": [
    "from sklearn.metrics import average_precision_score"
   ]
  },
  {
   "cell_type": "code",
   "execution_count": 37,
   "id": "bb03f769",
   "metadata": {},
   "outputs": [
    {
     "data": {
      "text/plain": [
       "0.7838922212381295"
      ]
     },
     "execution_count": 37,
     "metadata": {},
     "output_type": "execute_result"
    }
   ],
   "source": [
    "average_precision_score([1] * len(pos_test_edge_pred) + [0] * len(neg_test_edge_pred), pos_test_edge_pred + neg_test_edge_pred)"
   ]
  },
  {
   "cell_type": "code",
   "execution_count": null,
   "id": "72c87a1b",
   "metadata": {},
   "outputs": [],
   "source": []
  }
 ],
 "metadata": {
  "kernelspec": {
   "display_name": "topology",
   "language": "python",
   "name": "topology"
  },
  "language_info": {
   "codemirror_mode": {
    "name": "ipython",
    "version": 3
   },
   "file_extension": ".py",
   "mimetype": "text/x-python",
   "name": "python",
   "nbconvert_exporter": "python",
   "pygments_lexer": "ipython3",
   "version": "3.7.13"
  }
 },
 "nbformat": 4,
 "nbformat_minor": 5
}
