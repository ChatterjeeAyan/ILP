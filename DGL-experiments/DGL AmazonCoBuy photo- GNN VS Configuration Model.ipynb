{
 "cells": [
  {
   "cell_type": "code",
   "execution_count": 3,
   "metadata": {},
   "outputs": [],
   "source": [
    "import dgl\n",
    "import torch\n",
    "import torch.nn as nn\n",
    "import torch.nn.functional as F\n",
    "import itertools\n",
    "import numpy as np\n",
    "import scipy.sparse as sp\n",
    "import tensorflow as tf\n",
    "from tqdm import tqdm"
   ]
  },
  {
   "cell_type": "code",
   "execution_count": 1,
   "metadata": {},
   "outputs": [
    {
     "name": "stderr",
     "output_type": "stream",
     "text": [
      "Using backend: pytorch\n",
      "C:\\Users\\Ayan\\anaconda3\\lib\\site-packages\\dgl\\data\\utils.py:293: UserWarning: Class AmazonCoBuy will be deprecated, please use AmazonCoBuyPhotoDataset instead.\n",
      "  warnings.warn('Class {} will be deprecated, please use {} instead.'.format(old, new))\n"
     ]
    },
    {
     "name": "stdout",
     "output_type": "stream",
     "text": [
      "Downloading C:\\Users\\Ayan\\.dgl\\amazon_co_buy_photo.zip from https://data.dgl.ai/dataset/amazon_co_buy_photo.zip...\n",
      "Extracting file to C:\\Users\\Ayan\\.dgl\\amazon_co_buy_photo\n"
     ]
    }
   ],
   "source": [
    "import dgl.data\n",
    "\n",
    "dataset = dgl.data.AmazonCoBuy('photo')\n",
    "g = dataset[0]"
   ]
  },
  {
   "cell_type": "code",
   "execution_count": 4,
   "metadata": {},
   "outputs": [],
   "source": [
    "# Split edge set for training and testing\n",
    "u, v = g.edges()\n",
    "\n",
    "eids = np.arange(g.number_of_edges())\n",
    "eids = np.random.permutation(eids)\n",
    "test_size = int(len(eids) * 0.1)\n",
    "train_size = g.number_of_edges() - test_size\n",
    "test_pos_u, test_pos_v = u[eids[:test_size]], v[eids[:test_size]]\n",
    "train_pos_u, train_pos_v = u[eids[test_size:]], v[eids[test_size:]]\n",
    "\n",
    "# Find all negative edges and split them for training and testing\n",
    "adj = sp.coo_matrix((np.ones(len(u)), (u.numpy(), v.numpy())))\n",
    "adj_neg = 1 - adj.todense() - np.eye(g.number_of_nodes())\n",
    "neg_u, neg_v = np.where(adj_neg != 0)\n",
    "\n",
    "neg_eids = np.random.choice(len(neg_u), g.number_of_edges() // 2)\n",
    "test_neg_u, test_neg_v = neg_u[neg_eids[:test_size]], neg_v[neg_eids[:test_size]]\n",
    "train_neg_u, train_neg_v = neg_u[neg_eids[test_size:]], neg_v[neg_eids[test_size:]]"
   ]
  },
  {
   "cell_type": "code",
   "execution_count": 5,
   "metadata": {},
   "outputs": [],
   "source": [
    "train_g = dgl.remove_edges(g, eids[:test_size])"
   ]
  },
  {
   "cell_type": "code",
   "execution_count": 6,
   "metadata": {},
   "outputs": [],
   "source": [
    "from dgl.nn import SAGEConv\n",
    "\n",
    "# ----------- 2. create model -------------- #\n",
    "# build a two-layer GraphSAGE model\n",
    "class GraphSAGE(nn.Module):\n",
    "    def __init__(self, in_feats, h_feats):\n",
    "        super(GraphSAGE, self).__init__()\n",
    "        self.conv1 = SAGEConv(in_feats, h_feats, 'mean')\n",
    "        self.conv2 = SAGEConv(h_feats, h_feats, 'mean')\n",
    "\n",
    "    def forward(self, g, in_feat):\n",
    "        h = self.conv1(g, in_feat)\n",
    "        h = F.relu(h)\n",
    "        h = self.conv2(g, h)\n",
    "        return h"
   ]
  },
  {
   "cell_type": "code",
   "execution_count": 7,
   "metadata": {},
   "outputs": [],
   "source": [
    "train_pos_g = dgl.graph((train_pos_u, train_pos_v), num_nodes=g.number_of_nodes())\n",
    "train_neg_g = dgl.graph((train_neg_u, train_neg_v), num_nodes=g.number_of_nodes())\n",
    "\n",
    "test_pos_g = dgl.graph((test_pos_u, test_pos_v), num_nodes=g.number_of_nodes())\n",
    "test_neg_g = dgl.graph((test_neg_u, test_neg_v), num_nodes=g.number_of_nodes())"
   ]
  },
  {
   "cell_type": "code",
   "execution_count": 8,
   "metadata": {},
   "outputs": [],
   "source": [
    "import dgl.function as fn\n",
    "\n",
    "class DotPredictor(nn.Module):\n",
    "    def forward(self, g, h):\n",
    "        with g.local_scope():\n",
    "            g.ndata['h'] = h\n",
    "            # Compute a new edge feature named 'score' by a dot-product between the\n",
    "            # source node feature 'h' and destination node feature 'h'.\n",
    "            g.apply_edges(fn.u_dot_v('h', 'h', 'score'))\n",
    "            # u_dot_v returns a 1-element vector for each edge so you need to squeeze it.\n",
    "            return g.edata['score'][:, 0]"
   ]
  },
  {
   "cell_type": "code",
   "execution_count": 9,
   "metadata": {},
   "outputs": [],
   "source": [
    "class MLPPredictor(nn.Module):\n",
    "    def __init__(self, h_feats):\n",
    "        super().__init__()\n",
    "        self.W1 = nn.Linear(h_feats * 2, h_feats)\n",
    "        self.W2 = nn.Linear(h_feats, 1)\n",
    "\n",
    "    def apply_edges(self, edges):\n",
    "        \"\"\"\n",
    "        Computes a scalar score for each edge of the given graph.\n",
    "\n",
    "        Parameters\n",
    "        ----------\n",
    "        edges :\n",
    "            Has three members ``src``, ``dst`` and ``data``, each of\n",
    "            which is a dictionary representing the features of the\n",
    "            source nodes, the destination nodes, and the edges\n",
    "            themselves.\n",
    "\n",
    "        Returns\n",
    "        -------\n",
    "        dict\n",
    "            A dictionary of new edge features.\n",
    "        \"\"\"\n",
    "        h = torch.cat([edges.src['h'], edges.dst['h']], 1)\n",
    "        return {'score': self.W2(F.relu(self.W1(h))).squeeze(1)}\n",
    "\n",
    "    def forward(self, g, h):\n",
    "        with g.local_scope():\n",
    "            g.ndata['h'] = h\n",
    "            g.apply_edges(self.apply_edges)\n",
    "            return g.edata['score']"
   ]
  },
  {
   "cell_type": "code",
   "execution_count": 10,
   "metadata": {},
   "outputs": [],
   "source": [
    "model = GraphSAGE(train_g.ndata['feat'].shape[1], 16)\n",
    "# You can replace DotPredictor with MLPPredictor.\n",
    "#pred = MLPPredictor(16)\n",
    "pred = DotPredictor()\n",
    "\n",
    "def compute_loss(pos_score, neg_score):\n",
    "    scores = torch.cat([pos_score, neg_score])\n",
    "    labels = torch.cat([torch.ones(pos_score.shape[0]), torch.zeros(neg_score.shape[0])])\n",
    "    return F.binary_cross_entropy_with_logits(scores, labels)\n",
    "\n",
    "def compute_auc(pos_score, neg_score):\n",
    "    scores = torch.cat([pos_score, neg_score]).numpy()\n",
    "    labels = torch.cat(\n",
    "        [torch.ones(pos_score.shape[0]), torch.zeros(neg_score.shape[0])]).numpy()\n",
    "    return roc_auc_score(labels, scores)"
   ]
  },
  {
   "cell_type": "code",
   "execution_count": 11,
   "metadata": {
    "scrolled": true
   },
   "outputs": [
    {
     "name": "stdout",
     "output_type": "stream",
     "text": [
      "In epoch 0, loss: 11.238661766052246\n",
      "In epoch 5, loss: 0.6913787126541138\n",
      "In epoch 10, loss: 0.6885367035865784\n",
      "In epoch 15, loss: 0.6861371994018555\n",
      "In epoch 20, loss: 0.684246301651001\n",
      "In epoch 25, loss: 0.6827194690704346\n",
      "In epoch 30, loss: 0.6814090013504028\n",
      "In epoch 35, loss: 0.6801997423171997\n",
      "In epoch 40, loss: 0.6790041923522949\n",
      "In epoch 45, loss: 0.677757740020752\n",
      "In epoch 50, loss: 0.6764109134674072\n",
      "In epoch 55, loss: 0.6749232411384583\n",
      "In epoch 60, loss: 0.6732613444328308\n",
      "In epoch 65, loss: 0.6713944673538208\n",
      "In epoch 70, loss: 0.6692957878112793\n",
      "In epoch 75, loss: 0.6669411063194275\n",
      "In epoch 80, loss: 0.6643116474151611\n",
      "In epoch 85, loss: 0.6613947749137878\n",
      "In epoch 90, loss: 0.6581891775131226\n",
      "In epoch 95, loss: 0.6547070145606995\n",
      "AUC 0.5\n"
     ]
    }
   ],
   "source": [
    "# ----------- 3. set up loss and optimizer -------------- #\n",
    "# in this case, loss will in training loop\n",
    "optimizer = torch.optim.Adam(itertools.chain(model.parameters(), pred.parameters()), lr=0.01)\n",
    "\n",
    "# ----------- 4. training -------------------------------- #\n",
    "all_logits = []\n",
    "for e in range(100):\n",
    "    # forward\n",
    "    h = model(train_g, train_g.ndata['feat'])\n",
    "    pos_score = pred(train_pos_g, h)\n",
    "    neg_score = pred(train_neg_g, h)\n",
    "    loss = compute_loss(pos_score, neg_score)\n",
    "\n",
    "    # backward\n",
    "    optimizer.zero_grad()\n",
    "    loss.backward()\n",
    "    optimizer.step()\n",
    "\n",
    "    if e % 5 == 0:\n",
    "        print('In epoch {}, loss: {}'.format(e, loss))\n",
    "\n",
    "# ----------- 5. check results ------------------------ #\n",
    "from sklearn.metrics import roc_auc_score\n",
    "with torch.no_grad():\n",
    "    pos_score = pred(test_pos_g, h)\n",
    "    neg_score = pred(test_neg_g, h)\n",
    "    print('AUC', compute_auc(pos_score, neg_score))"
   ]
  },
  {
   "cell_type": "code",
   "execution_count": 12,
   "metadata": {},
   "outputs": [
    {
     "name": "stderr",
     "output_type": "stream",
     "text": [
      "100%|██████████████████████████████████████████████████████████████████████████████| 7534/7534 [01:32<00:00, 81.52it/s]\n",
      "100%|████████████████████████████████████████████████████████████████████████| 23816/23816 [00:00<00:00, 585040.35it/s]\n"
     ]
    }
   ],
   "source": [
    "# Test for positive edges\n",
    "\n",
    "number_of_edges = len(train_pos_g.edges()[0].numpy())\n",
    "all_edge_ends = list(train_pos_g.edges()[0].numpy()) + list(train_pos_g.edges()[1].numpy())\n",
    "\n",
    "node_degree_dict = dict()\n",
    "\n",
    "for node in tqdm(set(all_edge_ends)):\n",
    "    node_degree_dict[node] = all_edge_ends.count(node)\n",
    "    \n",
    "    \n",
    "test_list = [list(test_pos_g.edges()[0].numpy()), list(test_pos_g.edges()[1].numpy())]\n",
    "test_size = len(test_pos_g.edges()[0].numpy())\n",
    "test_pos_predicted_config = []\n",
    "\n",
    "for j in tqdm(range(test_size)):\n",
    "    if test_list[0][j] in node_degree_dict.keys() and test_list[1][j] in node_degree_dict.keys():\n",
    "        test_pos_predicted_config.append(node_degree_dict[test_list[0][j]]*node_degree_dict[test_list[1][j]]/(2*number_of_edges))\n",
    "    elif test_list[0][j] in node_degree_dict.keys():\n",
    "        test_pos_predicted_config.append(node_degree_dict[test_list[0][j]]*1/(2*number_of_edges))\n",
    "    elif test_list[1][j] in node_degree_dict.keys():\n",
    "        test_pos_predicted_config.append(1*node_degree_dict[test_list[1][j]]/(2*number_of_edges))\n",
    "    else:\n",
    "        test_pos_predicted_config.append(1/(2*number_of_edges))"
   ]
  },
  {
   "cell_type": "code",
   "execution_count": 13,
   "metadata": {},
   "outputs": [
    {
     "name": "stderr",
     "output_type": "stream",
     "text": [
      "100%|█████████████████████████████████████████████████████████████████████████████| 7650/7650 [00:39<00:00, 195.08it/s]\n",
      "100%|████████████████████████████████████████████████████████████████████████| 23816/23816 [00:00<00:00, 737778.68it/s]\n"
     ]
    }
   ],
   "source": [
    "# Test for negative edges\n",
    "\n",
    "number_of_edges = len(train_neg_g.edges()[0].numpy())\n",
    "all_edge_ends = list(train_neg_g.edges()[0].numpy()) + list(train_neg_g.edges()[1].numpy())\n",
    "\n",
    "node_degree_dict = dict()\n",
    "\n",
    "for node in tqdm(set(all_edge_ends)):\n",
    "    node_degree_dict[node] = all_edge_ends.count(node)\n",
    "    \n",
    "    \n",
    "test_list = [list(test_neg_g.edges()[0].numpy()), list(test_neg_g.edges()[1].numpy())]\n",
    "test_size = len(test_neg_g.edges()[0].numpy())\n",
    "test_neg_predicted_config = []\n",
    "\n",
    "for j in tqdm(range(test_size)):\n",
    "    if test_list[0][j] in node_degree_dict.keys() and test_list[1][j] in node_degree_dict.keys():\n",
    "        test_neg_predicted_config.append(node_degree_dict[test_list[0][j]]*node_degree_dict[test_list[1][j]]/(2*number_of_edges))\n",
    "    elif test_list[0][j] in node_degree_dict.keys():\n",
    "        test_neg_predicted_config.append(node_degree_dict[test_list[0][j]]*1/(2*number_of_edges))\n",
    "    elif test_list[1][j] in node_degree_dict.keys():\n",
    "        test_neg_predicted_config.append(1*node_degree_dict[test_list[1][j]]/(2*number_of_edges))\n",
    "    else:\n",
    "        test_neg_predicted_config.append(1/(2*number_of_edges))"
   ]
  },
  {
   "cell_type": "code",
   "execution_count": 14,
   "metadata": {},
   "outputs": [],
   "source": [
    "def compute_auc_config(pos_score, neg_score):\n",
    "    scores = pos_score + neg_score\n",
    "    labels = list(np.ones(len(pos_score))) + list(np.zeros(len(neg_score)))\n",
    "    return roc_auc_score(labels, scores)"
   ]
  },
  {
   "cell_type": "code",
   "execution_count": 15,
   "metadata": {},
   "outputs": [
    {
     "name": "stdout",
     "output_type": "stream",
     "text": [
      "AUC 0.8977270042642456\n"
     ]
    }
   ],
   "source": [
    "print('AUC', compute_auc_config(test_pos_predicted_config, test_neg_predicted_config))"
   ]
  },
  {
   "cell_type": "code",
   "execution_count": null,
   "metadata": {},
   "outputs": [],
   "source": []
  }
 ],
 "metadata": {
  "kernelspec": {
   "display_name": "Python 3",
   "language": "python",
   "name": "python3"
  },
  "language_info": {
   "codemirror_mode": {
    "name": "ipython",
    "version": 3
   },
   "file_extension": ".py",
   "mimetype": "text/x-python",
   "name": "python",
   "nbconvert_exporter": "python",
   "pygments_lexer": "ipython3",
   "version": "3.7.7"
  }
 },
 "nbformat": 4,
 "nbformat_minor": 4
}
